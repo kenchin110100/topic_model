{
 "cells": [
  {
   "cell_type": "code",
   "execution_count": 1,
   "metadata": {
    "collapsed": true
   },
   "outputs": [],
   "source": [
    "# coding: utf-8\n",
    "\"\"\"\n",
    "PRTMを使うためのコード\n",
    "\"\"\"\n",
    "from library.prtm import PRTM, Evaluation\n",
    "from filer2.filer2 import Filer\n",
    "import glob\n",
    "import numpy as np"
   ]
  },
  {
   "cell_type": "markdown",
   "metadata": {},
   "source": [
    "### 使い方のサンプル"
   ]
  },
  {
   "cell_type": "code",
   "execution_count": 2,
   "metadata": {
    "collapsed": false
   },
   "outputs": [
    {
     "name": "stdout",
     "output_type": "stream",
     "text": [
      "クラスタ数:  8\n",
      "[ 0.1385445   0.1736646   0.22633378  0.07512023  0.12524363  0.09578753\n",
      "  0.15042731  0.01487842]\n"
     ]
    }
   ],
   "source": [
    "# エッジリストの読み込み\n",
    "list_word = Filer.readtxt(\"./files/rakuten_corpus/rakuten_corpus_master/preprocessedfile/type2/forPRTM_cor/rakuten_edgelist_005105.txt\")\n",
    "list_word = [row.split(' ') for row in list_word]\n",
    "prtm = PRTM(inputpath=list_word)\n",
    "prtm.fit(n=0, flag_louvain=True, directed=False)\n",
    "\n",
    "print prtm.list_topic_prob"
   ]
  },
  {
   "cell_type": "code",
   "execution_count": 3,
   "metadata": {
    "collapsed": false
   },
   "outputs": [
    {
     "name": "stdout",
     "output_type": "stream",
     "text": [
      "トピック:  3\n",
      "==============\n",
      "サービス 0.0546482395883\n",
      "子供 0.0349019854791\n",
      "嬉しい 0.0218006287592\n",
      "用意 0.0204589780304\n",
      "欲しい 0.0181507884489\n",
      "無料 0.0175330335921\n",
      "アメニティ 0.014241640643\n",
      "充実 0.0133560532015\n",
      "ありがたい 0.0121052452214\n",
      "テレビ 0.0104643944751\n",
      "==============\n"
     ]
    }
   ],
   "source": [
    "prtm.show_topic(n=3)"
   ]
  },
  {
   "cell_type": "code",
   "execution_count": null,
   "metadata": {
    "collapsed": true
   },
   "outputs": [],
   "source": [
    "adjacency_matrix"
   ]
  }
 ],
 "metadata": {
  "kernelspec": {
   "display_name": "Python 2",
   "language": "python",
   "name": "python2"
  },
  "language_info": {
   "codemirror_mode": {
    "name": "ipython",
    "version": 2
   },
   "file_extension": ".py",
   "mimetype": "text/x-python",
   "name": "python",
   "nbconvert_exporter": "python",
   "pygments_lexer": "ipython2",
   "version": "2.7.10"
  }
 },
 "nbformat": 4,
 "nbformat_minor": 0
}
