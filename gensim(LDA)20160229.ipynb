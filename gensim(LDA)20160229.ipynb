{
 "cells": [
  {
   "cell_type": "code",
   "execution_count": 1,
   "metadata": {
    "collapsed": true
   },
   "outputs": [],
   "source": [
    "# coding: utf-8\n",
    "\"\"\"\n",
    "gensimを用いたLDA\n",
    "purityの計算\n",
    "\"\"\"\n",
    "\n",
    "from gensim import corpora, models, similarities\n",
    "import csv\n",
    "import MeCab\n",
    "import pickle\n",
    "import collections\n",
    "import numpy as np\n",
    "\n",
    "# csvファイルの読み込み\n",
    "def readcsv(path):\n",
    "    f = open(path, \"rb\")\n",
    "    dataReader = csv.reader(f)\n",
    "    arr = [row for row in dataReader]\n",
    "    return arr\n",
    "\n",
    "def writecsv(arr, path):\n",
    "    f = open(path, \"ab\")\n",
    "    dataWriter = csv.writer(f)\n",
    "    dataWriter.writerows(arr)\n",
    "    f.close()\n",
    "\n",
    "def readdump(path):\n",
    "    f = open(path, \"r\")\n",
    "    arr = pickle.load(f)\n",
    "    f.close()\n",
    "    return arr\n",
    "\n",
    "# f_measureを計算する\n",
    "def cal_f_measure(list_predict_measure):\n",
    "    # 生成したクラスタ内のカウント\n",
    "    dict_predict_cluster = collections.defaultdict(list)\n",
    "    for row in list_predict_measure:\n",
    "        dict_predict_cluster[row[0]].append(row[1])\n",
    "        \n",
    "    # もとあるクラス内のカウント\n",
    "    dict_measure_cluster = collections.defaultdict(list)\n",
    "    for row in list_predict_measure:\n",
    "        dict_measure_cluster[row[1]].append(row[0])\n",
    "    \n",
    "    # local_purityの計算\n",
    "    list_purity = []\n",
    "    for row in dict_predict_cluster.items():\n",
    "        major_class = sorted(collections.Counter(row[1]).items(), key=lambda x: x[1], reverse=True)[0][1]\n",
    "        class_num = len(row[1])\n",
    "        list_purity.append([major_class, class_num])\n",
    "    purity = float(np.sum(zip(*list_purity)[0])) / np.sum(zip(*list_purity)[1])\n",
    "    print \"Purity: \", purity\n",
    "    \n",
    "    # inverse_purityの計算\n",
    "    list_inverse_purity = []\n",
    "    for row in dict_measure_cluster.items():\n",
    "        major_class = sorted(collections.Counter(row[1]).items(), key=lambda x: x[1], reverse=True)[0][1]\n",
    "        class_num = len(row[1])\n",
    "        list_inverse_purity.append([major_class, class_num])\n",
    "    inverse_purity = float(np.sum(zip(*list_inverse_purity)[0])) / np.sum(zip(*list_inverse_purity)[1])\n",
    "    print \"Inverse Purity: \", inverse_purity\n",
    "    \n",
    "    print \"F-value: \", 2 / (1 / purity + 1 / inverse_purity)"
   ]
  },
  {
   "cell_type": "markdown",
   "metadata": {},
   "source": [
    "### コーパスの読み込み\n",
    "* 1行ずつ形態素解析して、ラベルが付いたものと、口コミごとに形態素解析しているのものの2種類を読み込む"
   ]
  },
  {
   "cell_type": "code",
   "execution_count": 2,
   "metadata": {
    "collapsed": false,
    "scrolled": true
   },
   "outputs": [],
   "source": [
    "list_sep_words = readcsv(\"./files/rakuten_corpus/rakuten_corpus_sep.csv\")"
   ]
  },
  {
   "cell_type": "markdown",
   "metadata": {},
   "source": [
    "### LDAにより、トピックの抽出\n",
    "1. 辞書の作成\n",
    "2. 辞書を用いてコーパスのマッピングをする\n",
    "3. マッピングしたコーパスを元にLDA\n",
    "4. LDAの結果を表示"
   ]
  },
  {
   "cell_type": "code",
   "execution_count": 3,
   "metadata": {
    "collapsed": false
   },
   "outputs": [
    {
     "name": "stderr",
     "output_type": "stream",
     "text": [
      "WARNING:gensim.models.ldamodel:too few updates, training might not converge; consider increasing the number of passes or iterations to improve accuracy\n"
     ]
    },
    {
     "name": "stdout",
     "output_type": "stream",
     "text": [
      "0.028*大変 + 0.019*駅 + 0.016*朝食 + 0.015*よい + 0.014*近い + 0.013*便利 + 0.013*プラン + 0.011*食事 + 0.011*対応 + 0.011*綺麗\n",
      "0.026*朝食 + 0.020*安い + 0.014*フロント + 0.012*よい + 0.012*大変 + 0.012*近い + 0.012*対応 + 0.010*温泉 + 0.010*感じ + 0.010*ない\n",
      "0.019*食事 + 0.018*満足 + 0.017*風呂 + 0.017*サービス + 0.017*対応 + 0.014*立地 + 0.013*広い + 0.011*感じ + 0.011*よい + 0.010*予約\n",
      "0.024*対応 + 0.022*フロント + 0.021*朝食 + 0.017*よい + 0.013*広い + 0.011*満足 + 0.011*食事 + 0.011*残念 + 0.010*美味しい + 0.009*料金\n",
      "0.018*朝食 + 0.017*ない + 0.016*満足 + 0.014*残念 + 0.014*広い + 0.012*風呂 + 0.011*対応 + 0.011*大変 + 0.011*快適 + 0.011*食事\n",
      "0.036*朝食 + 0.018*満足 + 0.015*駅 + 0.014*近い + 0.013*よい + 0.013*立地 + 0.012*風呂 + 0.012*対応 + 0.011*便利 + 0.011*いい\n",
      "0.021*満足 + 0.019*よい + 0.017*サービス + 0.016*立地 + 0.015*朝食 + 0.014*ない + 0.014*フロント + 0.012*対応 + 0.010*スタッフ + 0.010*出張\n"
     ]
    }
   ],
   "source": [
    "# 辞書の作成\n",
    "dictionary = corpora.Dictionary(list_sep_words)\n",
    "# コーパスをマッピングし、LDA\n",
    "corpus = [dictionary.doc2bow(text) for text in list_sep_words]\n",
    "lda = models.LdaModel(corpus=corpus, id2word=dictionary, num_topics=7)\n",
    "# p(word|topic)を表示\n",
    "for i, row in enumerate(lda.show_topics(0)):\n",
    "    print row"
   ]
  },
  {
   "cell_type": "markdown",
   "metadata": {},
   "source": [
    "### 文の予測\n",
    "1. LDAの結果から各文のクラスを予測\n",
    "2. 予測ラベルと結果ラベルのリストを作成"
   ]
  },
  {
   "cell_type": "code",
   "execution_count": 16,
   "metadata": {
    "collapsed": false
   },
   "outputs": [
    {
     "name": "stdout",
     "output_type": "stream",
     "text": [
      "エラーしたコーパス 7\n"
     ]
    }
   ],
   "source": [
    "list_predict_measure = []\n",
    "error_count = 0\n",
    "for i in range(len(corpus_1)):\n",
    "    predict_class = sorted(lda[corpus_1[i]], key=lambda x:x[1], reverse=True)[0][0]\n",
    "    measure_class = list_class[i]\n",
    "    try:\n",
    "        list_predict_measure.append([predict_class, int(measure_class)])\n",
    "    except:\n",
    "        error_count += 1\n",
    "print \"エラーしたコーパス\", error_count"
   ]
  },
  {
   "cell_type": "code",
   "execution_count": 17,
   "metadata": {
    "collapsed": false
   },
   "outputs": [
    {
     "data": {
      "text/plain": [
       "Counter({1: 963, 6: 596, 2: 457, 4: 407, 0: 355, 3: 311, 5: 265})"
      ]
     },
     "execution_count": 17,
     "metadata": {},
     "output_type": "execute_result"
    }
   ],
   "source": [
    "list_predict, list_class = zip(*list_predict_measure)\n",
    "collections.Counter(list(list_predict))"
   ]
  },
  {
   "cell_type": "markdown",
   "metadata": {},
   "source": [
    "### 定量評価 (purity)"
   ]
  },
  {
   "cell_type": "code",
   "execution_count": 18,
   "metadata": {
    "collapsed": false
   },
   "outputs": [
    {
     "name": "stdout",
     "output_type": "stream",
     "text": [
      "Purity:  0.243291592129\n",
      "Inverse Purity:  0.287119856887\n",
      "F-value:  0.263394944598\n"
     ]
    }
   ],
   "source": [
    "cal_f_measure(list_predict_measure)"
   ]
  },
  {
   "cell_type": "code",
   "execution_count": null,
   "metadata": {
    "collapsed": true
   },
   "outputs": [],
   "source": []
  }
 ],
 "metadata": {
  "kernelspec": {
   "display_name": "Python 2",
   "language": "python",
   "name": "python2"
  },
  "language_info": {
   "codemirror_mode": {
    "name": "ipython",
    "version": 2
   },
   "file_extension": ".py",
   "mimetype": "text/x-python",
   "name": "python",
   "nbconvert_exporter": "python",
   "pygments_lexer": "ipython2",
   "version": "2.7.11"
  }
 },
 "nbformat": 4,
 "nbformat_minor": 0
}
