{
 "cells": [
  {
   "cell_type": "code",
   "execution_count": 1,
   "metadata": {
    "collapsed": true
   },
   "outputs": [],
   "source": [
    "# coding: utf-8\n",
    "\"\"\"\n",
    "LDAでトピックの精度を見るためのコード\n",
    "\"\"\"\n",
    "from filer2.filer2 import Filer\n",
    "import numpy as np\n",
    "from library import lda\n",
    "from library.prtm import Evaluation\n",
    "import numpy as np"
   ]
  },
  {
   "cell_type": "code",
   "execution_count": 2,
   "metadata": {
    "collapsed": false
   },
   "outputs": [],
   "source": [
    "# 正解データの読み込み\n",
    "list_sep = Filer.readdump('./files/corpus/rakuten/all_sep.dump')\n",
    "list_label = [row[1] for row in list_sep]\n",
    "list_label_num = [row[0]-1 for row in list_sep]"
   ]
  },
  {
   "cell_type": "code",
   "execution_count": 3,
   "metadata": {
    "collapsed": false
   },
   "outputs": [
    {
     "name": "stdout",
     "output_type": "stream",
     "text": [
      "4309\n",
      "4309\n"
     ]
    }
   ],
   "source": [
    "list_master = Filer.readtxt('./files/corpus/rakuten/rakuten_corpus_for_UM.txt', LF='\\r\\n')\n",
    "list_master = [row.split(' ') for i, row in enumerate(list_master)]\n",
    "print len(list_master)\n",
    "# list_master = [row for row in list_master if row[1][0] != '\"\"']\n",
    "print len(list_master)"
   ]
  },
  {
   "cell_type": "code",
   "execution_count": 4,
   "metadata": {
    "collapsed": false
   },
   "outputs": [],
   "source": [
    "# 辞書の作成\n",
    "list_unique_word = list(set([word for row in list_master for word in row]))\n",
    "dict_word_id = {word:i for i, word in enumerate(list_unique_word)}\n",
    "dict_id_word = {i:word for i, word in enumerate(list_unique_word)}\n",
    "# コーパスの作成\n",
    "list_corpus = [[dict_word_id[word] for word in row] for row in list_master]"
   ]
  },
  {
   "cell_type": "code",
   "execution_count": 5,
   "metadata": {
    "collapsed": false,
    "scrolled": false
   },
   "outputs": [],
   "source": [
    "for K in range(3,21):\n",
    "    for num in range(10):\n",
    "        model = lda.LDA(K=K, alpha=0.01, beta=0.01, docs=list_corpus, V=len(list_unique_word))\n",
    "        lda.lda_learning(model, 1000, dict_id_word)\n",
    "        perplexity = model.perplexity()\n",
    "        list_theta = model.cal_topic()\n",
    "        list_predict = np.array([row.argmax() for row in list_theta])\n",
    "        list_predict[list_label_num]\n",
    "        eva = Evaluation()\n",
    "        dict_score = eva.cal_f_measure(list_predict, list_label)\n",
    "        list_tmp = [str(dict_score['K']), str(dict_score['fvalue']),\n",
    "                    str(dict_score['purity']), str(dict_score['invpurity']),\n",
    "                    str(perplexity)]\n",
    "        Filer.writetxt([' '.join(list_tmp)], './files/LDA_result.txt')"
   ]
  },
  {
   "cell_type": "code",
   "execution_count": 5,
   "metadata": {
    "collapsed": false
   },
   "outputs": [
    {
     "name": "stdout",
     "output_type": "stream",
     "text": [
      "3 0.815659946731\n",
      "4 0.726456087351\n",
      "5 0.670314963349\n",
      "6 0.614313533271\n",
      "7 0.603040478653\n",
      "8 0.57064942346\n",
      "9 0.537404983441\n",
      "10 0.504072256424\n",
      "11 0.494895352721\n",
      "12 0.476368808385\n",
      "13 0.45929309257\n",
      "14 0.443504079243\n",
      "15 0.431337211732\n",
      "16 0.408706409216\n",
      "17 0.382049812092\n",
      "18 0.377145916106\n",
      "19 0.359378913386\n",
      "20 0.348694838771\n",
      "21 0.334005804124\n",
      "22 0.316913031133\n",
      "23 0.306498785795\n",
      "24 0.305087490133\n",
      "25 0.287640911586\n",
      "26 0.279943274403\n",
      "27 0.280449074509\n",
      "28 0.260002973669\n",
      "29 0.254443679349\n",
      "30 0.251274536742\n",
      "31 0.239737238052\n",
      "32 0.233834588177\n",
      "33 0.237186102613\n",
      "34 0.224201382661\n",
      "35 0.218420578619\n",
      "36 0.217596690496\n",
      "37 0.207103401392\n",
      "38 0.202119189558\n",
      "39 0.201680307631\n",
      "40 0.19130984973\n",
      "41 0.183210444083\n",
      "42 0.188540180679\n",
      "43 0.176051995219\n",
      "44 0.181672272814\n",
      "45 0.174722522999\n",
      "46 0.172453169535\n",
      "47 0.166608642045\n",
      "48 0.161816179815\n",
      "49 0.163913521875\n"
     ]
    }
   ],
   "source": [
    "for K in range(3,50):\n",
    "    list_tmp = []\n",
    "    for num in range(3):\n",
    "        model = lda.LDA(K=K, alpha=0.01, beta=0.01, docs=list_corpus, V=len(list_unique_word))\n",
    "        lda.lda_learning(model, 100, dict_id_word)\n",
    "        list_tmp.append(model.cal_ave_dis())\n",
    "    print K, np.average(list_tmp)"
   ]
  },
  {
   "cell_type": "code",
   "execution_count": null,
   "metadata": {
    "collapsed": true
   },
   "outputs": [],
   "source": []
  }
 ],
 "metadata": {
  "kernelspec": {
   "display_name": "Python 2",
   "language": "python",
   "name": "python2"
  },
  "language_info": {
   "codemirror_mode": {
    "name": "ipython",
    "version": 2
   },
   "file_extension": ".py",
   "mimetype": "text/x-python",
   "name": "python",
   "nbconvert_exporter": "python",
   "pygments_lexer": "ipython2",
   "version": "2.7.9"
  }
 },
 "nbformat": 4,
 "nbformat_minor": 0
}
