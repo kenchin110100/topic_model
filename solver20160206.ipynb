{
 "cells": [
  {
   "cell_type": "code",
   "execution_count": 1,
   "metadata": {
    "collapsed": true
   },
   "outputs": [],
   "source": [
    "# coding: utf-8\n",
    "\"\"\"\n",
    "凸２次計画問題を解くための練習\n",
    "\"\"\"\n",
    "from openopt import QP\n",
    "import numpy as np"
   ]
  },
  {
   "cell_type": "code",
   "execution_count": 2,
   "metadata": {
    "collapsed": false
   },
   "outputs": [
    {
     "name": "stdout",
     "output_type": "stream",
     "text": [
      "\n",
      "------------------------- OpenOpt 0.5625 -------------------------\n",
      "problem: unnamed   type: QP\n",
      "solver: qlcp\n",
      "  iter  objFunVal  log10(maxResidual)  \n",
      "    0  0.000e+00               0.00 \n",
      "    1  0.000e+00            -100.00 \n",
      "istop: 1000\n",
      "Solver:   Time Elapsed = 0.01 \tCPU Time Elapsed = 0.0\n",
      "objFuncValue: 1.875 (feasible, MaxResidual = 0)\n",
      "x = [ 0.25  0.75]\n"
     ]
    },
    {
     "name": "stderr",
     "output_type": "stream",
     "text": [
      "/usr/local/lib/python2.7/site-packages/openopt/solvers/HongKongOpt/QPSolve.py:39: FutureWarning: comparison to `None` will result in an elementwise object comparison in the future.\n",
      "  if lb != None:\n",
      "/usr/local/lib/python2.7/site-packages/openopt/solvers/HongKongOpt/QPSolve.py:43: FutureWarning: comparison to `None` will result in an elementwise object comparison in the future.\n",
      "  A = vstack([A, -addA]) if A != None else -addA\n",
      "/usr/local/lib/python2.7/site-packages/openopt/solvers/HongKongOpt/QPSolve.py:44: FutureWarning: comparison to `None` will result in an elementwise object comparison in the future.\n",
      "  b = concatenate([b, -addb]) if b != None else -addb\n",
      "/usr/local/lib/python2.7/site-packages/openopt/solvers/HongKongOpt/QPSolve.py:45: FutureWarning: comparison to `None` will result in an elementwise object comparison in the future.\n",
      "  if ub != None:\n",
      "/usr/local/lib/python2.7/site-packages/openopt/solvers/HongKongOpt/QPSolve.py:49: FutureWarning: comparison to `None` will result in an elementwise object comparison in the future.\n",
      "  A = vstack([A, addA]) if A != None else addA\n",
      "/usr/local/lib/python2.7/site-packages/openopt/solvers/HongKongOpt/QPSolve.py:50: FutureWarning: comparison to `None` will result in an elementwise object comparison in the future.\n",
      "  b = concatenate([b, addb]) if b != None else addb\n",
      "/usr/local/lib/python2.7/site-packages/openopt/solvers/HongKongOpt/QPSolve.py:132: FutureWarning: comparison to `None` will result in an elementwise object comparison in the future.\n",
      "  if Aeq != None:\n",
      "/usr/local/lib/python2.7/site-packages/openopt/solvers/HongKongOpt/QPSolve.py:150: FutureWarning: comparison to `None` will result in an elementwise object comparison in the future.\n",
      "  q = b + dot(A0BI, concatenate((e, beq))) if Aeq != None else b + dot(A0BI, e)\n",
      "/usr/local/lib/python2.7/site-packages/openopt/solvers/HongKongOpt/QPSolve.py:157: FutureWarning: comparison to `None` will result in an elementwise object comparison in the future.\n",
      "  xmu = dot(BI, -concatenate([e + dot(A.T, lmbd), beq])) if Aeq != None else dot(BI, -(e + dot(A.T, lmbd)))\n"
     ]
    }
   ],
   "source": [
    "H = [[4, 1],\n",
    "     [1, 2]]\n",
    "f = [1, 1]\n",
    "Aeq = [1, 1]\n",
    "beq = 1\n",
    "lb = [0, 0]\n",
    "p = QP(H, f, Aeq=Aeq, beq=beq, lb=lb)\n",
    "r = p.solve(\"qlcp\")\n",
    "x_opt = r.xf\n",
    "print(\"x = %s\" % x_opt)"
   ]
  },
  {
   "cell_type": "code",
   "execution_count": null,
   "metadata": {
    "collapsed": true
   },
   "outputs": [],
   "source": []
  }
 ],
 "metadata": {
  "kernelspec": {
   "display_name": "Python 2",
   "language": "python",
   "name": "python2"
  },
  "language_info": {
   "codemirror_mode": {
    "name": "ipython",
    "version": 2
   },
   "file_extension": ".py",
   "mimetype": "text/x-python",
   "name": "python",
   "nbconvert_exporter": "python",
   "pygments_lexer": "ipython2",
   "version": "2.7.10"
  }
 },
 "nbformat": 4,
 "nbformat_minor": 0
}
