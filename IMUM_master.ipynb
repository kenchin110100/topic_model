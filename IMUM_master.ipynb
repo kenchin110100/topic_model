{
 "cells": [
  {
   "cell_type": "code",
   "execution_count": 7,
   "metadata": {
    "collapsed": true
   },
   "outputs": [],
   "source": [
    "# coding: utf-8\n",
    "\"\"\"\n",
    "IMUM計算用\n",
    "\"\"\"\n",
    "from library.filer import Filer\n",
    "from library.infinite_mixture_of_unigram_model import IMUM\n",
    "from library.dnp import Evaluation\n",
    "import glob\n",
    "import numpy as np\n",
    "from sklearn.metrics import adjusted_mutual_info_score, adjusted_rand_score, completeness_score, homogeneity_completeness_v_measure, homogeneity_score, normalized_mutual_info_score"
   ]
  },
  {
   "cell_type": "code",
   "execution_count": 8,
   "metadata": {
    "collapsed": true
   },
   "outputs": [],
   "source": [
    "list_filepath = glob.glob('files/rakuten_corpus/rakuten_corpus_master/preprocessedfile/type2/forUM/*.txt')\n",
    "list_testfile = Filer.readdump('./files/rakuten_corpus/rakuten_corpus_master/testfile/list_sepword_label.dump')\n",
    "list_testword = [row[0] for row in list_testfile]\n",
    "list_label = [row[1] for row in list_testfile]\n",
    "\n",
    "outputpath = './files/result/rakuten/experiment4/IMUM.txt'\n",
    "removepath = 'files/rakuten_corpus/rakuten_corpus_master/preprocessedfile/type2/forUM/'"
   ]
  },
  {
   "cell_type": "code",
   "execution_count": null,
   "metadata": {
    "collapsed": false
   },
   "outputs": [],
   "source": [
    "for path in list_filepath:\n",
    "    print path\n",
    "    path_rev = path.replace(removepath, '')\n",
    "    Filer.writetxt([path_rev], outputpath)\n",
    "    for iteration in range(0,10):\n",
    "        alpha = 0.01    # 初期ハイパーパラメータalpha\n",
    "        beta = 0.01     # 初期ハイパーパラメータbeta\n",
    "        N = 1000        # 最大イテレーション回数\n",
    "        converge = 0.01 # イテレーション10回ごとに対数尤度を計算し，その差分(converge)が小さければ学習を終了する\n",
    "\n",
    "        imum = IMUM(path)\n",
    "        imum.set_param(alpha, beta, N, converge)\n",
    "        imum.learn()\n",
    "        _, _, K = imum.output_result()\n",
    "        \n",
    "        list_predict = []\n",
    "        for row in list_testword:\n",
    "            try:\n",
    "                list_prob = imum.infer(row)\n",
    "                list_predict.append(np.argmax(list_prob))\n",
    "            except KeyError:\n",
    "                list_predict.append(None)\n",
    "\n",
    "        list_predict_rev = []\n",
    "        list_label_rev = []\n",
    "        for predict, label in zip(list_predict, list_label):\n",
    "            if predict != None:\n",
    "                list_predict_rev.append(predict)\n",
    "                list_label_rev.append(label)\n",
    "\n",
    "        eva = Evaluation()\n",
    "        dict_result = eva.cal_f_measure(list_predict_rev, list_label_rev)\n",
    "        \n",
    "        # NMI\n",
    "        NMI = normalized_mutual_info_score(list_label_rev, list_predict_rev)\n",
    "        # H\n",
    "        H = homogeneity_score(list_label_rev, list_predict_rev)\n",
    "        # C\n",
    "        C = completeness_score(list_label_rev, list_predict_rev)\n",
    "        # vm\n",
    "        VM = homogeneity_completeness_v_measure(list_label_rev, list_predict_rev)\n",
    "        # ARI\n",
    "        ARI = adjusted_rand_score(list_label_rev, list_predict_rev)\n",
    "        # AMI\n",
    "        AMI = adjusted_mutual_info_score(list_label_rev, list_predict_rev)\n",
    "        \n",
    "        Filer.writetxt([K, ' '.join([str(dict_result['purity']),str(dict_result['invpurity']),str(dict_result['fvalue']),\n",
    "                                     str(NMI), str(H), str(C), str(VM), str(ARI), str(AMI), str(K)])],\n",
    "                       outputpath)"
   ]
  },
  {
   "cell_type": "code",
   "execution_count": null,
   "metadata": {
    "collapsed": true
   },
   "outputs": [],
   "source": []
  }
 ],
 "metadata": {
  "kernelspec": {
   "display_name": "Python 2",
   "language": "python",
   "name": "python2"
  },
  "language_info": {
   "codemirror_mode": {
    "name": "ipython",
    "version": 2
   },
   "file_extension": ".py",
   "mimetype": "text/x-python",
   "name": "python",
   "nbconvert_exporter": "python",
   "pygments_lexer": "ipython2",
   "version": "2.7.10"
  }
 },
 "nbformat": 4,
 "nbformat_minor": 0
}
