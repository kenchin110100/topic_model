{
 "cells": [
  {
   "cell_type": "code",
   "execution_count": 40,
   "metadata": {
    "collapsed": false
   },
   "outputs": [],
   "source": [
    "# coding: utf-8\n",
    "\"\"\"\n",
    "楽天レビューでトピックを抽出するための学習ファイルの作成\n",
    "UM用に1文ずつ形態素解析を行っていく\n",
    "\"\"\"\n",
    "import MeCab\n",
    "import csv\n",
    "import collections\n",
    "import pickle\n",
    "import numpy as np\n",
    "\n",
    "def parsing(sentence):\n",
    "    mecab = MeCab.Tagger(\"-d /usr/local/lib/mecab/dic/mecab-ipadic-neologd\")\n",
    "    res = mecab.parseToNode(sentence)\n",
    "    list_words = []\n",
    "    while res:\n",
    "        features = res.feature.split(\",\")\n",
    "        if (features[0] == \"名詞\" and features[1] in [\"一般\", \"固有名詞\", \"サ変接続\", \"形容動詞語幹\"]) or features[0] == \"形容詞\":\n",
    "            if features[6] == \"*\":\n",
    "                list_words.append(res.surface)\n",
    "            else:\n",
    "                list_words.append(features[6])\n",
    "        res = res.next\n",
    "    return list_words\n",
    "\n",
    "# csvファイルの読み込み\n",
    "def readcsv(path):\n",
    "    f = open(path, \"rU\")\n",
    "    dataReader = csv.reader(f)\n",
    "    arr = [row for row in dataReader]\n",
    "    return arr\n",
    "\n",
    "def readtsv(path):\n",
    "    f = open(path, \"rb\")\n",
    "    dataReader = csv.reader(f, delimiter='\\t')\n",
    "    arr = [row for row in dataReader]\n",
    "    return arr\n",
    "\n",
    "def writecsv(arr, path):\n",
    "    f = open(path, \"ab\")\n",
    "    dataWriter = csv.writer(f)\n",
    "    dataWriter.writerows(arr)\n",
    "    f.close()\n",
    "\n",
    "def writedump(arr, path):\n",
    "    f = open(path, \"w\")\n",
    "    pickle.dump(arr, f)\n",
    "    f.close()"
   ]
  },
  {
   "cell_type": "markdown",
   "metadata": {},
   "source": [
    "### コーパス作成\n",
    "1. 空白行を削除"
   ]
  },
  {
   "cell_type": "code",
   "execution_count": 51,
   "metadata": {
    "collapsed": false
   },
   "outputs": [],
   "source": [
    "list_hiro = readcsv(\"./files/rakuten_corpus/annotation/ヒロ_after.csv\")\n",
    "list_tetsuo = readcsv(\"./files/rakuten_corpus/annotation/テツオ_after.csv\")\n",
    "\n",
    "# 同じユーザーの口コミを1文にまとめる\n",
    "list_hiro_rev = []\n",
    "for row in list_hiro:\n",
    "    if row[5] != \"\":\n",
    "        list_hiro_rev.append(row)\n",
    "        \n",
    "list_tetsuo_rev = []\n",
    "for row in list_tetsuo:\n",
    "    if row[5] != \"\":\n",
    "        list_tetsuo_rev.append(row)"
   ]
  },
  {
   "cell_type": "code",
   "execution_count": 52,
   "metadata": {
    "collapsed": false
   },
   "outputs": [],
   "source": [
    "del list_hiro_rev[0]\n",
    "del list_tetsuo_rev[0]"
   ]
  },
  {
   "cell_type": "code",
   "execution_count": 53,
   "metadata": {
    "collapsed": false
   },
   "outputs": [],
   "source": [
    "arr_hiro = np.array(list_hiro_rev)"
   ]
  },
  {
   "cell_type": "code",
   "execution_count": 54,
   "metadata": {
    "collapsed": false
   },
   "outputs": [],
   "source": [
    "arr_hiro_label = arr_hiro[:,6:13]\n",
    "arr_hiro_num = arr_hiro[:,0]\n",
    "arr_hiro_sentence = arr_hiro[:,5]"
   ]
  },
  {
   "cell_type": "code",
   "execution_count": 55,
   "metadata": {
    "collapsed": false
   },
   "outputs": [],
   "source": [
    "arr_hiro_label = [[1 if num != \"\" else 0 for num in row] for row in arr_hiro_label]"
   ]
  },
  {
   "cell_type": "code",
   "execution_count": 56,
   "metadata": {
    "collapsed": false
   },
   "outputs": [],
   "source": [
    "list_label = [[], [], [], [], [], [], []]\n",
    "for i in range(7):\n",
    "    for num, row, sentence in zip(arr_hiro_num, arr_hiro_label, arr_hiro_sentence):\n",
    "        if np.sum(row) == 1 and row[i] == 1: \n",
    "            list_label[i].append([num, sentence, i])"
   ]
  },
  {
   "cell_type": "code",
   "execution_count": 57,
   "metadata": {
    "collapsed": false
   },
   "outputs": [],
   "source": [
    "arr_tetsuo = np.array(list_tetsuo_rev)\n",
    "arr_tetsuo_label = arr_tetsuo[:,6:13]\n",
    "arr_tetsuo_num = arr_tetsuo[:,0]\n",
    "arr_tetsuo_sentence = arr_tetsuo[:,5]\n",
    "arr_tetsuo_label = [[1 if num != \"\" else 0 for num in row] for row in arr_tetsuo_label]"
   ]
  },
  {
   "cell_type": "code",
   "execution_count": 58,
   "metadata": {
    "collapsed": true
   },
   "outputs": [],
   "source": [
    "for i in range(7):\n",
    "    for num, row, sentence in zip(arr_tetsuo_num, arr_tetsuo_label, arr_tetsuo_sentence):\n",
    "        if np.sum(row) == 1 and row[i] == 1: \n",
    "            list_label[i].append([num, sentence, i])"
   ]
  },
  {
   "cell_type": "code",
   "execution_count": 61,
   "metadata": {
    "collapsed": false
   },
   "outputs": [],
   "source": [
    "list_total = []\n",
    "for row in list_label:\n",
    "    list_total.extend(row)"
   ]
  },
  {
   "cell_type": "code",
   "execution_count": 62,
   "metadata": {
    "collapsed": true
   },
   "outputs": [],
   "source": [
    "writecsv(list_total, \"./files/rakuten_corpus/annotation/hiro_tetsuo.csv\")"
   ]
  },
  {
   "cell_type": "code",
   "execution_count": 63,
   "metadata": {
    "collapsed": true
   },
   "outputs": [],
   "source": [
    "# 形態素解析したリストを作成\n",
    "list_words = [[row[0], parsing(row[1]), row[2]] for row in list_total]"
   ]
  },
  {
   "cell_type": "code",
   "execution_count": 64,
   "metadata": {
    "collapsed": false
   },
   "outputs": [],
   "source": [
    "writedump(list_words, \"./files/rakuten_corpus/annotation/hiro_tetsuo_sep.dump\")"
   ]
  },
  {
   "cell_type": "markdown",
   "metadata": {},
   "source": [
    "### 空白でsepしてtxt形式で保存"
   ]
  },
  {
   "cell_type": "code",
   "execution_count": 7,
   "metadata": {
    "collapsed": false
   },
   "outputs": [],
   "source": [
    "writecsv(list_words_rev, \"./files/rakuten_corpus/rakuten_corpus_for_UM.txt\")"
   ]
  },
  {
   "cell_type": "code",
   "execution_count": null,
   "metadata": {
    "collapsed": true
   },
   "outputs": [],
   "source": []
  }
 ],
 "metadata": {
  "kernelspec": {
   "display_name": "Python 2",
   "language": "python",
   "name": "python2"
  },
  "language_info": {
   "codemirror_mode": {
    "name": "ipython",
    "version": 2
   },
   "file_extension": ".py",
   "mimetype": "text/x-python",
   "name": "python",
   "nbconvert_exporter": "python",
   "pygments_lexer": "ipython2",
   "version": "2.7.11"
  }
 },
 "nbformat": 4,
 "nbformat_minor": 0
}
