{
 "cells": [
  {
   "cell_type": "code",
   "execution_count": 1,
   "metadata": {
    "collapsed": true
   },
   "outputs": [],
   "source": [
    "# coding: utf-8\n",
    "\"\"\"\n",
    "GSDMMを動かすためのコード\n",
    "\"\"\"\n",
    "from library.filer import Filer\n",
    "from library.sampleGSDMM import GSDMM\n",
    "from library.dnp import Evaluation\n",
    "import glob\n",
    "import numpy as np\n",
    "from sklearn.metrics import adjusted_mutual_info_score, adjusted_rand_score, completeness_score, homogeneity_completeness_v_measure, homogeneity_score, normalized_mutual_info_score"
   ]
  },
  {
   "cell_type": "code",
   "execution_count": 2,
   "metadata": {
    "collapsed": true
   },
   "outputs": [],
   "source": [
    "list_filepath = glob.glob('files/rakuten_corpus/rakuten_corpus_master/preprocessedfile/type2/forUM/*.txt')\n",
    "list_filepath.sort()\n",
    "list_testfile = Filer.readdump('./files/rakuten_corpus/rakuten_corpus_master/testfile/list_sepword_label.dump')\n",
    "list_testword = [row[0] for row in list_testfile]\n",
    "list_label = [row[1] for row in list_testfile]\n",
    "\n",
    "outputpath = './files/result/rakuten/experiment4/GSDMM.txt'\n",
    "removepath = 'files/rakuten_corpus/rakuten_corpus_master/preprocessedfile/type2/forUM/'"
   ]
  },
  {
   "cell_type": "code",
   "execution_count": null,
   "metadata": {
    "collapsed": false
   },
   "outputs": [
    {
     "name": "stdout",
     "output_type": "stream",
     "text": [
      "files/rakuten_corpus/rakuten_corpus_master/preprocessedfile/type2/forUM/rakuten_preprocessed_005105.txt\n",
      "finish:  0  iteration\n",
      "finish: "
     ]
    }
   ],
   "source": [
    "for path in list_filepath:\n",
    "    print path\n",
    "    path_rev = path.replace(removepath, '')\n",
    "    Filer.writetxt([path_rev], outputpath)\n",
    "    for iteration in range(0,10):\n",
    "        gsdmm = GSDMM(alpha=0.1, beta=0.1, K=100, I=20)\n",
    "        gsdmm.set_param(path=path)\n",
    "        list_theta = gsdmm.fit()\n",
    "        \n",
    "        array_theta = np.array(gsdmm.list_theta)\n",
    "        K = len(array_theta[array_theta > 0.0001])\n",
    "        \n",
    "        list_predict = []\n",
    "        for row in list_testword:\n",
    "            try:\n",
    "                list_prob = gsdmm.infer(row)\n",
    "                list_predict.append(np.argmax(list_prob))\n",
    "            except KeyError:\n",
    "                list_predict.append(None)\n",
    "\n",
    "        list_predict_rev = []\n",
    "        list_label_rev = []\n",
    "        for predict, label in zip(list_predict, list_label):\n",
    "            if predict != None:\n",
    "                list_predict_rev.append(predict)\n",
    "                list_label_rev.append(label)\n",
    "\n",
    "        eva = Evaluation()\n",
    "        dict_result = eva.cal_f_measure(list_predict_rev, list_label_rev)\n",
    "        \n",
    "        # NMI\n",
    "        NMI = normalized_mutual_info_score(list_label_rev, list_predict_rev)\n",
    "        # vm\n",
    "        H, C, VM = homogeneity_completeness_v_measure(list_label_rev, list_predict_rev)\n",
    "        # ARI\n",
    "        ARI = adjusted_rand_score(list_label_rev, list_predict_rev)\n",
    "        # AMI\n",
    "        AMI = adjusted_mutual_info_score(list_label_rev, list_predict_rev)\n",
    "        \n",
    "        Filer.writetxt([' '.join([str(dict_result['purity']),str(dict_result['invpurity']),str(dict_result['fvalue']),\n",
    "                                  str(NMI), str(H), str(C), str(VM), str(ARI), str(AMI), str(K)])],\n",
    "                       outputpath)"
   ]
  },
  {
   "cell_type": "code",
   "execution_count": null,
   "metadata": {
    "collapsed": true
   },
   "outputs": [],
   "source": []
  }
 ],
 "metadata": {
  "kernelspec": {
   "display_name": "Python 2",
   "language": "python",
   "name": "python2"
  },
  "language_info": {
   "codemirror_mode": {
    "name": "ipython",
    "version": 2
   },
   "file_extension": ".py",
   "mimetype": "text/x-python",
   "name": "python",
   "nbconvert_exporter": "python",
   "pygments_lexer": "ipython2",
   "version": "2.7.10"
  }
 },
 "nbformat": 4,
 "nbformat_minor": 0
}
