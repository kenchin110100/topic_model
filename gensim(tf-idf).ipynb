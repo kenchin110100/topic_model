{
 "cells": [
  {
   "cell_type": "code",
   "execution_count": 126,
   "metadata": {
    "collapsed": true
   },
   "outputs": [],
   "source": [
    "# coding: utf-8\n",
    "\"\"\"\n",
    "tf-idfによるトピックの抽出\n",
    "\"\"\"\n",
    "from gensim import corpora, models, similarities\n",
    "import csv\n",
    "import MeCab\n",
    "import numpy as np\n",
    "from sklearn import cluster\n",
    "import collections\n",
    "\n",
    "# csvファイルの読み込み\n",
    "def readcsv(path):\n",
    "    f = open(path, \"rb\")\n",
    "    dataReader = csv.reader(f)\n",
    "    arr = [row for row in dataReader]\n",
    "    return arr\n",
    "\n",
    "def writecsv(arr, path):\n",
    "    f = open(path, \"ab\")\n",
    "    dataWriter = csv.writer(f)\n",
    "    dataWriter.writerows(arr)\n",
    "    f.close()\n",
    "    \n",
    "def parsing(sentence):\n",
    "    mecab = MeCab.Tagger(\"-d /usr/local/lib/mecab/dic/mecab-ipadic-neologd\")\n",
    "    res = mecab.parseToNode(sentence)\n",
    "    list_words = []\n",
    "    while res:\n",
    "        features = res.feature.split(\",\")\n",
    "        if (features[0] == \"名詞\" and features[1] in [\"一般\", \"固有名詞\", \"サ変接続\", \"形容動詞語幹\"]) or features[0] == \"形容詞\":\n",
    "            if features[6] == \"*\":\n",
    "                list_words.append(res.surface)\n",
    "            else:\n",
    "                list_words.append(features[6])\n",
    "        res = res.next\n",
    "    return list_words\n",
    "\n",
    "# 正規化する関数\n",
    "def normalize(vector):\n",
    "    tmp = np.sqrt(np.sum(vector * vector))\n",
    "    if tmp == 0:\n",
    "        return vector\n",
    "    else:\n",
    "        return vector / tmp"
   ]
  },
  {
   "cell_type": "markdown",
   "metadata": {},
   "source": [
    "形態素解析して、bag of words を作成"
   ]
  },
  {
   "cell_type": "code",
   "execution_count": 112,
   "metadata": {
    "collapsed": true
   },
   "outputs": [],
   "source": [
    "list_corpus = readcsv(\"./files/file_1.csv\")\n",
    "list_corpuses = [row[1].split(\"。\") for row in list_corpus]\n",
    "list_corpuses = [sentence for row in list_corpuses for sentence in row]\n",
    "list_bag_of_words = [parsing(sentence) for sentence in list_corpuses]"
   ]
  },
  {
   "cell_type": "markdown",
   "metadata": {},
   "source": [
    "辞書をダウンロードして、コーパスにidを振る"
   ]
  },
  {
   "cell_type": "code",
   "execution_count": 113,
   "metadata": {
    "collapsed": true
   },
   "outputs": [],
   "source": [
    "dictionary = corpora.Dictionary.load_from_text(\"./files/dictionary1.txt\")\n",
    "corpus = [dictionary.doc2bow(text) for text in list_bag_of_words]"
   ]
  },
  {
   "cell_type": "markdown",
   "metadata": {},
   "source": [
    "tfidfモデルを作成して、計算、スパースマトリックスを変換する"
   ]
  },
  {
   "cell_type": "code",
   "execution_count": 115,
   "metadata": {
    "collapsed": false
   },
   "outputs": [],
   "source": [
    "tfidf = models.TfidfModel(corpus)\n",
    "tfidf_corpus = [tfidf[corpus[i]] for i in range(len(corpus))]\n",
    "tfidf_corpus_rev = np.zeros((3224, 1109))\n",
    "for i, row in enumerate(tfidf_corpus):\n",
    "    for j in row:\n",
    "        tfidf_corpus_rev[i][j[0]] = j[1]\n",
    "tfidf_corpus_rev = [normalize(row) for row in tfidf_corpus_rev]"
   ]
  },
  {
   "cell_type": "markdown",
   "metadata": {},
   "source": [
    "階層クラスタリングにより、tf-idfをクラスタリング"
   ]
  },
  {
   "cell_type": "code",
   "execution_count": 117,
   "metadata": {
    "collapsed": true
   },
   "outputs": [],
   "source": [
    "hieral = cluster.AgglomerativeClustering(n_clusters=13, affinity='euclidean', linkage='ward')\n",
    "result = hieral.fit_predict(tfidf_corpus_rev)"
   ]
  },
  {
   "cell_type": "markdown",
   "metadata": {},
   "source": [
    "作成したクラスタの中でbag-of-wordsを作成する"
   ]
  },
  {
   "cell_type": "code",
   "execution_count": 119,
   "metadata": {
    "collapsed": false
   },
   "outputs": [],
   "source": [
    "dict_cluster_word = collections.defaultdict(list)\n",
    "for i, num in enumerate(result):\n",
    "    for word in list_bag_of_words[i]:\n",
    "        dict_cluster_word[num].append(word)"
   ]
  },
  {
   "cell_type": "markdown",
   "metadata": {},
   "source": [
    "クラスタ内の単語を頻度順に表示"
   ]
  },
  {
   "cell_type": "code",
   "execution_count": 123,
   "metadata": {
    "collapsed": false
   },
   "outputs": [],
   "source": [
    "num = 13\n",
    "list_word = sorted(collections.Counter(dict_cluster_word[num]).items(),\n",
    "                   key=lambda x: x[1], reverse=True)\n",
    "for word in list_word:\n",
    "    print word[0]"
   ]
  }
 ],
 "metadata": {
  "kernelspec": {
   "display_name": "Python 2",
   "language": "python",
   "name": "python2"
  },
  "language_info": {
   "codemirror_mode": {
    "name": "ipython",
    "version": 2
   },
   "file_extension": ".py",
   "mimetype": "text/x-python",
   "name": "python",
   "nbconvert_exporter": "python",
   "pygments_lexer": "ipython2",
   "version": "2.7.10"
  }
 },
 "nbformat": 4,
 "nbformat_minor": 0
}
