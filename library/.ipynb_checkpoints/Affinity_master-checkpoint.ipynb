{
 "cells": [
  {
   "cell_type": "code",
   "execution_count": null,
   "metadata": {
    "collapsed": true
   },
   "outputs": [],
   "source": [
    "# coding: utf-8\n",
    "\"\"\"\n",
    "Affinity propagationでクラスタリングするためのコード\n",
    "\"\"\"\n",
    "from sklearn.cluster import AffinityPropagation\n",
    "import numpy as np\n",
    "import pickle\n",
    "from sklearn.metrics import adjusted_mutual_info_score, adjusted_rand_score, completeness_score, homogeneity_completeness_v_measure, homogeneity_score, normalized_mutual_info_score\n",
    "from sklearn.feature_extraction.text import TfidfVectorizer"
   ]
  },
  {
   "cell_type": "code",
   "execution_count": null,
   "metadata": {
    "collapsed": true
   },
   "outputs": [],
   "source": [
    "def cal_tfidf(list_word):\n",
    "    set_word = set([word for row in list_sep for word in row])\n",
    "    V = len(set_word)\n",
    "    D = len(list_word)\n",
    "    dict_word_id = {word:i for i, word in enumerate(set_word)}\n",
    "    list_d_w = np.array([[0.0 for j in range(V)] for i in range(D)])\n",
    "    for i, row in enumerate(list_word):\n",
    "        for word in row:\n",
    "            list_d_w[i][dict_word_id[word]] += 1\n",
    "    for i in range(V):\n",
    "        list_d_w[:,i] *= np.log(float(D)/len(np.nonzero(list_d_w[:,i])[0]))+1\n",
    "    return list_d_w"
   ]
  }
 ],
 "metadata": {
  "kernelspec": {
   "display_name": "Python 2",
   "language": "python",
   "name": "python2"
  },
  "language_info": {
   "codemirror_mode": {
    "name": "ipython",
    "version": 2
   },
   "file_extension": ".py",
   "mimetype": "text/x-python",
   "name": "python",
   "nbconvert_exporter": "python",
   "pygments_lexer": "ipython2",
   "version": "2.7.10"
  }
 },
 "nbformat": 4,
 "nbformat_minor": 0
}
