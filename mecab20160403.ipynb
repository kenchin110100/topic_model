{
 "cells": [
  {
   "cell_type": "code",
   "execution_count": 48,
   "metadata": {
    "collapsed": false
   },
   "outputs": [],
   "source": [
    "# coding: utf-8\n",
    "\"\"\"\n",
    "ヒロ，てつお，一平、よっさんのアノテーションを元に評価用のコーパスの作成\n",
    "\"\"\"\n",
    "import MeCab\n",
    "import csv\n",
    "import collections\n",
    "import pickle\n",
    "import numpy as np\n",
    "\n",
    "def parsing(sentence):\n",
    "    mecab = MeCab.Tagger(\"-d /usr/local/lib/mecab/dic/mecab-ipadic-neologd\")\n",
    "    res = mecab.parseToNode(sentence)\n",
    "    list_words = []\n",
    "    while res:\n",
    "        features = res.feature.split(\",\")\n",
    "        if (features[0] == \"名詞\" and features[1] in [\"一般\", \"固有名詞\", \"サ変接続\", \"形容動詞語幹\"]) or features[0] == \"形容詞\":\n",
    "            if features[6] == \"*\":\n",
    "                list_words.append(res.surface)\n",
    "            else:\n",
    "                list_words.append(features[6])\n",
    "        res = res.next\n",
    "    return list_words\n",
    "\n",
    "# csvファイルの読み込み\n",
    "def readcsv(path):\n",
    "    f = open(path, \"rU\")\n",
    "    dataReader = csv.reader(f)\n",
    "    arr = [row for row in dataReader]\n",
    "    return arr\n",
    "\n",
    "def readtsv(path):\n",
    "    f = open(path, \"rb\")\n",
    "    dataReader = csv.reader(f, delimiter='\\t')\n",
    "    arr = [row for row in dataReader]\n",
    "    return arr\n",
    "\n",
    "def writecsv(arr, path):\n",
    "    f = open(path, \"ab\")\n",
    "    dataWriter = csv.writer(f)\n",
    "    dataWriter.writerows(arr)\n",
    "    f.close()\n",
    "\n",
    "def writedump(arr, path):\n",
    "    f = open(path, \"w\")\n",
    "    pickle.dump(arr, f)\n",
    "    f.close()\n",
    "\n",
    "def readdump(path):\n",
    "    f = open(path, \"r\")\n",
    "    l = pickle.load(f)\n",
    "    f.close()\n",
    "    return l"
   ]
  },
  {
   "cell_type": "markdown",
   "metadata": {},
   "source": [
    "### コーパス作成"
   ]
  },
  {
   "cell_type": "code",
   "execution_count": 9,
   "metadata": {
    "collapsed": false
   },
   "outputs": [],
   "source": [
    "# コーパスの読み込み\n",
    "list_f1 = readcsv(\"./files/rakuten_corpus/annotation/ヒロ_after.csv\")\n",
    "list_l1 = readcsv(\"./files/rakuten_corpus/annotation/テツオ_after.csv\")\n",
    "list_f2 = readcsv(\"./files/rakuten_corpus/annotation/一平_after.csv\")\n",
    "list_l2 = readcsv(\"./files/rakuten_corpus/annotation/よっさん_after.csv\")"
   ]
  },
  {
   "cell_type": "code",
   "execution_count": 27,
   "metadata": {
    "collapsed": false
   },
   "outputs": [],
   "source": [
    "# 空白行の削除\n",
    "list_f1_rev = []\n",
    "for row in list_f1:\n",
    "    if row[5] != \"\":\n",
    "        list_f1_rev.append(row)\n",
    "\n",
    "list_f2_rev = []\n",
    "for row in list_f2:\n",
    "    if row[5] != \"\":\n",
    "        list_f2_rev.append(row)\n",
    "        \n",
    "list_l1_rev = []\n",
    "for row in list_l1:\n",
    "    if row[5] != \"\":\n",
    "        list_l1_rev.append(row)\n",
    "        \n",
    "list_l2_rev = []\n",
    "for row in list_l2:\n",
    "    if row[5] != \"\":\n",
    "        list_l2_rev.append(row)\n",
    "        \n",
    "# １行目の削除\n",
    "del list_l1_rev[0]\n",
    "del list_l2_rev[0]\n",
    "del list_f1_rev[0]\n",
    "del list_f2_rev[0]"
   ]
  },
  {
   "cell_type": "code",
   "execution_count": 30,
   "metadata": {
    "collapsed": false
   },
   "outputs": [],
   "source": [
    "# アノテーションの部分のみ抽出\n",
    "arr_f1_label = np.array(list_f1_rev)[:,6:13]\n",
    "arr_f2_label = np.array(list_f2_rev)[:,6:13]\n",
    "arr_l1_label = np.array(list_l1_rev)[:,6:13]\n",
    "arr_l2_label = np.array(list_l2_rev)[:,6:13]"
   ]
  },
  {
   "cell_type": "code",
   "execution_count": 32,
   "metadata": {
    "collapsed": false
   },
   "outputs": [],
   "source": [
    "# 空白行を0に, int型に変換\n",
    "arr_f1_label = [[1 if num != \"\" else 0 for num in row] for row in arr_f1_label]\n",
    "arr_f2_label = [[1 if num != \"\" else 0 for num in row] for row in arr_f2_label]\n",
    "arr_l1_label = [[1 if num != \"\" else 0 for num in row] for row in arr_l1_label]\n",
    "arr_l2_label = [[1 if num != \"\" else 0 for num in row] for row in arr_l2_label]"
   ]
  },
  {
   "cell_type": "code",
   "execution_count": 43,
   "metadata": {
    "collapsed": false
   },
   "outputs": [],
   "source": [
    "# 二人の評価が同じ文のみを抽出\n",
    "list_former = []\n",
    "for i in range(6):\n",
    "    for row, label1, label2 in zip(list_f1_rev, arr_f1_label, arr_f2_label):\n",
    "        if np.sum(label1) == 1 and np.sum(label2) == 1 and label1[i] == 1 and label1[i] == 1:\n",
    "            list_former.append([int(row[0]), i, row[5]])\n",
    "\n",
    "list_latter = []\n",
    "for i in range(6):\n",
    "    for row, label1, label2 in zip(list_l1_rev, arr_l1_label, arr_l2_label):\n",
    "        if np.sum(label1) == 1 and np.sum(label2) == 1 and label1[i] == 1 and label1[i] == 1:\n",
    "            list_latter.append([int(row[0]), i, row[5]])"
   ]
  },
  {
   "cell_type": "code",
   "execution_count": 46,
   "metadata": {
    "collapsed": false
   },
   "outputs": [],
   "source": [
    "# 文番号で並び替え\n",
    "list_former = sorted(list_former, key=lambda x: x[0])\n",
    "list_latter = sorted(list_latter, key=lambda x: x[0])"
   ]
  },
  {
   "cell_type": "code",
   "execution_count": 53,
   "metadata": {
    "collapsed": true
   },
   "outputs": [],
   "source": [
    "# 前半後半の合体\n",
    "list_all = []\n",
    "list_all.extend(list_former)\n",
    "list_all.extend(list_latter)"
   ]
  },
  {
   "cell_type": "code",
   "execution_count": 49,
   "metadata": {
    "collapsed": true
   },
   "outputs": [],
   "source": [
    "# 削除語リストの読み込み\n",
    "list_remove_words = readdump(\"./files/rakuten_corpus/list_rakuten_remove_word.dump\")"
   ]
  },
  {
   "cell_type": "code",
   "execution_count": 56,
   "metadata": {
    "collapsed": false
   },
   "outputs": [],
   "source": [
    "# 形態素解析\n",
    "list_all_sep = [[row[0], row[1], parsing(row[2])] for row in list_all]"
   ]
  },
  {
   "cell_type": "code",
   "execution_count": 93,
   "metadata": {
    "collapsed": false
   },
   "outputs": [],
   "source": [
    "# 削除語リストに登録されている単語を削除し，単語が空じゃない行のみを抜き出す\n",
    "list_all_rev = []\n",
    "for row in list_all_sep:\n",
    "    list_tmp = []\n",
    "    for word in row[2]:\n",
    "        if word not in list_remove_words:\n",
    "            list_tmp.append(word)\n",
    "    if len(list_tmp) != 0:\n",
    "        list_all_rev.append([row[0], row[1], list_tmp])"
   ]
  },
  {
   "cell_type": "code",
   "execution_count": 95,
   "metadata": {
    "collapsed": false
   },
   "outputs": [],
   "source": [
    "writedump(list_all_rev, \"./files/rakuten_corpus/annotation/all_sep.dump\")"
   ]
  },
  {
   "cell_type": "code",
   "execution_count": 54,
   "metadata": {
    "collapsed": false
   },
   "outputs": [],
   "source": [
    "arr_hiro_label = arr_hiro[:,6:13]\n",
    "arr_hiro_num = arr_hiro[:,0]\n",
    "arr_hiro_sentence = arr_hiro[:,5]"
   ]
  },
  {
   "cell_type": "code",
   "execution_count": 55,
   "metadata": {
    "collapsed": false
   },
   "outputs": [],
   "source": [
    "arr_hiro_label = [[1 if num != \"\" else 0 for num in row] for row in arr_hiro_label]"
   ]
  },
  {
   "cell_type": "code",
   "execution_count": 56,
   "metadata": {
    "collapsed": false
   },
   "outputs": [],
   "source": [
    "list_label = [[], [], [], [], [], [], []]\n",
    "for i in range(7):\n",
    "    for num, row, sentence in zip(arr_hiro_num, arr_hiro_label, arr_hiro_sentence):\n",
    "        if np.sum(row) == 1 and row[i] == 1: \n",
    "            list_label[i].append([num, sentence, i])"
   ]
  },
  {
   "cell_type": "code",
   "execution_count": 57,
   "metadata": {
    "collapsed": false
   },
   "outputs": [],
   "source": [
    "arr_tetsuo = np.array(list_tetsuo_rev)\n",
    "arr_tetsuo_label = arr_tetsuo[:,6:13]\n",
    "arr_tetsuo_num = arr_tetsuo[:,0]\n",
    "arr_tetsuo_sentence = arr_tetsuo[:,5]\n",
    "arr_tetsuo_label = [[1 if num != \"\" else 0 for num in row] for row in arr_tetsuo_label]"
   ]
  },
  {
   "cell_type": "code",
   "execution_count": 58,
   "metadata": {
    "collapsed": true
   },
   "outputs": [],
   "source": [
    "for i in range(7):\n",
    "    for num, row, sentence in zip(arr_tetsuo_num, arr_tetsuo_label, arr_tetsuo_sentence):\n",
    "        if np.sum(row) == 1 and row[i] == 1: \n",
    "            list_label[i].append([num, sentence, i])"
   ]
  },
  {
   "cell_type": "code",
   "execution_count": 61,
   "metadata": {
    "collapsed": false
   },
   "outputs": [],
   "source": [
    "list_total = []\n",
    "for row in list_label:\n",
    "    list_total.extend(row)"
   ]
  },
  {
   "cell_type": "code",
   "execution_count": 62,
   "metadata": {
    "collapsed": true
   },
   "outputs": [],
   "source": [
    "writecsv(list_total, \"./files/rakuten_corpus/annotation/hiro_tetsuo.csv\")"
   ]
  },
  {
   "cell_type": "code",
   "execution_count": 63,
   "metadata": {
    "collapsed": true
   },
   "outputs": [],
   "source": [
    "# 形態素解析したリストを作成\n",
    "list_words = [[row[0], parsing(row[1]), row[2]] for row in list_total]"
   ]
  },
  {
   "cell_type": "code",
   "execution_count": 64,
   "metadata": {
    "collapsed": false
   },
   "outputs": [],
   "source": [
    "writedump(list_words, \"./files/rakuten_corpus/annotation/hiro_tetsuo_sep.dump\")"
   ]
  },
  {
   "cell_type": "markdown",
   "metadata": {},
   "source": [
    "### 空白でsepしてtxt形式で保存"
   ]
  },
  {
   "cell_type": "code",
   "execution_count": 7,
   "metadata": {
    "collapsed": false
   },
   "outputs": [],
   "source": [
    "writecsv(list_words_rev, \"./files/rakuten_corpus/rakuten_corpus_for_UM.txt\")"
   ]
  },
  {
   "cell_type": "code",
   "execution_count": null,
   "metadata": {
    "collapsed": true
   },
   "outputs": [],
   "source": []
  }
 ],
 "metadata": {
  "kernelspec": {
   "display_name": "Python 2",
   "language": "python",
   "name": "python2"
  },
  "language_info": {
   "codemirror_mode": {
    "name": "ipython",
    "version": 2
   },
   "file_extension": ".py",
   "mimetype": "text/x-python",
   "name": "python",
   "nbconvert_exporter": "python",
   "pygments_lexer": "ipython2",
   "version": "2.7.11"
  }
 },
 "nbformat": 4,
 "nbformat_minor": 0
}
