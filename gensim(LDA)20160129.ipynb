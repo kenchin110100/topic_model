{
 "cells": [
  {
   "cell_type": "code",
   "execution_count": 36,
   "metadata": {
    "collapsed": true
   },
   "outputs": [],
   "source": [
    "# coding: utf-8\n",
    "\"\"\"\n",
    "gensimを用いたLDA\n",
    "purityの計算\n",
    "\"\"\"\n",
    "\n",
    "from gensim import corpora, models, similarities\n",
    "import csv\n",
    "import MeCab\n",
    "import pickle\n",
    "import collections\n",
    "import numpy as np\n",
    "\n",
    "# csvファイルの読み込み\n",
    "def readcsv(path):\n",
    "    f = open(path, \"rb\")\n",
    "    dataReader = csv.reader(f)\n",
    "    arr = [row for row in dataReader]\n",
    "    return arr\n",
    "\n",
    "def writecsv(arr, path):\n",
    "    f = open(path, \"ab\")\n",
    "    dataWriter = csv.writer(f)\n",
    "    dataWriter.writerows(arr)\n",
    "    f.close()\n",
    "\n",
    "def readdump(path):\n",
    "    f = open(path, \"r\")\n",
    "    arr = pickle.load(f)\n",
    "    f.close()\n",
    "    return arr\n",
    "\n",
    "# f_measureを計算する\n",
    "def cal_f_measure(list_predict_measure):\n",
    "    # 生成したクラスタ内のカウント\n",
    "    dict_predict_cluster = collections.defaultdict(list)\n",
    "    for row in list_predict_measure:\n",
    "        dict_predict_cluster[row[0]].append(row[1])\n",
    "        \n",
    "    # もとあるクラス内のカウント\n",
    "    dict_measure_cluster = collections.defaultdict(list)\n",
    "    for row in list_predict_measure:\n",
    "        dict_measure_cluster[row[1]].append(row[0])\n",
    "    \n",
    "    # local_purityの計算\n",
    "    list_purity = []\n",
    "    for row in dict_predict_cluster.items():\n",
    "        major_class = sorted(collections.Counter(row[1]).items(), key=lambda x: x[1], reverse=True)[0][1]\n",
    "        class_num = len(row[1])\n",
    "        list_purity.append([major_class, class_num])\n",
    "    purity = float(np.sum(zip(*list_purity)[0])) / np.sum(zip(*list_purity)[1])\n",
    "    print \"Purity: \", purity\n",
    "    \n",
    "    # inverse_purityの計算\n",
    "    list_inverse_purity = []\n",
    "    for row in dict_measure_cluster.items():\n",
    "        score1 = len(row[1])\n",
    "        class_number = sorted(collections.Counter(row[1]).items(), key=lambda x: x[1], reverse=True)[0][0]\n",
    "        score2 = len(dict_predict_cluster[class_number])\n",
    "        score3 = sorted(collections.Counter(row[1]).items(), key=lambda x: x[1], reverse=True)[0][1]\n",
    "        score4 = float(score3) * score2 / score1\n",
    "        list_inverse_purity.append(score4)\n",
    "    inverse_purity = np.sum(list_inverse_purity) / len(list_predict_measure)\n",
    "    print \"Inverse Purity: \", inverse_purity\n",
    "    \n",
    "    print \"F-value: \", 2 / (1 / purity + 1 / inverse_purity)"
   ]
  },
  {
   "cell_type": "markdown",
   "metadata": {},
   "source": [
    "### コーパスの読み込み\n",
    "* 1行ずつ形態素解析して、ラベルが付いたものと、口コミごとに形態素解析しているのものの2種類を読み込む"
   ]
  },
  {
   "cell_type": "code",
   "execution_count": 28,
   "metadata": {
    "collapsed": false,
    "scrolled": true
   },
   "outputs": [],
   "source": [
    "list_sep_words_class = readdump(\"./files/list_sep_words_label.dump\")\n",
    "list_bag_of_words, list_class = zip(*list_sep_words_class)\n",
    "list_bag_of_words_1 = list(list_bag_of_words)\n",
    "list_class = list(list_class)\n",
    "\n",
    "list_bag_of_words_2 = readdump(\"./files/list_sep_words_per_human.dump\")"
   ]
  },
  {
   "cell_type": "markdown",
   "metadata": {},
   "source": [
    "### LDAにより、トピックの抽出\n",
    "1. 辞書の作成\n",
    "2. 辞書を用いてコーパスのマッピングをする\n",
    "3. マッピングしたコーパスを元にLDA\n",
    "4. LDAの結果を表示"
   ]
  },
  {
   "cell_type": "code",
   "execution_count": 29,
   "metadata": {
    "collapsed": false
   },
   "outputs": [],
   "source": [
    "# 辞書の作成\n",
    "dictionary = corpora.Dictionary(list_bag_of_words_2)\n",
    "# コーパスをマッピングし、LDA\n",
    "corpus_1 = [dictionary.doc2bow(text) for text in list_bag_of_words_1]\n",
    "corpus_2 = [dictionary.doc2bow(text) for text in list_bag_of_words_2]\n",
    "lda = models.LdaModel(corpus=corpus_2, id2word=dictionary, num_topics=7)\n",
    "# p(word|topic)を表示\n",
    "for i, row in enumerate(lda.show_topics(0)):\n",
    "    print row"
   ]
  },
  {
   "cell_type": "markdown",
   "metadata": {},
   "source": [
    "### 文の予測\n",
    "1. LDAの結果から各文のクラスを予測\n",
    "2. 予測ラベルと結果ラベルのリストを作成"
   ]
  },
  {
   "cell_type": "code",
   "execution_count": 37,
   "metadata": {
    "collapsed": false
   },
   "outputs": [
    {
     "name": "stdout",
     "output_type": "stream",
     "text": [
      "エラーしたコーパス 7\n"
     ]
    }
   ],
   "source": [
    "list_predict_measure = []\n",
    "error_count = 0\n",
    "for i in range(len(corpus_1)):\n",
    "    predict_class = sorted(lda[corpus_1[i]], key=lambda x:x[1], reverse=True)[0][0]\n",
    "    measure_class = list_class[i]\n",
    "    try:\n",
    "        list_predict_measure.append([predict_class, int(measure_class)])\n",
    "    except:\n",
    "        error_count += 1\n",
    "print \"エラーしたコーパス\", error_count"
   ]
  },
  {
   "cell_type": "markdown",
   "metadata": {},
   "source": [
    "### 定量評価 (purity)"
   ]
  },
  {
   "cell_type": "code",
   "execution_count": 38,
   "metadata": {
    "collapsed": false
   },
   "outputs": [
    {
     "name": "stdout",
     "output_type": "stream",
     "text": [
      "Purity:  0.237924865832\n",
      "Inverse Purity:  0.272364438237\n",
      "F-value:  0.253982483694\n"
     ]
    }
   ],
   "source": [
    "cal_f_measure(list_predict_measure)"
   ]
  },
  {
   "cell_type": "code",
   "execution_count": null,
   "metadata": {
    "collapsed": true
   },
   "outputs": [],
   "source": []
  }
 ],
 "metadata": {
  "kernelspec": {
   "display_name": "Python 2",
   "language": "python",
   "name": "python2"
  },
  "language_info": {
   "codemirror_mode": {
    "name": "ipython",
    "version": 2
   },
   "file_extension": ".py",
   "mimetype": "text/x-python",
   "name": "python",
   "nbconvert_exporter": "python",
   "pygments_lexer": "ipython2",
   "version": "2.7.10"
  }
 },
 "nbformat": 4,
 "nbformat_minor": 0
}
