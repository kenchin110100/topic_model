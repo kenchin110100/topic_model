{
 "cells": [
  {
   "cell_type": "code",
   "execution_count": 2,
   "metadata": {
    "collapsed": false
   },
   "outputs": [],
   "source": [
    "# coding: utf-8\n",
    "\"\"\"\n",
    "・knpによる構文取得\n",
    "\"\"\"\n",
    "import CaboCha\n",
    "import xml.etree.ElementTree as ET\n",
    "from collections import Counter\n",
    "import csv\n",
    "import matplotlib.pyplot as plt\n",
    "import copy\n",
    "from pyknp import KNP\n",
    "\n",
    "%matplotlib inline\n",
    "\n",
    "# csvファイルの読み込み\n",
    "def readcsv(path):\n",
    "    f = open(path, \"rb\")\n",
    "    dataReader = csv.reader(f)\n",
    "    arr = [row for row in dataReader]\n",
    "    return arr\n",
    "\n",
    "def select_normalization_representative_notation(fstring):\n",
    "    \"\"\" 正規化代表表記を抽出します\n",
    "    \"\"\"\n",
    "    begin = fstring.find(u'正規化代表表記:')\n",
    "    end = fstring.find(u'/', begin + 1)\n",
    "    return fstring[begin + len(u'正規化代表表記:') : end]\n",
    "\n",
    "def select_dependency_structure(line):\n",
    "    \"\"\"係り受け構造を抽出します\n",
    "    \"\"\"\n",
    "    # KNP\n",
    "    knp = KNP(option = '-tab -anaphora')\n",
    "    # 解析\n",
    "    result = knp.parse(line)\n",
    "    # 文節リスト\n",
    "    bnst_list = result.bnst_list()\n",
    "    # 文節リストをidによるディクショナリ化する\n",
    "    bnst_dic = dict((x.bnst_id, x) for x in bnst_list)\n",
    "    tuples = []\n",
    "    for bnst in bnst_list:\n",
    "        if bnst.parent_id != -1:\n",
    "            # (from, to)\n",
    "            tuples.append((select_normalization_representative_notation(bnst.fstring),\n",
    "                           select_normalization_representative_notation(bnst_dic[bnst.parent_id].fstring)))\n",
    "    return tuples\n",
    "\n",
    "# 文字に色をつけて返す\n",
    "def color(word, color='BLUE'):\n",
    "    BLUE = '\\033[34m'\n",
    "    GREEN = '\\033[32m'\n",
    "    YELLOW = '\\033[33m'\n",
    "    RED = '\\033[31m'\n",
    "    ENDC = '\\033[0m'\n",
    "    if color == 'BLUE':\n",
    "        return BLUE + word + ENDC\n",
    "    elif color == 'GREEN':\n",
    "        return GREEN + word + ENDC\n",
    "    elif color == 'RED':\n",
    "        return RED + word + ENDC\n",
    "    elif color == 'YELLOW':\n",
    "        return YELLOW + word + ENDC\n",
    "    else:\n",
    "        return word"
   ]
  },
  {
   "cell_type": "code",
   "execution_count": 17,
   "metadata": {
    "collapsed": false
   },
   "outputs": [],
   "source": [
    "# csvファイルから文章を読み込んで、「。」を基準にセンテンスごとに分割する\n",
    "list_sentences = readcsv(\"./files/file_1.csv\")\n",
    "list_sentences = [row[1] for row in list_sentences]\n",
    "list_sentences_rev = []\n",
    "for row in list_sentences:\n",
    "    list_sentence = row.split(\"。\")\n",
    "    list_sentences_rev.extend(list_sentence)"
   ]
  },
  {
   "cell_type": "code",
   "execution_count": 3,
   "metadata": {
    "collapsed": false
   },
   "outputs": [],
   "source": [
    "tuples = select_dependency_structure(u\"日々退屈にならないように趣向が凝らされたアクティビティがあります。\")"
   ]
  },
  {
   "cell_type": "code",
   "execution_count": 4,
   "metadata": {
    "collapsed": false
   },
   "outputs": [
    {
     "name": "stdout",
     "output_type": "stream",
     "text": [
      "日々 => 退屈だ\n",
      "退屈だ => 凝らす\n",
      "趣向 => 凝らす\n",
      "凝らす => アクティビティ\n",
      "アクティビティ => 有る\n"
     ]
    }
   ],
   "source": [
    "for row in tuples:\n",
    "    print row[0], \"=>\", row[1]"
   ]
  },
  {
   "cell_type": "code",
   "execution_count": null,
   "metadata": {
    "collapsed": true
   },
   "outputs": [],
   "source": []
  }
 ],
 "metadata": {
  "kernelspec": {
   "display_name": "Python 2",
   "language": "python",
   "name": "python2"
  },
  "language_info": {
   "codemirror_mode": {
    "name": "ipython",
    "version": 2
   },
   "file_extension": ".py",
   "mimetype": "text/x-python",
   "name": "python",
   "nbconvert_exporter": "python",
   "pygments_lexer": "ipython2",
   "version": "2.7.10"
  }
 },
 "nbformat": 4,
 "nbformat_minor": 0
}
