{
 "cells": [
  {
   "cell_type": "code",
   "execution_count": 1,
   "metadata": {
    "collapsed": false
   },
   "outputs": [],
   "source": [
    "# coding: utf-8\n",
    "\"\"\"\n",
    "作成したDNPライブラリを使うためのコード\n",
    "\"\"\"\n",
    "\n",
    "from library.dnp import DNP, Evaluation\n",
    "from library.filer import Filer\n",
    "import glob\n",
    "import numpy as np"
   ]
  },
  {
   "cell_type": "markdown",
   "metadata": {},
   "source": [
    "###ライブラリを使用するためのサンプル"
   ]
  },
  {
   "cell_type": "code",
   "execution_count": null,
   "metadata": {
    "collapsed": false
   },
   "outputs": [],
   "source": [
    "dnp = DNP(inputpath=\"./files/rakuten_corpus/rakuten_corpus_master/preprocessedfile/type3/\")\n",
    "dnp.calculation(low_freq=0.002, low_rate=0.6, n=0, flag_DN=False, flag_louvain=True)\n",
    "print dnp.list_topic_prob\n",
    "dnp.show_topic(n=7)\n",
    "\n",
    "eva = evaluation(\"./files/rakuten_corpus/annotation/all_sep.dump\")\n",
    "eva.cal_f_measure(dnp.list_dict_word_prob, dnp.list_topic_prob)\n",
    "eva.show_score()"
   ]
  },
  {
   "cell_type": "markdown",
   "metadata": {
    "collapsed": false
   },
   "source": [
    "### Newman法によってクラス数を指定して，精度を記録していく．DNなし．修論概要用"
   ]
  },
  {
   "cell_type": "code",
   "execution_count": null,
   "metadata": {
    "collapsed": false,
    "scrolled": true
   },
   "outputs": [],
   "source": [
    "# 記録用の配列\n",
    "list_score = []\n",
    "dnp = DNP(inputpath=\"./files/rakuten_corpus/rakuten_corpus_edgelist_co.csv\")\n",
    "eva = evaluation(\"./files/rakuten_corpus/annotation/all_sep.dump\")\n",
    "for num in range(3, 21):\n",
    "    dnp.calculation(low_freq=0.002, low_rate=0.6, n=num, flag_DN=False, flag_louvain=False)\n",
    "    eva.cal_f_measure(dnp.list_dict_word_prob, dnp.list_topic_prob)\n",
    "    list_score.append([eva.dict_score[\"purity\"], eva.dict_score[\"invpurity\"], eva.dict_score[\"fvalue\"]])\n",
    "# 結果の保存\n",
    "Filer.writecsv(list_score, \"./files/clustering.csv\")"
   ]
  },
  {
   "cell_type": "markdown",
   "metadata": {},
   "source": [
    "### Louvain法によりクラスタ数を指定せずに計算．DNなし．修論概要用"
   ]
  },
  {
   "cell_type": "code",
   "execution_count": null,
   "metadata": {
    "collapsed": false
   },
   "outputs": [],
   "source": [
    "dnp = DNP(inputpath=\"./files/rakuten_corpus/rakuten_corpus_edgelist_co.csv\")\n",
    "eva = evaluation(\"./files/rakuten_corpus/annotation/all_sep.dump\")\n",
    "print \"============\"\n",
    "print \"Newman\"\n",
    "print \"============\"\n",
    "dnp.calculation(low_freq=0.002, low_rate=0.6, n=0, flag_DN=False, flag_louvain=False)\n",
    "eva.cal_f_measure(dnp.list_dict_word_prob, dnp.list_topic_prob)\n",
    "eva.show_score()\n",
    "print \"============\"\n",
    "print \"Louvain\"\n",
    "print \"============\"\n",
    "dnp.calculation(low_freq=0.002, low_rate=0.6, n=0, flag_DN=False, flag_louvain=True)\n",
    "eva.cal_f_measure(dnp.list_dict_word_prob, dnp.list_topic_prob)\n",
    "eva.show_score()"
   ]
  },
  {
   "cell_type": "markdown",
   "metadata": {
    "collapsed": true
   },
   "source": [
    "### Newman法でK=6指定で、トピックの内容とトピック分布を確認、paclic用"
   ]
  },
  {
   "cell_type": "code",
   "execution_count": null,
   "metadata": {
    "collapsed": false,
    "scrolled": true
   },
   "outputs": [],
   "source": [
    "dnp = DNP(inputpath=\"./files/rakuten_corpus/rakuten_corpus_edgelist_co.csv\")\n",
    "eva = evaluation(\"./files/rakuten_corpus/annotation/all_sep.dump\")\n",
    "dnp.calculation(low_freq=0.002, low_rate=0.6, n=6, flag_DN=False, flag_louvain=False)\n",
    "print dnp.list_topic_prob\n",
    "for i in range(0,6):\n",
    "    dnp.show_topic(n=i)"
   ]
  },
  {
   "cell_type": "markdown",
   "metadata": {
    "collapsed": true
   },
   "source": [
    "### Edmundsのコーパスで精度の検証, paclic用, DNなし, louvain"
   ]
  },
  {
   "cell_type": "code",
   "execution_count": null,
   "metadata": {
    "collapsed": false
   },
   "outputs": [],
   "source": [
    "dnp = DNP(inputpath=\"./files/edmunds/edmunds_corpus_edgelist_co.csv\")\n",
    "dnp.calculation(low_freq=0.002, low_rate=0.6, n=0, flag_DN=False, flag_louvain=True)\n",
    "print dnp.list_topic_prob\n",
    "dnp.show_topic(n=7)\n",
    "\n",
    "eva = evaluation(\"./files/edmunds/list_id_label_sep.dump\")\n",
    "eva.cal_f_measure(dnp.list_dict_word_prob, dnp.list_topic_prob)\n",
    "eva.show_score()"
   ]
  },
  {
   "cell_type": "markdown",
   "metadata": {},
   "source": [
    "### Edmundsのコーパスで精度の検証, paclic用, DNなし, Newman"
   ]
  },
  {
   "cell_type": "code",
   "execution_count": null,
   "metadata": {
    "collapsed": false
   },
   "outputs": [],
   "source": [
    "dnp = DNP(inputpath=\"./files/edmunds/edmunds_corpus_edgelist_co.csv\")\n",
    "dnp.calculation(low_freq=0.002, low_rate=0.6, n=0, flag_DN=False, flag_louvain=True)\n",
    "print dnp.list_topic_prob\n",
    "#dnp.show_topic(n=7)\n",
    "\n",
    "eva = evaluation(\"./files/edmunds/list_id_label_sep.dump\")\n",
    "eva.cal_f_measure(dnp.list_dict_word_prob, dnp.list_topic_prob)\n",
    "eva.show_score()"
   ]
  },
  {
   "cell_type": "markdown",
   "metadata": {},
   "source": [
    "### Edmundsのコーパスで精度の検証, paclic用, DNなし, Newman, 3~21"
   ]
  },
  {
   "cell_type": "code",
   "execution_count": null,
   "metadata": {
    "collapsed": false,
    "scrolled": true
   },
   "outputs": [],
   "source": [
    "for i in range(3,21):\n",
    "    dnp = DNP(inputpath=\"./files/edmunds/edmunds_corpus_edgelist_co.csv\")\n",
    "    dnp.calculation(low_freq=0.002, low_rate=0.6, n=i, flag_DN=False, flag_louvain=False)\n",
    "    #dnp.show_topic(n=7)\n",
    "\n",
    "    eva = evaluation(\"./files/edmunds/list_id_label_sep.dump\")\n",
    "    eva.cal_f_measure(dnp.list_dict_word_prob, dnp.list_topic_prob)\n",
    "    eva.show_score()"
   ]
  },
  {
   "cell_type": "markdown",
   "metadata": {},
   "source": [
    "### トピック確認用 paclic"
   ]
  },
  {
   "cell_type": "code",
   "execution_count": null,
   "metadata": {
    "collapsed": false
   },
   "outputs": [],
   "source": [
    "dnp = DNP(inputpath=\"./files/rakuten_corpus/rakuten_corpus_edgelist_co.csv\")\n",
    "dnp.calculation(low_freq=0.002, low_rate=0.6, n=0, flag_DN=False, flag_louvain=True)\n",
    "#dnp.show_topic(n=7)\n",
    "\n",
    "eva = evaluation(\"./files/rakuten_corpus/annotation/all_sep.dump\")\n",
    "eva.cal_f_measure(dnp.list_dict_word_prob, dnp.list_topic_prob)\n",
    "eva.show_score()"
   ]
  },
  {
   "cell_type": "code",
   "execution_count": null,
   "metadata": {
    "collapsed": false
   },
   "outputs": [],
   "source": [
    "dnp.list_topic_prob"
   ]
  },
  {
   "cell_type": "code",
   "execution_count": null,
   "metadata": {
    "collapsed": false
   },
   "outputs": [],
   "source": [
    "print dnp.list_topic_prob"
   ]
  },
  {
   "cell_type": "markdown",
   "metadata": {
    "collapsed": true
   },
   "source": [
    "### window_graph(zhao参照)のグラフを用いた場合の精度"
   ]
  },
  {
   "cell_type": "code",
   "execution_count": 6,
   "metadata": {
    "collapsed": false
   },
   "outputs": [
    {
     "ename": "TypeError",
     "evalue": "'NoneType' object has no attribute '__getitem__'",
     "output_type": "error",
     "traceback": [
      "\u001b[1;31m---------------------------------------------------------------------------\u001b[0m",
      "\u001b[1;31mTypeError\u001b[0m                                 Traceback (most recent call last)",
      "\u001b[1;32m<ipython-input-6-85ada747443c>\u001b[0m in \u001b[0;36m<module>\u001b[1;34m()\u001b[0m\n\u001b[1;32m----> 1\u001b[1;33m \u001b[0mdnp\u001b[0m \u001b[1;33m=\u001b[0m \u001b[0mDNP\u001b[0m\u001b[1;33m(\u001b[0m\u001b[0minputpath\u001b[0m\u001b[1;33m=\u001b[0m\u001b[1;34m\"./files/rakuten_corpus/rakuten_corpus_edgelist_window3.csv\"\u001b[0m\u001b[1;33m)\u001b[0m\u001b[1;33m\u001b[0m\u001b[0m\n\u001b[0m\u001b[0;32m      2\u001b[0m \u001b[0mdnp\u001b[0m\u001b[1;33m.\u001b[0m\u001b[0mcalculation\u001b[0m\u001b[1;33m(\u001b[0m\u001b[0mlow_freq\u001b[0m\u001b[1;33m=\u001b[0m\u001b[1;36m0.002\u001b[0m\u001b[1;33m,\u001b[0m \u001b[0mlow_rate\u001b[0m\u001b[1;33m=\u001b[0m\u001b[1;36m0.6\u001b[0m\u001b[1;33m,\u001b[0m \u001b[0mn\u001b[0m\u001b[1;33m=\u001b[0m\u001b[1;36m20\u001b[0m\u001b[1;33m,\u001b[0m \u001b[0mflag_DN\u001b[0m\u001b[1;33m=\u001b[0m\u001b[0mFalse\u001b[0m\u001b[1;33m,\u001b[0m \u001b[0mflag_louvain\u001b[0m\u001b[1;33m=\u001b[0m\u001b[0mTrue\u001b[0m\u001b[1;33m)\u001b[0m\u001b[1;33m\u001b[0m\u001b[0m\n\u001b[0;32m      3\u001b[0m \u001b[1;31m#dnp.show_topic(n=7)\u001b[0m\u001b[1;33m\u001b[0m\u001b[1;33m\u001b[0m\u001b[0m\n\u001b[0;32m      4\u001b[0m \u001b[1;33m\u001b[0m\u001b[0m\n\u001b[0;32m      5\u001b[0m \u001b[0meva\u001b[0m \u001b[1;33m=\u001b[0m \u001b[0mevaluation\u001b[0m\u001b[1;33m(\u001b[0m\u001b[1;34m\"./files/rakuten_corpus/annotation/all_sep.dump\"\u001b[0m\u001b[1;33m)\u001b[0m\u001b[1;33m\u001b[0m\u001b[0m\n",
      "\u001b[1;32m/home/ikegami/documents/topic_model/library/dnp.py\u001b[0m in \u001b[0;36m__init__\u001b[1;34m(self, inputpath)\u001b[0m\n\u001b[0;32m     25\u001b[0m         \u001b[1;31m# master用のネットワークを作成\u001b[0m\u001b[1;33m\u001b[0m\u001b[1;33m\u001b[0m\u001b[0m\n\u001b[0;32m     26\u001b[0m         \u001b[0mself\u001b[0m\u001b[1;33m.\u001b[0m\u001b[0m_g_master\u001b[0m \u001b[1;33m=\u001b[0m \u001b[0mGraph\u001b[0m\u001b[1;33m(\u001b[0m\u001b[1;33m)\u001b[0m\u001b[1;33m\u001b[0m\u001b[0m\n\u001b[1;32m---> 27\u001b[1;33m         \u001b[0mself\u001b[0m\u001b[1;33m.\u001b[0m\u001b[0m_g_master\u001b[0m\u001b[1;33m.\u001b[0m\u001b[0madd_vertices\u001b[0m\u001b[1;33m(\u001b[0m\u001b[0mself\u001b[0m\u001b[1;33m.\u001b[0m\u001b[0m_dict_network_master\u001b[0m\u001b[1;33m[\u001b[0m\u001b[1;34m\"vertex\"\u001b[0m\u001b[1;33m]\u001b[0m\u001b[1;33m)\u001b[0m\u001b[1;33m\u001b[0m\u001b[0m\n\u001b[0m\u001b[0;32m     28\u001b[0m         \u001b[0mself\u001b[0m\u001b[1;33m.\u001b[0m\u001b[0m_g_master\u001b[0m\u001b[1;33m.\u001b[0m\u001b[0madd_edges\u001b[0m\u001b[1;33m(\u001b[0m\u001b[0mself\u001b[0m\u001b[1;33m.\u001b[0m\u001b[0m_dict_network_master\u001b[0m\u001b[1;33m[\u001b[0m\u001b[1;34m\"edge\"\u001b[0m\u001b[1;33m]\u001b[0m\u001b[1;33m)\u001b[0m\u001b[1;33m\u001b[0m\u001b[0m\n\u001b[0;32m     29\u001b[0m         \u001b[1;31m# 元のネットワークのpagerankを求める\u001b[0m\u001b[1;33m\u001b[0m\u001b[1;33m\u001b[0m\u001b[0m\n",
      "\u001b[1;31mTypeError\u001b[0m: 'NoneType' object has no attribute '__getitem__'"
     ]
    }
   ],
   "source": [
    "dnp = DNP(inputpath=\"./files/rakuten_corpus/rakuten_corpus_edgelist_window3.csv\")\n",
    "dnp.calculation(low_freq=0.002, low_rate=0.6, n=20, flag_DN=False, flag_louvain=True)\n",
    "#dnp.show_topic(n=7)\n",
    "\n",
    "eva = evaluation(\"./files/rakuten_corpus/annotation/all_sep.dump\")\n",
    "eva.cal_f_measure(dnp.list_dict_word_prob, dnp.list_topic_prob)\n",
    "eva.show_score()"
   ]
  },
  {
   "cell_type": "code",
   "execution_count": null,
   "metadata": {
    "collapsed": false
   },
   "outputs": [],
   "source": [
    "dnp = DNP(inputpath=\"./files/rakuten_corpus/rakuten_corpus_edgelist_window5.csv\")\n",
    "dnp.calculation(low_freq=0.002, low_rate=0.6, n=0, flag_DN=False, flag_louvain=True)\n",
    "#dnp.show_topic(n=7)\n",
    "\n",
    "eva = evaluation(\"./files/rakuten_corpus/annotation/all_sep.dump\")\n",
    "eva.cal_f_measure(dnp.list_dict_word_prob, dnp.list_topic_prob)\n",
    "eva.show_score()"
   ]
  },
  {
   "cell_type": "markdown",
   "metadata": {
    "collapsed": true
   },
   "source": [
    "### コーパス数を変化させた時の精度"
   ]
  },
  {
   "cell_type": "code",
   "execution_count": 2,
   "metadata": {
    "collapsed": false
   },
   "outputs": [],
   "source": [
    "list_filepath = glob.glob('./files/edmunds/edmunds_corpus_master/preprocessedfile/type2/forPRTM_bigram/*.txt')\n",
    "list_testfile = Filer.readdump('./files/edmunds/edmunds_corpus_master/testfile/list_sepword_label.dump')\n",
    "list_measure = [row[1] for row in list_testfile]\n",
    "list_testword = [row[0] for row in list_testfile]"
   ]
  },
  {
   "cell_type": "code",
   "execution_count": null,
   "metadata": {
    "collapsed": false
   },
   "outputs": [],
   "source": [
    "for path in list_filepath:\n",
    "    Filer.writetxt([path], 'files/result/edmunds/experiment1/PRTM.txt')\n",
    "    list_word = Filer.readtxt(path)\n",
    "    list_word = [row.split(' ') for row in list_word]\n",
    "    dnp = DNP(inputpath=list_word)\n",
    "    dnp.calculation(flag_louvain=False, n=8, directed = False, flag_OPIC=False)\n",
    "    list_predict = []\n",
    "    list_measure1 = []\n",
    "    for i, row in enumerate(list_testword):\n",
    "        try:\n",
    "            list_prob = dnp.infer(row)\n",
    "            list_predict.append(np.argmax(list_prob))\n",
    "            list_measure1.append(list_measure[i])\n",
    "        except KeyError:\n",
    "            pass\n",
    "    eva = Evaluation()\n",
    "    dict_result = eva.cal_f_measure(list_predict, list_measure1)\n",
    "    Filer.writetxt([' '.join([str(dict_result['purity']), str(dict_result['invpurity']), str(dict_result['fvalue'])])]\n",
    "                   , 'files/result/edmunds/experiment1/PRTM.txt')"
   ]
  },
  {
   "cell_type": "code",
   "execution_count": 53,
   "metadata": {
    "collapsed": false
   },
   "outputs": [
    {
     "name": "stdout",
     "output_type": "stream",
     "text": [
      "対応 0.0305066349412\n",
      "フロント 0.0262732102122\n",
      "いい 0.0192825913038\n",
      "感じ 0.0138512307103\n",
      "チェックイン 0.0131619324807\n",
      "スタッフ 0.0115958495361\n",
      "人 0.0107838007748\n",
      "他 0.00986101394005\n",
      "悪い 0.00915819934586\n",
      "親切 0.00895384518009\n"
     ]
    }
   ],
   "source": [
    "n = 5\n",
    "for row in sorted(dnp.list_dict_word_prob[n].items(), key = lambda x:x[1], reverse=True)[0:10]:\n",
    "    print row[0], row[1]"
   ]
  },
  {
   "cell_type": "code",
   "execution_count": 16,
   "metadata": {
    "collapsed": false
   },
   "outputs": [
    {
     "data": {
      "text/plain": [
       "array([ 0.09022619,  0.33218045,  0.31943457,  0.22261738,  0.02366888,\n",
       "        0.01187253])"
      ]
     },
     "execution_count": 16,
     "metadata": {},
     "output_type": "execute_result"
    }
   ],
   "source": [
    "dnp.list_topic_prob"
   ]
  },
  {
   "cell_type": "code",
   "execution_count": null,
   "metadata": {
    "collapsed": true
   },
   "outputs": [],
   "source": []
  }
 ],
 "metadata": {
  "kernelspec": {
   "display_name": "Python 2",
   "language": "python",
   "name": "python2"
  },
  "language_info": {
   "codemirror_mode": {
    "name": "ipython",
    "version": 2
   },
   "file_extension": ".py",
   "mimetype": "text/x-python",
   "name": "python",
   "nbconvert_exporter": "python",
   "pygments_lexer": "ipython2",
   "version": "2.7.10"
  }
 },
 "nbformat": 4,
 "nbformat_minor": 0
}
