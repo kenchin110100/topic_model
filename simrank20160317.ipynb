{
 "cells": [
  {
   "cell_type": "code",
   "execution_count": 9,
   "metadata": {
    "collapsed": false
   },
   "outputs": [],
   "source": [
    "# coding: utf-8\n",
    "\"\"\"\n",
    "simrankを実装するためのコード\n",
    "\"\"\"\n",
    "from igraph import *\n",
    "import csv\n",
    "import collections\n",
    "import pickle\n",
    "import numpy as np\n",
    "from openopt import QP"
   ]
  },
  {
   "cell_type": "code",
   "execution_count": 38,
   "metadata": {
    "collapsed": true
   },
   "outputs": [],
   "source": [
    "def simrank(G,C,n,t=10):\n",
    "    S = np.identity(n)\n",
    "    I = np.identity(n)\n",
    "    G = normalize(G)\n",
    "    i = 1\n",
    "    while True:\n",
    "        S = C * np.dot(np.dot(G.T,S),G) + (1-C) * I\n",
    "        for j in range(n):\n",
    "            S[j][j] = 1\n",
    "        if i >= t:\n",
    "            break\n",
    "        i += 1\n",
    "    return S\n",
    "\n",
    "def normalize(G):\n",
    "    s = G.sum(0)\n",
    "    return G/s\n",
    "\n",
    "# csvファイルの読み込み\n",
    "def readcsv(path):\n",
    "    f = open(path, \"rb\")\n",
    "    dataReader = csv.reader(f)\n",
    "    arr = [row for row in dataReader]\n",
    "    return arr\n",
    "\n",
    "def writecsv(arr, path):\n",
    "    f = open(path, \"ab\")\n",
    "    dataWriter = csv.writer(f)\n",
    "    dataWriter.writerows(arr)\n",
    "    f.close()\n",
    "\n",
    "def readdump(path):\n",
    "    f = open(path, \"r\")\n",
    "    arr = pickle.load(f)\n",
    "    f.close()\n",
    "    return arr\n",
    "\n",
    "# 有向エッジリストを入力して、matrixを返す\n",
    "def cal_edgelist_to_matrix(list_edge):\n",
    "    # ノードリスト\n",
    "    list_vertices = list(set([word for row in list_edge for word in row]))\n",
    "    dict_vertex_to_num = {vertex: i for i, vertex in enumerate(list_vertices)}\n",
    "    dict_num_to_vertex = {value: key for key, value in dict_vertex_to_num.items()}\n",
    "    M = np.zeros((len(dict_vertex_to_num), len(dict_vertex_to_num)))\n",
    "    for vertex1, vertex2 in list_edge:\n",
    "        M[dict_vertex_to_num[vertex1]][dict_vertex_to_num[vertex2]] += 1\n",
    "    return M, dict_vertex_to_num, dict_num_to_vertex"
   ]
  },
  {
   "cell_type": "code",
   "execution_count": 39,
   "metadata": {
    "collapsed": false
   },
   "outputs": [],
   "source": [
    "# エッジリストの読み込み\n",
    "list_edge = readcsv(\"./files/kaigo_honne/list_edgelist20160127.csv\")\n",
    "# 元のネットワークを作成する（無向）\n",
    "M, dict_vertex_to_num, dict_num_to_vertex = cal_edgelist_to_matrix(list_edge)"
   ]
  },
  {
   "cell_type": "code",
   "execution_count": 55,
   "metadata": {
    "collapsed": false
   },
   "outputs": [],
   "source": [
    "C = 0.8\n",
    "n = 1073\n",
    "S = simrank(M, C, n, t=200)"
   ]
  },
  {
   "cell_type": "code",
   "execution_count": 56,
   "metadata": {
    "collapsed": false
   },
   "outputs": [
    {
     "data": {
      "text/plain": [
       "851"
      ]
     },
     "execution_count": 56,
     "metadata": {},
     "output_type": "execute_result"
    }
   ],
   "source": [
    "dict_vertex_to_num['料理']"
   ]
  },
  {
   "cell_type": "code",
   "execution_count": 57,
   "metadata": {
    "collapsed": false
   },
   "outputs": [],
   "source": [
    "list_num_score = [(i, row) for i, row in enumerate(S[851])]\n",
    "list_num_score = sorted(list_num_score, key=lambda x: x[1], reverse=True)"
   ]
  },
  {
   "cell_type": "code",
   "execution_count": 58,
   "metadata": {
    "collapsed": false
   },
   "outputs": [
    {
     "name": "stdout",
     "output_type": "stream",
     "text": [
      "料理 1.0\n",
      "要素 0.0417369497579\n",
      "床暖房 0.0391652768272\n",
      "遊び 0.0328150300985\n",
      "京王 0.0304979305976\n",
      "想定内 0.0304564135453\n",
      "活き活き 0.0302797718605\n",
      "サイズ 0.0286641214816\n",
      "売店 0.0262673172453\n",
      "記載 0.0260635401995\n"
     ]
    }
   ],
   "source": [
    "for i in range(10):\n",
    "    print dict_num_to_vertex[list_num_score[i][0]], list_num_score[i][1]"
   ]
  },
  {
   "cell_type": "code",
   "execution_count": 54,
   "metadata": {
    "collapsed": false
   },
   "outputs": [
    {
     "name": "stdout",
     "output_type": "stream",
     "text": [
      "料理 1.0\n",
      "要素 0.0417369497565\n",
      "床暖房 0.0391652768258\n",
      "遊び 0.032815030097\n",
      "京王 0.0304979305961\n",
      "想定内 0.0304564135439\n",
      "活き活き 0.030279771859\n",
      "サイズ 0.0286641214801\n",
      "売店 0.0262673172439\n",
      "記載 0.026063540198\n"
     ]
    }
   ],
   "source": [
    "for i in range(10):\n",
    "    print dict_num_to_vertex[list_num_score[i][0]], list_num_score[i][1]"
   ]
  },
  {
   "cell_type": "code",
   "execution_count": null,
   "metadata": {
    "collapsed": true
   },
   "outputs": [],
   "source": []
  }
 ],
 "metadata": {
  "kernelspec": {
   "display_name": "Python 2",
   "language": "python",
   "name": "python2"
  },
  "language_info": {
   "codemirror_mode": {
    "name": "ipython",
    "version": 2
   },
   "file_extension": ".py",
   "mimetype": "text/x-python",
   "name": "python",
   "nbconvert_exporter": "python",
   "pygments_lexer": "ipython2",
   "version": "2.7.11"
  }
 },
 "nbformat": 4,
 "nbformat_minor": 0
}
