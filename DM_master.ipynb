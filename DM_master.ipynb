{
 "cells": [
  {
   "cell_type": "code",
   "execution_count": 1,
   "metadata": {
    "collapsed": false
   },
   "outputs": [],
   "source": [
    "# coding: utf-8\n",
    "\"\"\"\n",
    "DM計算用\n",
    "\"\"\"\n",
    "from library.filer import Filer\n",
    "from library.mixture_of_unigram_model import MUM\n",
    "from library.dnp import Evaluation\n",
    "import glob\n",
    "import numpy as np"
   ]
  },
  {
   "cell_type": "code",
   "execution_count": 4,
   "metadata": {
    "collapsed": true
   },
   "outputs": [],
   "source": [
    "list_filepath = glob.glob('files/rakuten_corpus/rakuten_corpus_master/preprocessedfile/type2/forUM/*.txt')\n",
    "list_testfile = Filer.readdump('./files/rakuten_corpus/rakuten_corpus_master/testfile/list_sepword_label.dump')\n",
    "list_testword = [row[0] for row in list_testfile]\n",
    "list_label = [row[1] for row in list_testfile]"
   ]
  },
  {
   "cell_type": "code",
   "execution_count": null,
   "metadata": {
    "collapsed": false,
    "scrolled": true
   },
   "outputs": [],
   "source": [
    "for path in list_filepath:\n",
    "    print path\n",
    "    path_rev = path.replace('files/rakuten_corpus/rakuten_corpus_master/preprocessedfile/type2/forUM/', '')\n",
    "    Filer.writetxt([path_rev], './files/result/rakuten/experiment3/DM.txt')\n",
    "    for z in range(3,50):\n",
    "        K = z\n",
    "        alpha = 0.01    # 初期ハイパーパラメータalpha\n",
    "        beta = 0.01     # 初期ハイパーパラメータbeta\n",
    "        N = 1000        # 最大イテレーション回数\n",
    "        converge = 0.01 # イテレーション10回ごとに対数尤度を計算し，その差分(converge)が小さければ学習を終了する\n",
    "\n",
    "        mum = MUM(path)\n",
    "        mum.set_param(alpha, beta, K, N, converge)\n",
    "        likelihood = mum.learn()\n",
    "        Filer.writetxt([str(z) + ' ' + str(likelihood)], './files/result/rakuten/experiment3/DM.txt')\n",
    "    \n",
    "        list_predict = []\n",
    "        for row in list_testword:\n",
    "            try:\n",
    "                list_prob = mum.infer(row)\n",
    "                list_predict.append(np.argmax(list_prob))\n",
    "            except KeyError:\n",
    "                list_predict.append(None)\n",
    "\n",
    "        list_predict_rev = []\n",
    "        list_label_rev = []\n",
    "        for predict, label in zip(list_predict, list_label):\n",
    "            if predict != None:\n",
    "                list_predict_rev.append(predict)\n",
    "                list_label_rev.append(label)\n",
    "\n",
    "        eva = Evaluation()\n",
    "        dict_result = eva.cal_f_measure(list_predict_rev, list_label_rev)\n",
    "        Filer.writetxt([' '.join([str(dict_result['purity']),str(dict_result['invpurity']),str(dict_result['fvalue'])])],\n",
    "                       './files/result/rakuten/experiment3/DM.txt')"
   ]
  },
  {
   "cell_type": "code",
   "execution_count": null,
   "metadata": {
    "collapsed": true
   },
   "outputs": [],
   "source": []
  }
 ],
 "metadata": {
  "kernelspec": {
   "display_name": "Python 2",
   "language": "python",
   "name": "python2"
  },
  "language_info": {
   "codemirror_mode": {
    "name": "ipython",
    "version": 2
   },
   "file_extension": ".py",
   "mimetype": "text/x-python",
   "name": "python",
   "nbconvert_exporter": "python",
   "pygments_lexer": "ipython2",
   "version": "2.7.10"
  }
 },
 "nbformat": 4,
 "nbformat_minor": 0
}
