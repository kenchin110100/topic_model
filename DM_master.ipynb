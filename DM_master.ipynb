{
 "cells": [
  {
   "cell_type": "code",
   "execution_count": 1,
   "metadata": {
    "collapsed": false
   },
   "outputs": [],
   "source": [
    "# coding: utf-8\n",
    "\"\"\"\n",
    "DM計算用\n",
    "\"\"\"\n",
    "from library.filer import Filer\n",
    "from library.mixture_of_unigram_model import MUM\n",
    "from library.dnp import Evaluation\n",
    "import glob\n",
    "import numpy as np\n",
    "from sklearn.metrics import adjusted_mutual_info_score, adjusted_rand_score, completeness_score, homogeneity_completeness_v_measure, homogeneity_score, normalized_mutual_info_score"
   ]
  },
  {
   "cell_type": "code",
   "execution_count": 3,
   "metadata": {
    "collapsed": true
   },
   "outputs": [],
   "source": [
    "list_filepath = glob.glob('files/rakuten_corpus/rakuten_corpus_master/preprocessedfile/type2/forUM/*.txt')\n",
    "list_filepath.sort()\n",
    "list_testfile = Filer.readdump('./files/rakuten_corpus/rakuten_corpus_master/testfile/list_sepword_label.dump')\n",
    "list_testword = [row[0] for row in list_testfile]\n",
    "list_label = [row[1] for row in list_testfile]\n",
    "\n",
    "outputpath = './files/result/rakuten/experiment1/DM.txt'\n",
    "removepath = 'files/rakuten_corpus/rakuten_corpus_master/preprocessedfile/type2/forUM/'"
   ]
  },
  {
   "cell_type": "code",
   "execution_count": null,
   "metadata": {
    "collapsed": false,
    "scrolled": true
   },
   "outputs": [],
   "source": [
    "for path in list_filepath:\n",
    "    print path\n",
    "    path_rev = path.replace(removepath, '')\n",
    "    Filer.writetxt([path_rev], outputpath)\n",
    "    for iteration in range(0,10):\n",
    "        K = 6\n",
    "        alpha = 0.01    # 初期ハイパーパラメータalpha\n",
    "        beta = 0.01     # 初期ハイパーパラメータbeta\n",
    "        N = 1000        # 最大イテレーション回数\n",
    "        converge = 0.01 # イテレーション10回ごとに対数尤度を計算し，その差分(converge)が小さければ学習を終了する\n",
    "\n",
    "        mum = MUM(path)\n",
    "        mum.set_param(alpha, beta, K, N, converge)\n",
    "        likelihood = mum.learn()\n",
    "        Filer.writetxt([str(K) + ' ' + str(likelihood)], outputpath)\n",
    "    \n",
    "        list_predict = []\n",
    "        for row in list_testword:\n",
    "            try:\n",
    "                list_prob = mum.infer(row)\n",
    "                list_predict.append(np.argmax(list_prob))\n",
    "            except KeyError:\n",
    "                list_predict.append(None)\n",
    "\n",
    "        list_predict_rev = []\n",
    "        list_label_rev = []\n",
    "        for predict, label in zip(list_predict, list_label):\n",
    "            if predict != None:\n",
    "                list_predict_rev.append(predict)\n",
    "                list_label_rev.append(label)\n",
    "\n",
    "        eva = Evaluation()\n",
    "        dict_result = eva.cal_f_measure(list_predict_rev, list_label_rev)\n",
    "        \n",
    "        # NMI\n",
    "        NMI = normalized_mutual_info_score(list_label_rev, list_predict_rev)\n",
    "        # vm\n",
    "        H, C, VM = homogeneity_completeness_v_measure(list_label_rev, list_predict_rev)\n",
    "        # ARI\n",
    "        ARI = adjusted_rand_score(list_label_rev, list_predict_rev)\n",
    "        # AMI\n",
    "        AMI = adjusted_mutual_info_score(list_label_rev, list_predict_rev)\n",
    "\n",
    "        Filer.writetxt([' '.join([str(dict_result['purity']),str(dict_result['invpurity']),str(dict_result['fvalue']),\n",
    "                                  str(NMI), str(H), str(C), str(VM), str(ARI), str(AMI), str(K)])],\n",
    "                       outputpath)"
   ]
  },
  {
   "cell_type": "code",
   "execution_count": 11,
   "metadata": {
    "collapsed": true
   },
   "outputs": [],
   "source": [
    "# 正解データの読み込み\n",
    "list_sep = Filer.readdump('./files/corpus/rakuten/all_sep.dump')\n",
    "list_label = [row[1] for row in list_sep]\n",
    "list_testword = [row[2] for row in list_sep]"
   ]
  },
  {
   "cell_type": "code",
   "execution_count": 12,
   "metadata": {
    "collapsed": false
   },
   "outputs": [],
   "source": [
    "path = './files/corpus/rakuten/rakuten_corpus_for_UM.txt'\n",
    "for K in range(20,21):\n",
    "    for num in range(10):\n",
    "        alpha = 0.01    # 初期ハイパーパラメータalpha\n",
    "        beta = 0.01     # 初期ハイパーパラメータbeta\n",
    "        N = 1000        # 最大イテレーション回数\n",
    "        converge = 0.01 # イテレーション10回ごとに対数尤度を計算し，その差分(converge)が小さければ学習を終了する\n",
    "        mum = MUM(path)\n",
    "        mum.set_param(alpha, beta, K, N, converge)\n",
    "        perplexity = mum.learn()\n",
    "\n",
    "        list_predict = []\n",
    "        for row in list_testword:\n",
    "            try:\n",
    "                list_prob = mum.infer(row)\n",
    "                list_predict.append(np.argmax(list_prob))\n",
    "            except KeyError:\n",
    "                list_predict.append(None)\n",
    "\n",
    "        list_predict_rev = []\n",
    "        list_label_rev = []\n",
    "        for predict, label in zip(list_predict, list_label):\n",
    "            if predict != None:\n",
    "                list_predict_rev.append(predict)\n",
    "                list_label_rev.append(label)\n",
    "\n",
    "        eva = Evaluation()\n",
    "        dict_score = eva.cal_f_measure(list_predict_rev, list_label_rev)\n",
    "        list_tmp = [str(dict_score['K']), str(dict_score['fvalue']),\n",
    "                    str(dict_score['purity']), str(dict_score['invpurity']),\n",
    "                    str(perplexity)]\n",
    "        Filer.writetxt([' '.join(list_tmp)], './files/DM_result.txt')"
   ]
  },
  {
   "cell_type": "code",
   "execution_count": 13,
   "metadata": {
    "collapsed": false
   },
   "outputs": [
    {
     "name": "stdout",
     "output_type": "stream",
     "text": [
      "3 0.289529302683\n",
      "4 0.280054719777\n",
      "5 0.250646636355\n",
      "6 0.252925176394\n",
      "7 0.236021646034\n",
      "8 0.225934602132\n",
      "9 0.223262665051\n",
      "10 0.226311380158\n",
      "11 0.211979940481\n",
      "12 0.20656644137\n",
      "13 0.196238463333\n",
      "14 0.193479058187\n",
      "15 0.19266294799\n",
      "16 0.190002568845\n",
      "17 0.181602128912\n",
      "18 0.17755596978\n",
      "19 0.177351578156\n",
      "20 0.179067433462\n",
      "21 0.172415925592\n",
      "22 0.170892005706\n",
      "23 0.166299941842\n",
      "24 0.167301317881\n",
      "25 0.159761515737\n",
      "26 0.163701473668\n",
      "27 0.158234262148\n",
      "28 0.159163700819\n",
      "29 0.1496265994\n",
      "30 0.15526870851\n",
      "31 0.154376546485\n",
      "32 0.154419838106\n",
      "33 0.150796828087\n",
      "34 0.15287303829\n",
      "35 0.146556162093\n",
      "36 0.146787050876\n",
      "37 0.152776511368\n",
      "38 0.163528232455\n",
      "39 0.146984279268\n",
      "40 0.151664862909\n",
      "41 0.149895447878\n",
      "42 0.156443053496\n",
      "43 0.164322704336\n",
      "44 0.17452946419\n",
      "45 0.1704216875\n",
      "46 0.175201739231\n",
      "47 0.146072676382\n",
      "48 0.172166149345\n",
      "49 0.161476386236\n"
     ]
    }
   ],
   "source": [
    "path = './files/corpus/rakuten/rakuten_corpus_for_UM.txt'\n",
    "for K in range(3,50):\n",
    "    list_ave = []\n",
    "    for i in range(3):\n",
    "        alpha = 0.01    # 初期ハイパーパラメータalpha\n",
    "        beta = 0.01     # 初期ハイパーパラメータbeta\n",
    "        N = 100        # 最大イテレーション回数\n",
    "        converge = 0.01 # イテレーション10回ごとに対数尤度を計算し，その差分(converge)が小さければ学習を終了する\n",
    "        mum = MUM(path)\n",
    "        mum.set_param(alpha, beta, K, N, converge)\n",
    "        perplexity = mum.learn()\n",
    "        list_ave.append(mum.cal_ave_dis())\n",
    "    print K, np.average(list_ave)"
   ]
  },
  {
   "cell_type": "code",
   "execution_count": null,
   "metadata": {
    "collapsed": true
   },
   "outputs": [],
   "source": []
  }
 ],
 "metadata": {
  "kernelspec": {
   "display_name": "Python 2",
   "language": "python",
   "name": "python2"
  },
  "language_info": {
   "codemirror_mode": {
    "name": "ipython",
    "version": 2
   },
   "file_extension": ".py",
   "mimetype": "text/x-python",
   "name": "python",
   "nbconvert_exporter": "python",
   "pygments_lexer": "ipython2",
   "version": "2.7.9"
  }
 },
 "nbformat": 4,
 "nbformat_minor": 0
}
