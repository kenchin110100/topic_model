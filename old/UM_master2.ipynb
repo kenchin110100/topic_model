{
 "cells": [
  {
   "cell_type": "code",
   "execution_count": 1,
   "metadata": {
    "collapsed": false
   },
   "outputs": [],
   "source": [
    "# coding: utf-8\n",
    "\"\"\"\n",
    "UMで精度の検証\n",
    "\"\"\"\n",
    "from library.filer import Filer\n",
    "from library.sampleUM2 import UM\n",
    "from library.dnp import Evaluation\n",
    "import glob\n",
    "import numpy as np"
   ]
  },
  {
   "cell_type": "code",
   "execution_count": 2,
   "metadata": {
    "collapsed": false
   },
   "outputs": [],
   "source": [
    "list_filepath = glob.glob('files/edmunds/edmunds_corpus_master/preprocessedfile/type2/forUM/*.txt')\n",
    "list_testfile = Filer.readdump('./files/edmunds/edmunds_corpus_master/testfile/list_sepword_label.dump')\n",
    "list_testword = [row[0] for row in list_testfile]\n",
    "list_label = [row[1] for row in list_testfile]"
   ]
  },
  {
   "cell_type": "code",
   "execution_count": 3,
   "metadata": {
    "collapsed": false,
    "scrolled": true
   },
   "outputs": [
    {
     "name": "stdout",
     "output_type": "stream",
     "text": [
      "files/edmunds/edmunds_corpus_master/preprocessedfile/type2/forUM/edmunds_preprocessed_189400.txt\n",
      "finish:  1  iteration\n",
      "likelihood:  -42.8310059182\n",
      "finish:  11  iteration\n",
      "likelihood:  -44.4627444012\n",
      "finish:  21  iteration\n",
      "likelihood:  -44.5853515024\n",
      "finish all:  -44.5853515024\n"
     ]
    },
    {
     "ename": "NameError",
     "evalue": "name 'likelihood' is not defined",
     "output_type": "error",
     "traceback": [
      "\u001b[1;31m---------------------------------------------------------------------------\u001b[0m",
      "\u001b[1;31mNameError\u001b[0m                                 Traceback (most recent call last)",
      "\u001b[1;32m<ipython-input-3-5d08946803af>\u001b[0m in \u001b[0;36m<module>\u001b[1;34m()\u001b[0m\n\u001b[0;32m     10\u001b[0m         \u001b[0mlikeihood\u001b[0m \u001b[1;33m=\u001b[0m \u001b[0mum\u001b[0m\u001b[1;33m.\u001b[0m\u001b[0mfit\u001b[0m\u001b[1;33m(\u001b[0m\u001b[1;33m)\u001b[0m\u001b[1;33m\u001b[0m\u001b[0m\n\u001b[0;32m     11\u001b[0m \u001b[1;33m\u001b[0m\u001b[0m\n\u001b[1;32m---> 12\u001b[1;33m         \u001b[0mFiler\u001b[0m\u001b[1;33m.\u001b[0m\u001b[0mwritetxt\u001b[0m\u001b[1;33m(\u001b[0m\u001b[1;33m[\u001b[0m\u001b[0mstr\u001b[0m\u001b[1;33m(\u001b[0m\u001b[0mz\u001b[0m\u001b[1;33m)\u001b[0m \u001b[1;33m+\u001b[0m \u001b[1;34m' '\u001b[0m \u001b[1;33m+\u001b[0m \u001b[0mstr\u001b[0m\u001b[1;33m(\u001b[0m\u001b[0mlikelihood\u001b[0m\u001b[1;33m)\u001b[0m\u001b[1;33m]\u001b[0m\u001b[1;33m,\u001b[0m \u001b[1;34m'./files/result/edmunds/experiment3/UM.txt'\u001b[0m\u001b[1;33m)\u001b[0m\u001b[1;33m\u001b[0m\u001b[0m\n\u001b[0m\u001b[0;32m     13\u001b[0m \u001b[1;33m\u001b[0m\u001b[0m\n\u001b[0;32m     14\u001b[0m         \u001b[0mlist_predict\u001b[0m \u001b[1;33m=\u001b[0m \u001b[1;33m[\u001b[0m\u001b[1;33m]\u001b[0m\u001b[1;33m\u001b[0m\u001b[0m\n",
      "\u001b[1;31mNameError\u001b[0m: name 'likelihood' is not defined"
     ]
    }
   ],
   "source": [
    "for path in list_filepath:\n",
    "    print path\n",
    "    path_rev = path.replace('files/edmunds/edmunds_corpus_master/preprocessedfile/type2/forUM/', '')\n",
    "    Filer.writetxt([path_rev], './files/result/edmunds/experiment3/UM.txt')\n",
    "    for z in range(3, 50):\n",
    "        list_word = Filer.readtxt(path)\n",
    "        list_word = [row.split(' ') for row in list_word]\n",
    "        um = UM(alpha=1.0, beta=1.0, K=z, converge=0.01, max_iter=100)\n",
    "        um.set_param(list_d_words=list_word)\n",
    "        likeihood = um.fit()\n",
    "        \n",
    "        Filer.writetxt([str(z) + ' ' + str(likelihood)], './files/result/edmunds/experiment3/UM.txt')\n",
    "    \n",
    "        list_predict = []\n",
    "        for row in list_testword:\n",
    "            try:\n",
    "                list_prob = um.infer(row)\n",
    "                list_predict.append(np.argmax(list_prob))\n",
    "            except KeyError:\n",
    "                list_predict.append(None)\n",
    "        \n",
    "        list_predict_rev = []\n",
    "        list_label_rev = []\n",
    "        for predict, label in zip(list_predict, list_label):\n",
    "            if predict != None:\n",
    "                list_predict_rev.append(predict)\n",
    "                list_label_rev.append(label)\n",
    "\n",
    "        eva = Evaluation()\n",
    "        dict_result = eva.cal_f_measure(list_predict_rev, list_label_rev)\n",
    "        Filer.writetxt([' '.join([str(dict_result['purity']),str(dict_result['invpurity']),str(dict_result['fvalue'])])],\n",
    "                       './files/result/edmunds/experiment3/UM.txt')"
   ]
  },
  {
   "cell_type": "code",
   "execution_count": null,
   "metadata": {
    "collapsed": false
   },
   "outputs": [],
   "source": [
    "list_theta = um.list_theta\n",
    "list_dict_phi = um.list_dict_phi"
   ]
  },
  {
   "cell_type": "code",
   "execution_count": null,
   "metadata": {
    "collapsed": false
   },
   "outputs": [],
   "source": [
    "n = 1\n",
    "for row in sorted(um.list_dict_phi[n].items(), key=lambda x: x[1], reverse=True)[0:20]:\n",
    "    print row[0], row[1]"
   ]
  },
  {
   "cell_type": "code",
   "execution_count": null,
   "metadata": {
    "collapsed": true
   },
   "outputs": [],
   "source": []
  }
 ],
 "metadata": {
  "kernelspec": {
   "display_name": "Python 2",
   "language": "python",
   "name": "python2"
  },
  "language_info": {
   "codemirror_mode": {
    "name": "ipython",
    "version": 2
   },
   "file_extension": ".py",
   "mimetype": "text/x-python",
   "name": "python",
   "nbconvert_exporter": "python",
   "pygments_lexer": "ipython2",
   "version": "2.7.10"
  }
 },
 "nbformat": 4,
 "nbformat_minor": 0
}
