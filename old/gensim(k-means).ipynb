{
 "cells": [
  {
   "cell_type": "code",
   "execution_count": 40,
   "metadata": {
    "collapsed": true
   },
   "outputs": [],
   "source": [
    "# coding: utf-8\n",
    "\"\"\"\n",
    "tf-idfによるトピックの抽出\n",
    "k-meansによるクラスタリング\n",
    "精度の検証\n",
    "\"\"\"\n",
    "from gensim import corpora, models, similarities\n",
    "import csv\n",
    "import MeCab\n",
    "import numpy as np\n",
    "import pickle\n",
    "from sklearn import cluster\n",
    "import collections\n",
    "\n",
    "# csvファイルの読み込み\n",
    "def readcsv(path):\n",
    "    f = open(path, \"rb\")\n",
    "    dataReader = csv.reader(f)\n",
    "    arr = [row for row in dataReader]\n",
    "    return arr\n",
    "\n",
    "def writecsv(arr, path):\n",
    "    f = open(path, \"ab\")\n",
    "    dataWriter = csv.writer(f)\n",
    "    dataWriter.writerows(arr)\n",
    "    f.close()\n",
    "    \n",
    "def readdump(path):\n",
    "    f = open(path, \"r\")\n",
    "    arr = pickle.load(f)\n",
    "    f.close()\n",
    "    return arr\n",
    "    \n",
    "def parsing(sentence):\n",
    "    mecab = MeCab.Tagger(\"-d /usr/local/lib/mecab/dic/mecab-ipadic-neologd\")\n",
    "    res = mecab.parseToNode(sentence)\n",
    "    list_words = []\n",
    "    while res:\n",
    "        features = res.feature.split(\",\")\n",
    "        if (features[0] == \"名詞\" and features[1] in [\"一般\", \"固有名詞\", \"サ変接続\", \"形容動詞語幹\"]) or features[0] == \"形容詞\":\n",
    "            if features[6] == \"*\":\n",
    "                list_words.append(res.surface)\n",
    "            else:\n",
    "                list_words.append(features[6])\n",
    "        res = res.next\n",
    "    return list_words\n",
    "\n",
    "# 正規化する関数\n",
    "def normalize(vector):\n",
    "    tmp = np.sqrt(np.sum(vector * vector))\n",
    "    if tmp == 0:\n",
    "        return vector\n",
    "    else:\n",
    "        return vector / tmp\n",
    "    \n",
    "# f_measureを計算する\n",
    "def cal_f_measure(list_predict_measure):\n",
    "    # 生成したクラスタ内のカウント\n",
    "    dict_predict_cluster = collections.defaultdict(list)\n",
    "    for row in list_predict_measure:\n",
    "        dict_predict_cluster[row[0]].append(row[1])\n",
    "        \n",
    "    # もとあるクラス内のカウント\n",
    "    dict_measure_cluster = collections.defaultdict(list)\n",
    "    for row in list_predict_measure:\n",
    "        dict_measure_cluster[row[1]].append(row[0])\n",
    "    \n",
    "    # local_purityの計算\n",
    "    list_purity = []\n",
    "    for row in dict_predict_cluster.items():\n",
    "        major_class = sorted(collections.Counter(row[1]).items(), key=lambda x: x[1], reverse=True)[0][1]\n",
    "        class_num = len(row[1])\n",
    "        list_purity.append([major_class, class_num])\n",
    "    purity = float(np.sum(zip(*list_purity)[0])) / np.sum(zip(*list_purity)[1])\n",
    "    print \"Purity: \", purity\n",
    "    \n",
    "    # inverse_purityの計算\n",
    "    list_inverse_purity = []\n",
    "    for row in dict_measure_cluster.items():\n",
    "        major_class = sorted(collections.Counter(row[1]).items(), key=lambda x: x[1], reverse=True)[0][1]\n",
    "        class_num = len(row[1])\n",
    "        list_inverse_purity.append([major_class, class_num])\n",
    "    inverse_purity = float(np.sum(zip(*list_inverse_purity)[0])) / np.sum(zip(*list_inverse_purity)[1])\n",
    "    print \"Inverse Purity: \", inverse_purity\n",
    "    \n",
    "    print \"F-value: \", 2 / (1 / purity + 1 / inverse_purity)"
   ]
  },
  {
   "cell_type": "markdown",
   "metadata": {},
   "source": [
    "形態素解析して、bag of words を作成"
   ]
  },
  {
   "cell_type": "code",
   "execution_count": 41,
   "metadata": {
    "collapsed": false
   },
   "outputs": [],
   "source": [
    "list_corpus = readdump(\"./files/list_sep_words_label.dump\")\n",
    "list_corpus, list_label = zip(*list_corpus)\n",
    "list_corpus = list(list_corpus)\n",
    "list_label = list(list_label)"
   ]
  },
  {
   "cell_type": "code",
   "execution_count": 42,
   "metadata": {
    "collapsed": false
   },
   "outputs": [
    {
     "data": {
      "text/plain": [
       "Counter({'0': 798, '5': 420, '3': 414, '1': 405, '4': 400, '2': 379, '6': 345, '7': 193, '': 1, '760\\xe5\\x86\\x86\\xe3\\x81\\xae\\xe6\\x94\\xaf\\xe6\\x89\\x95\\xe3\\x81\\xa7\\xe3\\x80\\x81\\xe5\\xae\\xb6\\xe8\\xb3\\x83\\xe3\\x80\\x81\\xe7\\xae\\xa1\\xe7\\x90\\x86\\xe8\\xb2\\xbb\\xe3\\x80\\x81\\xe7\\x94\\x9f\\xe6\\xb4\\xbb\\xe3\\x82\\xb5\\xe3\\x83\\xbc\\xe3\\x83\\x93\\xe3\\x82\\xb9\\xe8\\xb2\\xbb\\xe3\\x80\\x81\\xe9\\xa3\\x9f\\xe8\\xb2\\xbb\\xe3\\x81\\x8c\\xe5\\x90\\xab\\xe3\\x81\\xbf\\xe5\\x85\\xa5\\xe3\\x82\\x8a\\xe3\\x81\\xa7\\xe3\\x81\\x99': 1, '880\\xe4\\xb8\\x87\\xe5\\x86\\x86\\xe3\\x81\\xa83': 1, '500\\xe5\\x86\\x86\\xe3\\x81\\xae\\xe5\\xae\\xb6\\xe8\\xb3\\x83\\xe3\\x81\\xa864': 1, '000\\xe5\\x86\\x86\\xe3\\x81\\xab\\xe5\\x88\\xa5\\xe9\\x80\\x9410': 1, '000\\xe5\\x86\\x86\\xe3\\x82\\x92\\xe8\\xb6\\x85\\xe3\\x81\\x88\\xe3\\x82\\x8b\\xe7\\xa8\\x8b\\xe5\\xba\\xa6\\xe3\\x81\\xab\\xe3\\x81\\xaa\\xe3\\x82\\x8b\\xe3\\x81\\xae\\xe3\\x81\\xa7\\xe3\\x80\\x81\\xe8\\x80\\x81\\xe4\\xba\\xba\\xe3\\x83\\x9b\\xe3\\x83\\xbc\\xe3\\x83\\xa0\\xe3\\x81\\xae\\xe6\\x96\\x99\\xe9\\x87\\x91\\xe3\\x81\\xa8\\xe3\\x81\\x97\\xe3\\x81\\xa6\\xe3\\x81\\xaf\\xe3\\x82\\x84\\xe3\\x82\\x84\\xe9\\xab\\x98\\xe3\\x82\\x81\\xe3\\x81\\xaa\\xe6\\x84\\x9f\\xe3\\x81\\x98\\xe3\\x82\\x82\\xe3\\x81\\x99\\xe3\\x82\\x8b\\xe3\\x82\\x93\\xe3\\x81\\xa7\\xe3\\x81\\x99\\xe3\\x81\\x8c\\xe3\\x80\\x81\\xe6\\x96\\xbd\\xe8\\xa8\\xad\\xe3\\x83\\xac\\xe3\\x83\\x99\\xe3\\x83\\xab\\xe3\\x81\\x8c\\xe3\\x81\\xa8\\xe3\\x81\\xa6\\xe3\\x82\\x82\\xe8\\x89\\xaf\\xe3\\x81\\x84\\xe3\\x81\\xae\\xe3\\x81\\xa7\\xe3\\x80\\x81\\xe3\\x82\\xb3\\xe3\\x82\\xb9\\xe3\\x83\\x91\\xe7\\x9a\\x84\\xe3\\x81\\xab\\xe3\\x81\\xaf\\xe5\\xa6\\xa5\\xe5\\xbd\\x93\\xe3\\x81\\xaa\\xe6\\x84\\x9f\\xe3\\x81\\x98\\xe3\\x82\\x82': 1, '000\\xe4\\xb8\\x87\\xe5\\x86\\x86\\xe3\\x81\\xa8\\xe7\\x9b\\xb8\\xe5\\xbf\\x9c\\xe3\\x81\\xae\\xe8\\xb2\\xbb\\xe7\\x94\\xa8\\xe3\\x81\\xa7\\xe3\\x81\\x99': 1})"
      ]
     },
     "execution_count": 42,
     "metadata": {},
     "output_type": "execute_result"
    }
   ],
   "source": [
    "collections.Counter(list_label)"
   ]
  },
  {
   "cell_type": "markdown",
   "metadata": {},
   "source": [
    "辞書を作成して、コーパスにidを振る"
   ]
  },
  {
   "cell_type": "code",
   "execution_count": 43,
   "metadata": {
    "collapsed": true
   },
   "outputs": [],
   "source": [
    "dictionary = corpora.Dictionary(list_corpus)\n",
    "list_corpus_id = [dictionary.doc2bow(text) for text in list_corpus]"
   ]
  },
  {
   "cell_type": "markdown",
   "metadata": {},
   "source": [
    "tfidfモデルを作成して、計算、スパースマトリックスを変換する"
   ]
  },
  {
   "cell_type": "code",
   "execution_count": 44,
   "metadata": {
    "collapsed": false
   },
   "outputs": [],
   "source": [
    "tfidf = models.TfidfModel(list_corpus_id)\n",
    "tfidf_corpus = [tfidf[list_corpus_id[i]] for i in range(len(list_corpus_id))]\n",
    "tfidf_corpus_rev = np.zeros((len(list_corpus_id), len(dictionary.token2id)))\n",
    "for i, row in enumerate(tfidf_corpus):\n",
    "    for j in row:\n",
    "        tfidf_corpus_rev[i][j[0]] = j[1]\n",
    "tfidf_corpus_rev = [normalize(row) for row in tfidf_corpus_rev]"
   ]
  },
  {
   "cell_type": "markdown",
   "metadata": {},
   "source": [
    "k-meansにより、tf-idfをクラスタリング"
   ]
  },
  {
   "cell_type": "code",
   "execution_count": 49,
   "metadata": {
    "collapsed": true
   },
   "outputs": [],
   "source": [
    "kmeans = cluster.KMeans(n_clusters=7)\n",
    "kmeans.fit(tfidf_corpus_rev)\n",
    "result = kmeans.labels_"
   ]
  },
  {
   "cell_type": "code",
   "execution_count": 50,
   "metadata": {
    "collapsed": false
   },
   "outputs": [
    {
     "data": {
      "text/plain": [
       "Counter({2: 1979, 0: 487, 4: 250, 1: 218, 6: 213, 3: 149, 5: 65})"
      ]
     },
     "execution_count": 50,
     "metadata": {},
     "output_type": "execute_result"
    }
   ],
   "source": [
    "collections.Counter(result)"
   ]
  },
  {
   "cell_type": "markdown",
   "metadata": {},
   "source": [
    "予測ラベル、正解ラベルのリストを作成する"
   ]
  },
  {
   "cell_type": "code",
   "execution_count": 51,
   "metadata": {
    "collapsed": false
   },
   "outputs": [
    {
     "name": "stdout",
     "output_type": "stream",
     "text": [
      "3361\n",
      "3361\n",
      "3354\n"
     ]
    }
   ],
   "source": [
    "print len(result)\n",
    "print len(list_label)\n",
    "list_predict_label = []\n",
    "for i in range(len(result)):\n",
    "    try:\n",
    "        list_predict_label.append([result[i], int(list_label[i])])\n",
    "    except:\n",
    "        pass\n",
    "print len(list_predict_label)"
   ]
  },
  {
   "cell_type": "markdown",
   "metadata": {},
   "source": [
    "クラスタ内の単語を頻度順に表示"
   ]
  },
  {
   "cell_type": "code",
   "execution_count": 52,
   "metadata": {
    "collapsed": false
   },
   "outputs": [
    {
     "name": "stdout",
     "output_type": "stream",
     "text": [
      "Purity:  0.355694692904\n",
      "Inverse Purity:  0.590339892665\n",
      "F-value:  0.443917738386\n"
     ]
    }
   ],
   "source": [
    "cal_f_measure(list_predict_label)"
   ]
  },
  {
   "cell_type": "code",
   "execution_count": null,
   "metadata": {
    "collapsed": true
   },
   "outputs": [],
   "source": []
  }
 ],
 "metadata": {
  "kernelspec": {
   "display_name": "Python 2",
   "language": "python",
   "name": "python2"
  },
  "language_info": {
   "codemirror_mode": {
    "name": "ipython",
    "version": 2
   },
   "file_extension": ".py",
   "mimetype": "text/x-python",
   "name": "python",
   "nbconvert_exporter": "python",
   "pygments_lexer": "ipython2",
   "version": "2.7.10"
  }
 },
 "nbformat": 4,
 "nbformat_minor": 0
}
