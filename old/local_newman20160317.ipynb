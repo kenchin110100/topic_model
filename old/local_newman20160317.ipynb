{
 "cells": [
  {
   "cell_type": "code",
   "execution_count": 1,
   "metadata": {
    "collapsed": true
   },
   "outputs": [],
   "source": [
    "# coding: utf-8\n",
    "\"\"\"\n",
    "local_newman法の実装\n",
    "\"\"\"\n",
    "import numpy as np\n",
    "import copy\n",
    "\n",
    "def cal_R(list_B, list_C, list_U, list_edge_BB, list_edge_BC, list_edge_BU):\n",
    "    top = 0\n",
    "    down = 0\n",
    "    for num, row in enumerate(matrix):\n",
    "        if num in list_B:\n",
    "            top += np.sum(row[list_C])\n",
    "            down += np.sum(row)\n",
    "    return float(top) / down\n",
    "\n",
    "def divide_B_to_C(list_BC, list_U, matrix):\n",
    "    list_B = []\n",
    "    list_C = []\n",
    "    for num in list_BC:\n",
    "        if np.sum(matrix[num][list_others]) == 0:\n",
    "            list_C.append(num)\n",
    "        else:\n",
    "            list_B.append(num)\n",
    "    return list_B, list_C\n",
    "\n",
    "def cal_list_U(list_BC, matrix):\n",
    "    list_U = []\n",
    "    for num in list_BC:\n",
    "        "
   ]
  },
  {
   "cell_type": "code",
   "execution_count": null,
   "metadata": {
    "collapsed": true
   },
   "outputs": [],
   "source": [
    "list_BC = []\n",
    "list_others = range(n)\n",
    "\n",
    "while len(list_BC) < k:\n",
    "    for num in list_others:\n",
    "        list_BC.append(num)\n",
    "        "
   ]
  }
 ],
 "metadata": {
  "kernelspec": {
   "display_name": "Python 2",
   "language": "python",
   "name": "python2"
  },
  "language_info": {
   "codemirror_mode": {
    "name": "ipython",
    "version": 2
   },
   "file_extension": ".py",
   "mimetype": "text/x-python",
   "name": "python",
   "nbconvert_exporter": "python",
   "pygments_lexer": "ipython2",
   "version": "2.7.11"
  }
 },
 "nbformat": 4,
 "nbformat_minor": 0
}
