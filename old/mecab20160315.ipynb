{
 "cells": [
  {
   "cell_type": "code",
   "execution_count": 1,
   "metadata": {
    "collapsed": false
   },
   "outputs": [],
   "source": [
    "# coding: utf-8\n",
    "\"\"\"\n",
    "楽天レビューでトピックを抽出するための学習ファイルの作成\n",
    "UM用に1文ずつ形態素解析を行っていく\n",
    "\"\"\"\n",
    "import MeCab\n",
    "import csv\n",
    "import collections\n",
    "import pickle\n",
    "\n",
    "def parsing(sentence):\n",
    "    mecab = MeCab.Tagger(\"-d /usr/local/lib/mecab/dic/mecab-ipadic-neologd\")\n",
    "    res = mecab.parseToNode(sentence)\n",
    "    list_words = []\n",
    "    while res:\n",
    "        features = res.feature.split(\",\")\n",
    "        if (features[0] == \"名詞\" and features[1] in [\"一般\", \"固有名詞\", \"サ変接続\", \"形容動詞語幹\"]) or features[0] == \"形容詞\":\n",
    "            if features[6] == \"*\":\n",
    "                list_words.append(res.surface)\n",
    "            else:\n",
    "                list_words.append(features[6])\n",
    "        res = res.next\n",
    "    return list_words\n",
    "\n",
    "# csvファイルの読み込み\n",
    "def readcsv(path):\n",
    "    f = open(path, \"rb\")\n",
    "    dataReader = csv.reader(f)\n",
    "    arr = [row for row in dataReader]\n",
    "    return arr\n",
    "\n",
    "def readtsv(path):\n",
    "    f = open(path, \"rb\")\n",
    "    dataReader = csv.reader(f, delimiter='\\t')\n",
    "    arr = [row for row in dataReader]\n",
    "    return arr\n",
    "\n",
    "def writecsv(arr, path):\n",
    "    f = open(path, \"ab\")\n",
    "    dataWriter = csv.writer(f)\n",
    "    dataWriter.writerows(arr)\n",
    "    f.close()\n",
    "\n",
    "def writedump(arr, path):\n",
    "    f = open(path, \"w\")\n",
    "    pickle.dump(arr, f)\n",
    "    f.close()"
   ]
  },
  {
   "cell_type": "markdown",
   "metadata": {},
   "source": [
    "### コーパス作成\n",
    "1. 空白行を削除"
   ]
  },
  {
   "cell_type": "code",
   "execution_count": 3,
   "metadata": {
    "collapsed": false
   },
   "outputs": [],
   "source": [
    "list_sentences = readtsv(\"./files/rakuten_corpus/annotation01_tsukuba_corpus_20140930.tsv\")\n",
    "# 同じユーザーの口コミを1文にまとめる\n",
    "list_sentences_rev = []\n",
    "for row in list_sentences:\n",
    "    if row[5] != \"\":\n",
    "        list_sentences_rev.append(row[5])\n",
    "\n",
    "\n",
    "# 形態素解析したリストを作成\n",
    "list_words = [parsing(row) for row in list_sentences_rev]\n",
    "\n",
    "# 各単語の頻度を数え上げる\n",
    "list_words_collection = []\n",
    "for row in list_words:\n",
    "    list_words_collection.extend(row)\n",
    "list_words_collection = collections.Counter(list_words_collection).items()\n",
    "\n",
    "# 除去語リストを作成\n",
    "list_words_remove = []\n",
    "for row in list_words_collection:\n",
    "    if row[1] < 3 or row[1] > 300:\n",
    "        list_words_remove.append(row[0])\n",
    "\n",
    "# 除去語リスト内の単語を削除\n",
    "list_words_rev = []\n",
    "for row in list_words:\n",
    "    list_words_tmp = []\n",
    "    for word in row:\n",
    "        if word in list_words_remove:\n",
    "            pass\n",
    "        else:\n",
    "            list_words_tmp.append(word)\n",
    "    list_words_rev.append(list_words_tmp)"
   ]
  },
  {
   "cell_type": "code",
   "execution_count": 6,
   "metadata": {
    "collapsed": false
   },
   "outputs": [],
   "source": [
    "list_words_rev = [[\" \".join(row)] for row in list_words_rev]"
   ]
  },
  {
   "cell_type": "markdown",
   "metadata": {},
   "source": [
    "### 空白でsepしてtxt形式で保存"
   ]
  },
  {
   "cell_type": "code",
   "execution_count": 7,
   "metadata": {
    "collapsed": false
   },
   "outputs": [],
   "source": [
    "writecsv(list_words_rev, \"./files/rakuten_corpus/rakuten_corpus_for_UM.txt\")"
   ]
  },
  {
   "cell_type": "code",
   "execution_count": null,
   "metadata": {
    "collapsed": true
   },
   "outputs": [],
   "source": []
  }
 ],
 "metadata": {
  "kernelspec": {
   "display_name": "Python 2",
   "language": "python",
   "name": "python2"
  },
  "language_info": {
   "codemirror_mode": {
    "name": "ipython",
    "version": 2
   },
   "file_extension": ".py",
   "mimetype": "text/x-python",
   "name": "python",
   "nbconvert_exporter": "python",
   "pygments_lexer": "ipython2",
   "version": "2.7.11"
  }
 },
 "nbformat": 4,
 "nbformat_minor": 0
}
