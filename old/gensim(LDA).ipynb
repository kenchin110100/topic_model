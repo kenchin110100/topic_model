{
 "cells": [
  {
   "cell_type": "code",
   "execution_count": 46,
   "metadata": {
    "collapsed": true
   },
   "outputs": [],
   "source": [
    "# coding: utf-8\n",
    "\"\"\"\n",
    "gensimを用いたLDA\n",
    "\"\"\"\n",
    "\n",
    "from gensim import corpora, models, similarities\n",
    "import csv\n",
    "import MeCab\n",
    "\n",
    "# csvファイルの読み込み\n",
    "def readcsv(path):\n",
    "    f = open(path, \"rb\")\n",
    "    dataReader = csv.reader(f)\n",
    "    arr = [row for row in dataReader]\n",
    "    return arr\n",
    "\n",
    "def writecsv(arr, path):\n",
    "    f = open(path, \"ab\")\n",
    "    dataWriter = csv.writer(f)\n",
    "    dataWriter.writerows(arr)\n",
    "    f.close()\n",
    "    \n",
    "def parsing(sentence):\n",
    "    mecab = MeCab.Tagger(\"-d /usr/local/lib/mecab/dic/mecab-ipadic-neologd\")\n",
    "    res = mecab.parseToNode(sentence)\n",
    "    list_words = []\n",
    "    while res:\n",
    "        features = res.feature.split(\",\")\n",
    "        if (features[0] == \"名詞\" and features[1] in [\"一般\", \"固有名詞\", \"サ変接続\", \"形容動詞語幹\"]) or features[0] == \"形容詞\":\n",
    "            if features[6] == \"*\":\n",
    "                list_words.append(res.surface)\n",
    "            else:\n",
    "                list_words.append(features[6])\n",
    "        res = res.next\n",
    "    return list_words"
   ]
  },
  {
   "cell_type": "markdown",
   "metadata": {},
   "source": [
    "コーパスを読み込んで、形態素解析、bag of wordsを作成"
   ]
  },
  {
   "cell_type": "code",
   "execution_count": 47,
   "metadata": {
    "collapsed": true
   },
   "outputs": [],
   "source": [
    "list_corpus = readcsv(\"./files/file_1.csv\")\n",
    "list_corpuses = [row[1].split(\"。\") for row in list_corpus]\n",
    "list_corpuses = [sentence for row in list_corpuses for sentence in row]\n",
    "list_bag_of_words = [parsing(sentence) for sentence in list_corpuses]"
   ]
  },
  {
   "cell_type": "markdown",
   "metadata": {},
   "source": [
    "bag of wordsから辞書を作成して、高頻度語、低頻度語を除去し、マッピング"
   ]
  },
  {
   "cell_type": "code",
   "execution_count": 49,
   "metadata": {
    "collapsed": false
   },
   "outputs": [],
   "source": [
    "dictionary = corpora.Dictionary(list_bag_of_words)\n",
    "# idで削除\n",
    "#dictionary.filter_tokens(bad_ids=[4, 95, 93, 64, 32, 112, 178, 36, 28,\n",
    "#                                  16, 27, 104, 83, 324, 193])\n",
    "# 頻度で削除\n",
    "#dictionary.filter_extremes(no_below=3)\n",
    "dictionary.save_as_text(\"./files/dictionary1.txt\", sort_by_word=False)\n",
    "dictionary = corpora.Dictionary.load_from_text(\"./files/dictionary.txt\")"
   ]
  },
  {
   "cell_type": "markdown",
   "metadata": {},
   "source": [
    "辞書からコーパスを作成して、ldaでモデリング、結果をプロット"
   ]
  },
  {
   "cell_type": "code",
   "execution_count": 84,
   "metadata": {
    "collapsed": true
   },
   "outputs": [],
   "source": [
    "corpus = [dictionary.doc2bow(text) for text in list_bag_of_words]\n",
    "lda = models.LdaModel(corpus=corpus, id2word=dictionary, num_topics=13)\n",
    "\n",
    "for i, row in enumerate(lda.show_topics(0)):\n",
    "    print row"
   ]
  }
 ],
 "metadata": {
  "kernelspec": {
   "display_name": "Python 2",
   "language": "python",
   "name": "python2"
  },
  "language_info": {
   "codemirror_mode": {
    "name": "ipython",
    "version": 2
   },
   "file_extension": ".py",
   "mimetype": "text/x-python",
   "name": "python",
   "nbconvert_exporter": "python",
   "pygments_lexer": "ipython2",
   "version": "2.7.10"
  }
 },
 "nbformat": 4,
 "nbformat_minor": 0
}
