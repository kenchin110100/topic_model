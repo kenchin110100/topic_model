{
 "cells": [
  {
   "cell_type": "code",
   "execution_count": 1,
   "metadata": {
    "collapsed": true
   },
   "outputs": [],
   "source": [
    "# coding: utf-8\n",
    "\"\"\"\n",
    "pagerankの高速計算法の実装\n",
    "\"\"\"\n",
    "import numpy as np\n",
    "import scipy as sp"
   ]
  },
  {
   "cell_type": "code",
   "execution_count": 2,
   "metadata": {
    "collapsed": true
   },
   "outputs": [],
   "source": [
    "list_vertex = [\"a\", \"b\", \"c\", \"d\"]\n",
    "list_edge = [[\"a\", \"b\"], [\"a\", \"c\"], [\"c\", \"d\"]]\n",
    "list_weight = [2, 2, 1]"
   ]
  },
  {
   "cell_type": "code",
   "execution_count": null,
   "metadata": {
    "collapsed": true
   },
   "outputs": [],
   "source": [
    "dict_vertex_num = {row: num for num, word in enumerate(list_vertex)}\n",
    "H = sp.sparse.lil_matrix((len(list_vertex),len(list_vertex)))\n",
    "for row, weight in zip(list_edge, list_weight):\n",
    "    H[dict_vertex_num[row[0]], dict_vertex_num[row[1]]] = weight\n",
    "    H[dict_vertex_num[row[1]], dict_vertex_num[row[0]]] = weight\n",
    "H = H.tocsr()"
   ]
  }
 ],
 "metadata": {
  "kernelspec": {
   "display_name": "Python 2",
   "language": "python",
   "name": "python2"
  },
  "language_info": {
   "codemirror_mode": {
    "name": "ipython",
    "version": 2
   },
   "file_extension": ".py",
   "mimetype": "text/x-python",
   "name": "python",
   "nbconvert_exporter": "python",
   "pygments_lexer": "ipython2",
   "version": "2.7.10"
  }
 },
 "nbformat": 4,
 "nbformat_minor": 0
}
