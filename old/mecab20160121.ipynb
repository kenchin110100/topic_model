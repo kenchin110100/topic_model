{
 "cells": [
  {
   "cell_type": "code",
   "execution_count": 1,
   "metadata": {
    "collapsed": false
   },
   "outputs": [],
   "source": [
    "# coding: utf-8\n",
    "\"\"\"\n",
    "・mecabで形態素解析して、接続詞をもとに文節ごとに区切る\n",
    "\"\"\"\n",
    "import MeCab\n",
    "import csv\n",
    "import collections\n",
    "\n",
    "def parsing(sentence):\n",
    "    mecab = MeCab.Tagger(\"-d /usr/local/lib/mecab/dic/mecab-ipadic-neologd\")\n",
    "    res = mecab.parseToNode(sentence)\n",
    "    list_words = []\n",
    "    while res:\n",
    "        features = res.feature.split(\",\")\n",
    "        if (features[0] == \"名詞\" and features[1] in [\"一般\", \"固有名詞\", \"サ変接続\", \"形容動詞語幹\"]) or features[0] == \"形容詞\":\n",
    "            if features[6] == \"*\":\n",
    "                list_words.append(res.surface)\n",
    "            else:\n",
    "                list_words.append(features[6])\n",
    "        res = res.next\n",
    "    return list_words\n",
    "\n",
    "# csvファイルの読み込み\n",
    "def readcsv(path):\n",
    "    f = open(path, \"rb\")\n",
    "    dataReader = csv.reader(f)\n",
    "    arr = [row for row in dataReader]\n",
    "    return arr\n",
    "\n",
    "def writecsv(arr, path):\n",
    "    f = open(path, \"ab\")\n",
    "    dataWriter = csv.writer(f)\n",
    "    dataWriter.writerows(arr)\n",
    "    f.close()"
   ]
  },
  {
   "cell_type": "code",
   "execution_count": 2,
   "metadata": {
    "collapsed": false
   },
   "outputs": [],
   "source": [
    "list_sentences = readcsv(\"./files/file_1.csv\")"
   ]
  },
  {
   "cell_type": "markdown",
   "metadata": {},
   "source": [
    "形態素解析してネットワークを作成"
   ]
  },
  {
   "cell_type": "code",
   "execution_count": 29,
   "metadata": {
    "collapsed": false
   },
   "outputs": [],
   "source": [
    "list_words = [parsing(row[1]) for row in list_sentences]\n",
    "list_master = []\n",
    "for i in range(len(list_words)):\n",
    "    for j in range(len(list_words[i])-1):\n",
    "        list_master.append([list_words[i][j], list_words[i][j+1]])\n",
    "writecsv(list_master, \"./files/text_for_cytoscape.csv\")"
   ]
  },
  {
   "cell_type": "markdown",
   "metadata": {},
   "source": [
    "頻度を数え上げ、高頻度、低頻度語を削除"
   ]
  },
  {
   "cell_type": "code",
   "execution_count": 42,
   "metadata": {
    "collapsed": true
   },
   "outputs": [],
   "source": [
    "list_words_collection = []\n",
    "for row in list_words:\n",
    "    list_words_collection.extend(row)\n",
    "\n",
    "list_words_collection = collections.Counter(list_words_collection).items()\n",
    "\n",
    "list_words_collection1 = []\n",
    "for row in list_words_collection:\n",
    "    if row[1] > 2:\n",
    "        list_words_collecion1.append(row)\n",
    "        t\n",
    "list_words_collection2 = sorted(list_words_collection1, key=lambda x: x[1], reverse=True)\n",
    "list_words_collection3 = list_words_collection2[17:]\n",
    "list_words_collection4 = [row[0] for row in list_words_collection3]\n",
    "\n",
    "list_master_rev = []\n",
    "for row in list_master:\n",
    "    if row[0] in list_words_collection4 and row[1] in list_words_collection4:\n",
    "        list_master_rev.append(row)\n",
    "writecsv(list_master_rev, \"./files/text_for_cytoscape_rev.csv\")"
   ]
  }
 ],
 "metadata": {
  "kernelspec": {
   "display_name": "Python 2",
   "language": "python",
   "name": "python2"
  },
  "language_info": {
   "codemirror_mode": {
    "name": "ipython",
    "version": 2
   },
   "file_extension": ".py",
   "mimetype": "text/x-python",
   "name": "python",
   "nbconvert_exporter": "python",
   "pygments_lexer": "ipython2",
   "version": "2.7.10"
  }
 },
 "nbformat": 4,
 "nbformat_minor": 0
}
