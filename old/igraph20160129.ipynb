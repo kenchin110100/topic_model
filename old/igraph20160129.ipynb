{
 "cells": [
  {
   "cell_type": "code",
   "execution_count": 1,
   "metadata": {
    "collapsed": true
   },
   "outputs": [],
   "source": [
    "# coding: utf-8\n",
    "\"\"\"\n",
    "igraphを使ったグラフクラスタリング\n",
    "greedyアルゴリズム（louvain法）によってクラスタリングした後\n",
    "サブグラフの中心性指標を図ることで単語の順位付けを行う\n",
    "媒介中心性と固有ベクトル中心性の２種類を採用\n",
    "注意: 全ての単語の確率を測定していない\n",
    "\n",
    "d3.jsによる可視化をするための下準備\n",
    "階層的なクラスタを全て抜き取る\n",
    "\"\"\"\n",
    "from igraph import *\n",
    "import csv\n",
    "import collections\n",
    "import pickle\n",
    "import numpy as np\n",
    "import cairo\n",
    "import json\n",
    "\n",
    "# csvファイルの読み込み\n",
    "def readcsv(path):\n",
    "    f = open(path, \"rb\")\n",
    "    dataReader = csv.reader(f)\n",
    "    arr = [row for row in dataReader]\n",
    "    return arr\n",
    "\n",
    "def writecsv(arr, path):\n",
    "    f = open(path, \"ab\")\n",
    "    dataWriter = csv.writer(f)\n",
    "    dataWriter.writerows(arr)\n",
    "    f.close()\n",
    "\n",
    "# 有向エッジリストを入力して、重み付き無向ネットワークを出力する\n",
    "def cal_edgelist_to_network(list_edge):\n",
    "    # 有向エッジリストを無向エッジリストに変換する\n",
    "    list_edge = [tuple(sorted(row)) for row in list_edge]\n",
    "    # ノードリスト\n",
    "    list_vertices = list(set([word for row in list_edge for word in row]))\n",
    "    # エッジリストとそのweightを作成\n",
    "    tuple_edge, tuple_weight = zip(*collections.Counter(list_edge).items())\n",
    "    return {\"vertex\": list_vertices, \"edge\": list(tuple_edge), \"weight\": list(tuple_weight)}\n",
    "\n",
    "# クラスタリング済みのネットワークを元にサブグラフのリストを作成\n",
    "# vertexには全てのvertexを代入する（PageRankを計算するため）\n",
    "def cal_cluster_to_network(dict_network):\n",
    "    if dict_network.has_key(\"cluster\") == False:\n",
    "        print \"クラスタリングができていません\"\n",
    "    \n",
    "    # クラスタごとにwordをまとめる\n",
    "    dict_cluster = collections.defaultdict(list)\n",
    "    for word, cluster in zip(dict_network[\"vertex\"], dict_network[\"cluster\"]):\n",
    "        dict_cluster[cluster].append(word)\n",
    "\n",
    "    # リストに変換\n",
    "    list_cluster_vertex = [row[1] for row in dict_cluster.items()]\n",
    "    \n",
    "    # 同様にエッジとウェイトのリストも作成する\n",
    "    list_cluster_edge = []\n",
    "    list_cluster_weight = []\n",
    "    for cluster_vertex in list_cluster_vertex:\n",
    "        list_cluster_edge_one = []\n",
    "        list_cluster_weight_one = []\n",
    "        # エッジリストの中に、一つでもノードが含まれていれば、そのクラスのノードに含める\n",
    "        for row, weight in zip(dict_network[\"edge\"], dict_network[\"weight\"]):\n",
    "            # and と or を切り替えることによって性能の比較\n",
    "            if row[0] in cluster_vertex or row[1] in cluster_vertex:\n",
    "                list_cluster_edge_one.append(row)\n",
    "                list_cluster_weight_one.append(weight)\n",
    "        list_cluster_edge.append(list_cluster_edge_one)\n",
    "        list_cluster_weight.append(list_cluster_weight_one)\n",
    "    \n",
    "    # まとめる\n",
    "    list_dict_network = [{\"vertex\": dict_network[\"vertex\"],\n",
    "                          \"edge\": cluster_edge,\n",
    "                          \"weight\": cluster_weight}\n",
    "                         for cluster_edge, cluster_weight\n",
    "                         in zip(list_cluster_edge, list_cluster_weight)]\n",
    "    \n",
    "    return list_dict_network\n",
    "\n",
    "# f_measureを計算する\n",
    "def cal_f_measure(list_predict_measure):\n",
    "    # 生成したクラスタ内のカウント\n",
    "    dict_predict_cluster = collections.defaultdict(list)\n",
    "    for row in list_predict_measure:\n",
    "        dict_predict_cluster[row[0]].append(row[1])\n",
    "        \n",
    "    # もとあるクラス内のカウント\n",
    "    dict_measure_cluster = collections.defaultdict(list)\n",
    "    for row in list_predict_measure:\n",
    "        dict_measure_cluster[row[1]].append(row[0])\n",
    "    \n",
    "    # local_purityの計算\n",
    "    list_purity = []\n",
    "    for row in dict_predict_cluster.items():\n",
    "        major_class = sorted(collections.Counter(row[1]).items(), key=lambda x: x[1], reverse=True)[0][1]\n",
    "        class_num = len(row[1])\n",
    "        list_purity.append([major_class, class_num])\n",
    "    purity = float(np.sum(zip(*list_purity)[0])) / np.sum(zip(*list_purity)[1])\n",
    "    print purity\n",
    "    \n",
    "    # inverse_purityの計算\n",
    "    list_inverse_purity = []\n",
    "    for row in dict_measure_cluster.items():\n",
    "        score1 = len(row[1])\n",
    "        class_number = sorted(collections.Counter(row[1]).items(), key=lambda x: x[1], reverse=True)[0][0]\n",
    "        score2 = len(dict_predict_cluster[class_number])\n",
    "        score3 = sorted(collections.Counter(row[1]).items(), key=lambda x: x[1], reverse=True)[0][1]\n",
    "        score4 = float(score3) * score2 / score1\n",
    "        list_inverse_purity.append(score4)\n",
    "    inverse_purity = np.sum(list_inverse_purity) / len(list_predict_measure)\n",
    "    print inverse_purity\n",
    "    \n",
    "    return 2 / (1 / purity + 1 / inverse_purity)"
   ]
  },
  {
   "cell_type": "markdown",
   "metadata": {},
   "source": [
    "エッジリストを読み込み、louvain法によりクラスタリングする"
   ]
  },
  {
   "cell_type": "code",
   "execution_count": 90,
   "metadata": {
    "collapsed": false
   },
   "outputs": [],
   "source": [
    "# エッジリストの読み込み\n",
    "list_edge = readcsv(\"./files/list_edgelist20160127.csv\")\n",
    "# 元のネットワークを作成する（無向）\n",
    "dict_network_master = cal_edgelist_to_network(list_edge)\n",
    "# g = Graph(directed=True)\n",
    "g_master = Graph()\n",
    "g_master.add_vertices(dict_network_master[\"vertex\"])\n",
    "g_master.add_edges(dict_network_master[\"edge\"])\n",
    "# louvain法によるクラスタリング\n",
    "result = g_master.community_fastgreedy(weights=dict_network_master[\"weight\"])"
   ]
  },
  {
   "cell_type": "markdown",
   "metadata": {},
   "source": [
    "階層クラスタリングの結果をもとに、dictionaryにクラスタid, マージしたクラスタ、ノード（重み付き）、エッジを格納する"
   ]
  },
  {
   "cell_type": "code",
   "execution_count": 133,
   "metadata": {
    "collapsed": false,
    "scrolled": true
   },
   "outputs": [],
   "source": [
    "dict_cluster = {}\n",
    "# 初期クラスタのvertexを記録\n",
    "for i, word in enumerate(dict_network_master[\"vertex\"]):\n",
    "    dict_cluster[i] = {\"vertex\": [word], \"merge\": []}\n",
    "\n",
    "# クラスタリング後のvertex、マージしたクラスタidを記録\n",
    "for i, row in enumerate(result.merges):\n",
    "    dict_cluster[i + len(dict_network_master[\"vertex\"])] = {}\n",
    "    dict_cluster[i + len(dict_network_master[\"vertex\"])][\"vertex\"] = dict_cluster[row[0]][\"vertex\"] + dict_cluster[row[1]][\"vertex\"]\n",
    "    dict_cluster[i + len(dict_network_master[\"vertex\"])][\"merge\"] = [\"id\"+str(row[0]), \"id\"+str(row[1])]\n",
    "\n",
    "# 各クラスタのvertexからedge、weightを抜き取り、pagerankを計算する\n",
    "for i in range(len(dict_cluster)):\n",
    "    list_cluster_edge_one = []\n",
    "    list_cluster_weight_one = []\n",
    "    list_cluster_vertex_one = []\n",
    "    # エッジリストの中に、一つでもノードが含まれていれば、そのクラスのノードに含める\n",
    "    for row, weight in zip(dict_network_master[\"edge\"], dict_network_master[\"weight\"]):\n",
    "    # and と or を切り替えることによって性能の比較\n",
    "        if row[0] in dict_cluster[i][\"vertex\"] or row[1] in dict_cluster[i][\"vertex\"]:\n",
    "            list_cluster_edge_one.append(row)\n",
    "            list_cluster_weight_one.append(weight)\n",
    "            list_cluster_vertex_one.append(row[0])\n",
    "            list_cluster_vertex_one.append(row[1])\n",
    "    dict_cluster[i][\"edge\"] = list_cluster_edge_one\n",
    "    dict_cluster[i][\"weight\"] = list_cluster_weight_one\n",
    "    list_cluster_vertex_one = list(set(list_cluster_vertex_one))\n",
    "    g_sub = Graph()\n",
    "    g_sub.add_vertices(list_cluster_vertex_one)\n",
    "    g_sub.add_edges(dict_cluster[i][\"edge\"])\n",
    "    # pagerankを計算し、vertexと共に記録する\n",
    "    result_pagerank = g_sub.pagerank(directed=False, weights=dict_cluster[i][\"weight\"])\n",
    "    list_cluster_vertex_one = sorted(zip(list_cluster_vertex_one, result_pagerank), key=lambda x: x[1], reverse=True)\n",
    "    dict_cluster[i][\"vertex\"] = list_cluster_vertex_one\n",
    "    \n",
    "# dict_clusterのkeyをint型からstr型に変換\n",
    "dict_cluster_rev = {}\n",
    "for key, value in dict_cluster.items():\n",
    "    dict_cluster_rev[\"id\"+str(key)] = value"
   ]
  },
  {
   "cell_type": "markdown",
   "metadata": {},
   "source": [
    "入れ子構造にデータを整形する"
   ]
  },
  {
   "cell_type": "code",
   "execution_count": 136,
   "metadata": {
    "collapsed": false
   },
   "outputs": [],
   "source": [
    "dict_cluster = {}\n",
    "for key, value in dict_cluster_rev.items():\n",
    "    try:\n",
    "        dict_cluster[key] = {'id': key,\n",
    "                             'text': [\", \".join([value[\"vertex\"][i][0] for i in range(0, 5)]), \", \".join([value[\"vertex\"][i][0] for i in range(5, 10)])],\n",
    "                             'size': np.sum(dict_cluster_rev[key]['weight']),\n",
    "                             'children': value[\"merge\"]}\n",
    "    except IndexError:\n",
    "        dict_cluster[key] = {'id': key,\n",
    "                             'text': [\", \".join([value[\"vertex\"][i][0] for i in range(len(value[\"vertex\"]))])],\n",
    "                             'size': np.sum(dict_cluster_rev[key]['weight']),\n",
    "                             'children': value[\"merge\"]}"
   ]
  },
  {
   "cell_type": "code",
   "execution_count": 166,
   "metadata": {
    "collapsed": false
   },
   "outputs": [
    {
     "name": "stdout",
     "output_type": "stream",
     "text": [
      "判断, 悪い, 面談, 建物, 連絡, 自分, 居室, 人, 希望\n"
     ]
    }
   ],
   "source": [
    "for row in dict_cluster[\"id679\"][\"text\"]:\n",
    "    print row"
   ]
  },
  {
   "cell_type": "code",
   "execution_count": 149,
   "metadata": {
    "collapsed": false
   },
   "outputs": [],
   "source": [
    "dict_cluster[\"id2117\"][\"children\"] = [dict_cluster[\"id2116\"], dict_cluster[\"id679\"]]\n",
    "dict_cluster[\"id2138\"][\"children\"] = [dict_cluster[\"id2117\"], dict_cluster[\"id792\"]]\n",
    "# dict_cluster[\"id2126\"][\"children\"] = [dict_cluster[\"id2118\"], dict_cluster[\"id2097\"]]\n",
    "#dict_cluster[\"id2133\"][\"children\"] = [dict_cluster[\"id2129\"], dict_cluster[\"id1774\"]]\n",
    "#dict_cluster[\"id2136\"][\"children\"] = [dict_cluster[\"id2133\"], dict_cluster[\"id1706\"]]"
   ]
  },
  {
   "cell_type": "markdown",
   "metadata": {},
   "source": [
    "dict_clusterの情報をJSON形式で保存する"
   ]
  },
  {
   "cell_type": "code",
   "execution_count": 150,
   "metadata": {
    "collapsed": false
   },
   "outputs": [],
   "source": [
    "FILEOUT = './files/dict_cluster20160201_nest6.json'\n",
    "\n",
    "f = open(FILEOUT, 'w')\n",
    "json.dump(dict_cluster[\"id2138\"], f)\n",
    "f.close()"
   ]
  },
  {
   "cell_type": "code",
   "execution_count": null,
   "metadata": {
    "collapsed": true
   },
   "outputs": [],
   "source": []
  }
 ],
 "metadata": {
  "kernelspec": {
   "display_name": "Python 2",
   "language": "python",
   "name": "python2"
  },
  "language_info": {
   "codemirror_mode": {
    "name": "ipython",
    "version": 2
   },
   "file_extension": ".py",
   "mimetype": "text/x-python",
   "name": "python",
   "nbconvert_exporter": "python",
   "pygments_lexer": "ipython2",
   "version": "2.7.10"
  }
 },
 "nbformat": 4,
 "nbformat_minor": 0
}
