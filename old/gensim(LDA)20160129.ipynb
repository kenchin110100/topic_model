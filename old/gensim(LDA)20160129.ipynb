{
 "cells": [
  {
   "cell_type": "code",
   "execution_count": 13,
   "metadata": {
    "collapsed": true
   },
   "outputs": [],
   "source": [
    "# coding: utf-8\n",
    "\"\"\"\n",
    "gensimを用いたLDA\n",
    "purityの計算\n",
    "\"\"\"\n",
    "\n",
    "from gensim import corpora, models, similarities\n",
    "import csv\n",
    "import MeCab\n",
    "import pickle\n",
    "import collections\n",
    "import numpy as np\n",
    "\n",
    "# csvファイルの読み込み\n",
    "def readcsv(path):\n",
    "    f = open(path, \"rb\")\n",
    "    dataReader = csv.reader(f)\n",
    "    arr = [row for row in dataReader]\n",
    "    return arr\n",
    "\n",
    "def writecsv(arr, path):\n",
    "    f = open(path, \"ab\")\n",
    "    dataWriter = csv.writer(f)\n",
    "    dataWriter.writerows(arr)\n",
    "    f.close()\n",
    "\n",
    "def readdump(path):\n",
    "    f = open(path, \"r\")\n",
    "    arr = pickle.load(f)\n",
    "    f.close()\n",
    "    return arr\n",
    "\n",
    "# f_measureを計算する\n",
    "def cal_f_measure(list_predict_measure):\n",
    "    # 生成したクラスタ内のカウント\n",
    "    dict_predict_cluster = collections.defaultdict(list)\n",
    "    for row in list_predict_measure:\n",
    "        dict_predict_cluster[row[0]].append(row[1])\n",
    "        \n",
    "    # もとあるクラス内のカウント\n",
    "    dict_measure_cluster = collections.defaultdict(list)\n",
    "    for row in list_predict_measure:\n",
    "        dict_measure_cluster[row[1]].append(row[0])\n",
    "    \n",
    "    # local_purityの計算\n",
    "    list_purity = []\n",
    "    for row in dict_predict_cluster.items():\n",
    "        major_class = sorted(collections.Counter(row[1]).items(), key=lambda x: x[1], reverse=True)[0][1]\n",
    "        class_num = len(row[1])\n",
    "        list_purity.append([major_class, class_num])\n",
    "    purity = float(np.sum(zip(*list_purity)[0])) / np.sum(zip(*list_purity)[1])\n",
    "    print \"Purity: \", purity\n",
    "    \n",
    "    # inverse_purityの計算\n",
    "    list_inverse_purity = []\n",
    "    for row in dict_measure_cluster.items():\n",
    "        major_class = sorted(collections.Counter(row[1]).items(), key=lambda x: x[1], reverse=True)[0][1]\n",
    "        class_num = len(row[1])\n",
    "        list_inverse_purity.append([major_class, class_num])\n",
    "    inverse_purity = float(np.sum(zip(*list_inverse_purity)[0])) / np.sum(zip(*list_inverse_purity)[1])\n",
    "    print \"Inverse Purity: \", inverse_purity\n",
    "    \n",
    "    print \"F-value: \", 2 / (1 / purity + 1 / inverse_purity)"
   ]
  },
  {
   "cell_type": "markdown",
   "metadata": {},
   "source": [
    "### コーパスの読み込み\n",
    "* 1行ずつ形態素解析して、ラベルが付いたものと、口コミごとに形態素解析しているのものの2種類を読み込む"
   ]
  },
  {
   "cell_type": "code",
   "execution_count": 14,
   "metadata": {
    "collapsed": false,
    "scrolled": true
   },
   "outputs": [],
   "source": [
    "list_sep_words_class = readdump(\"./files/list_sep_words_label.dump\")\n",
    "list_bag_of_words, list_class = zip(*list_sep_words_class)\n",
    "list_bag_of_words_1 = list(list_bag_of_words)\n",
    "list_class = list(list_class)\n",
    "\n",
    "list_bag_of_words_2 = readdump(\"./files/list_sep_words_per_human.dump\")"
   ]
  },
  {
   "cell_type": "markdown",
   "metadata": {},
   "source": [
    "### LDAにより、トピックの抽出\n",
    "1. 辞書の作成\n",
    "2. 辞書を用いてコーパスのマッピングをする\n",
    "3. マッピングしたコーパスを元にLDA\n",
    "4. LDAの結果を表示"
   ]
  },
  {
   "cell_type": "code",
   "execution_count": 15,
   "metadata": {
    "collapsed": false
   },
   "outputs": [
    {
     "name": "stderr",
     "output_type": "stream",
     "text": [
      "WARNING:gensim.models.ldamodel:too few updates, training might not converge; consider increasing the number of passes or iterations to improve accuracy\n"
     ]
    },
    {
     "name": "stdout",
     "output_type": "stream",
     "text": [
      "0.019*サービス + 0.010*設備 + 0.010*雰囲気 + 0.008*非常 + 0.008*生活 + 0.008*必要 + 0.007*高い + 0.006*常駐 + 0.006*印象 + 0.006*病院\n",
      "0.011*病院 + 0.009*サービス + 0.009*ホテル + 0.009*高級 + 0.008*感じ + 0.008*充実 + 0.008*高い + 0.007*利用 + 0.007*雰囲気 + 0.006*車\n",
      "0.009*高い + 0.008*場所 + 0.008*人 + 0.008*メニュー + 0.008*職員 + 0.007*明るい + 0.007*利用 + 0.007*印象 + 0.007*病院 + 0.007*いい\n",
      "0.012*メニュー + 0.008*大変 + 0.007*印象 + 0.007*充実 + 0.007*祖母 + 0.007*広い + 0.007*やすい + 0.006*バス + 0.006*感じ + 0.006*方々\n",
      "0.012*便利 + 0.011*ホテル + 0.010*高級 + 0.009*駅 + 0.008*高い + 0.007*充実 + 0.007*病院 + 0.006*レストラン + 0.006*居室 + 0.006*価格\n",
      "0.011*感じ + 0.008*駅 + 0.008*雰囲気 + 0.007*バス + 0.007*印象 + 0.007*メニュー + 0.007*サービス + 0.007*見学 + 0.007*やすい + 0.007*ホテル\n",
      "0.013*人 + 0.010*明るい + 0.009*感じ + 0.008*必要 + 0.007*高級 + 0.007*サービス + 0.007*駅 + 0.006*レストラン + 0.006*自分 + 0.006*参加\n"
     ]
    }
   ],
   "source": [
    "# 辞書の作成\n",
    "dictionary = corpora.Dictionary(list_bag_of_words_2)\n",
    "# コーパスをマッピングし、LDA\n",
    "corpus_1 = [dictionary.doc2bow(text) for text in list_bag_of_words_1]\n",
    "corpus_2 = [dictionary.doc2bow(text) for text in list_bag_of_words_2]\n",
    "lda = models.LdaModel(corpus=corpus_2, id2word=dictionary, num_topics=7)\n",
    "# p(word|topic)を表示\n",
    "for i, row in enumerate(lda.show_topics(0)):\n",
    "    print row"
   ]
  },
  {
   "cell_type": "markdown",
   "metadata": {},
   "source": [
    "### 文の予測\n",
    "1. LDAの結果から各文のクラスを予測\n",
    "2. 予測ラベルと結果ラベルのリストを作成"
   ]
  },
  {
   "cell_type": "code",
   "execution_count": 16,
   "metadata": {
    "collapsed": false
   },
   "outputs": [
    {
     "name": "stdout",
     "output_type": "stream",
     "text": [
      "エラーしたコーパス 7\n"
     ]
    }
   ],
   "source": [
    "list_predict_measure = []\n",
    "error_count = 0\n",
    "for i in range(len(corpus_1)):\n",
    "    predict_class = sorted(lda[corpus_1[i]], key=lambda x:x[1], reverse=True)[0][0]\n",
    "    measure_class = list_class[i]\n",
    "    try:\n",
    "        list_predict_measure.append([predict_class, int(measure_class)])\n",
    "    except:\n",
    "        error_count += 1\n",
    "print \"エラーしたコーパス\", error_count"
   ]
  },
  {
   "cell_type": "code",
   "execution_count": 17,
   "metadata": {
    "collapsed": false
   },
   "outputs": [
    {
     "data": {
      "text/plain": [
       "Counter({1: 963, 6: 596, 2: 457, 4: 407, 0: 355, 3: 311, 5: 265})"
      ]
     },
     "execution_count": 17,
     "metadata": {},
     "output_type": "execute_result"
    }
   ],
   "source": [
    "list_predict, list_class = zip(*list_predict_measure)\n",
    "collections.Counter(list(list_predict))"
   ]
  },
  {
   "cell_type": "markdown",
   "metadata": {},
   "source": [
    "### 定量評価 (purity)"
   ]
  },
  {
   "cell_type": "code",
   "execution_count": 18,
   "metadata": {
    "collapsed": false
   },
   "outputs": [
    {
     "name": "stdout",
     "output_type": "stream",
     "text": [
      "Purity:  0.243291592129\n",
      "Inverse Purity:  0.287119856887\n",
      "F-value:  0.263394944598\n"
     ]
    }
   ],
   "source": [
    "cal_f_measure(list_predict_measure)"
   ]
  },
  {
   "cell_type": "code",
   "execution_count": null,
   "metadata": {
    "collapsed": true
   },
   "outputs": [],
   "source": []
  }
 ],
 "metadata": {
  "kernelspec": {
   "display_name": "Python 2",
   "language": "python",
   "name": "python2"
  },
  "language_info": {
   "codemirror_mode": {
    "name": "ipython",
    "version": 2
   },
   "file_extension": ".py",
   "mimetype": "text/x-python",
   "name": "python",
   "nbconvert_exporter": "python",
   "pygments_lexer": "ipython2",
   "version": "2.7.10"
  }
 },
 "nbformat": 4,
 "nbformat_minor": 0
}
