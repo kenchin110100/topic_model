{
 "cells": [
  {
   "cell_type": "code",
   "execution_count": 1,
   "metadata": {
    "collapsed": false
   },
   "outputs": [],
   "source": [
    "# coding: utf-8\n",
    "\"\"\"\n",
    "作成したDNPライブラリを使うためのコード\n",
    "\"\"\"\n",
    "\n",
    "from library.dnp import DNP, Evaluation\n",
    "from library.filer import Filer\n",
    "import glob\n",
    "import numpy as np"
   ]
  },
  {
   "cell_type": "markdown",
   "metadata": {},
   "source": [
    "###ライブラリを使用するためのサンプル"
   ]
  },
  {
   "cell_type": "code",
   "execution_count": null,
   "metadata": {
    "collapsed": false
   },
   "outputs": [],
   "source": [
    "dnp = DNP(inputpath=\"./files/rakuten_corpus/rakuten_corpus_master/preprocessedfile/type3/\")\n",
    "dnp.calculation(low_freq=0.002, low_rate=0.6, n=0, flag_DN=False, flag_louvain=True)\n",
    "print dnp.list_topic_prob\n",
    "dnp.show_topic(n=7)\n",
    "\n",
    "eva = evaluation(\"./files/rakuten_corpus/annotation/all_sep.dump\")\n",
    "eva.cal_f_measure(dnp.list_dict_word_prob, dnp.list_topic_prob)\n",
    "eva.show_score()"
   ]
  },
  {
   "cell_type": "markdown",
   "metadata": {
    "collapsed": false
   },
   "source": [
    "### Newman法によってクラス数を指定して，精度を記録していく．DNなし．修論概要用"
   ]
  },
  {
   "cell_type": "code",
   "execution_count": null,
   "metadata": {
    "collapsed": false,
    "scrolled": true
   },
   "outputs": [],
   "source": [
    "# 記録用の配列\n",
    "list_score = []\n",
    "dnp = DNP(inputpath=\"./files/rakuten_corpus/rakuten_corpus_edgelist_co.csv\")\n",
    "eva = evaluation(\"./files/rakuten_corpus/annotation/all_sep.dump\")\n",
    "for num in range(3, 21):\n",
    "    dnp.calculation(low_freq=0.002, low_rate=0.6, n=num, flag_DN=False, flag_louvain=False)\n",
    "    eva.cal_f_measure(dnp.list_dict_word_prob, dnp.list_topic_prob)\n",
    "    list_score.append([eva.dict_score[\"purity\"], eva.dict_score[\"invpurity\"], eva.dict_score[\"fvalue\"]])\n",
    "# 結果の保存\n",
    "Filer.writecsv(list_score, \"./files/clustering.csv\")"
   ]
  },
  {
   "cell_type": "markdown",
   "metadata": {},
   "source": [
    "### Louvain法によりクラスタ数を指定せずに計算．DNなし．修論概要用"
   ]
  },
  {
   "cell_type": "code",
   "execution_count": null,
   "metadata": {
    "collapsed": false
   },
   "outputs": [],
   "source": [
    "dnp = DNP(inputpath=\"./files/rakuten_corpus/rakuten_corpus_edgelist_co.csv\")\n",
    "eva = evaluation(\"./files/rakuten_corpus/annotation/all_sep.dump\")\n",
    "print \"============\"\n",
    "print \"Newman\"\n",
    "print \"============\"\n",
    "dnp.calculation(low_freq=0.002, low_rate=0.6, n=0, flag_DN=False, flag_louvain=False)\n",
    "eva.cal_f_measure(dnp.list_dict_word_prob, dnp.list_topic_prob)\n",
    "eva.show_score()\n",
    "print \"============\"\n",
    "print \"Louvain\"\n",
    "print \"============\"\n",
    "dnp.calculation(low_freq=0.002, low_rate=0.6, n=0, flag_DN=False, flag_louvain=True)\n",
    "eva.cal_f_measure(dnp.list_dict_word_prob, dnp.list_topic_prob)\n",
    "eva.show_score()"
   ]
  },
  {
   "cell_type": "markdown",
   "metadata": {
    "collapsed": true
   },
   "source": [
    "### Newman法でK=6指定で、トピックの内容とトピック分布を確認、paclic用"
   ]
  },
  {
   "cell_type": "code",
   "execution_count": null,
   "metadata": {
    "collapsed": false,
    "scrolled": true
   },
   "outputs": [],
   "source": [
    "dnp = DNP(inputpath=\"./files/rakuten_corpus/rakuten_corpus_edgelist_co.csv\")\n",
    "eva = evaluation(\"./files/rakuten_corpus/annotation/all_sep.dump\")\n",
    "dnp.calculation(low_freq=0.002, low_rate=0.6, n=6, flag_DN=False, flag_louvain=False)\n",
    "print dnp.list_topic_prob\n",
    "for i in range(0,6):\n",
    "    dnp.show_topic(n=i)"
   ]
  },
  {
   "cell_type": "markdown",
   "metadata": {
    "collapsed": true
   },
   "source": [
    "### Edmundsのコーパスで精度の検証, paclic用, DNなし, louvain"
   ]
  },
  {
   "cell_type": "code",
   "execution_count": null,
   "metadata": {
    "collapsed": false
   },
   "outputs": [],
   "source": [
    "dnp = DNP(inputpath=\"./files/edmunds/edmunds_corpus_edgelist_co.csv\")\n",
    "dnp.calculation(low_freq=0.002, low_rate=0.6, n=0, flag_DN=False, flag_louvain=True)\n",
    "print dnp.list_topic_prob\n",
    "dnp.show_topic(n=7)\n",
    "\n",
    "eva = evaluation(\"./files/edmunds/list_id_label_sep.dump\")\n",
    "eva.cal_f_measure(dnp.list_dict_word_prob, dnp.list_topic_prob)\n",
    "eva.show_score()"
   ]
  },
  {
   "cell_type": "markdown",
   "metadata": {},
   "source": [
    "### Edmundsのコーパスで精度の検証, paclic用, DNなし, Newman"
   ]
  },
  {
   "cell_type": "code",
   "execution_count": null,
   "metadata": {
    "collapsed": false
   },
   "outputs": [],
   "source": [
    "dnp = DNP(inputpath=\"./files/edmunds/edmunds_corpus_edgelist_co.csv\")\n",
    "dnp.calculation(low_freq=0.002, low_rate=0.6, n=0, flag_DN=False, flag_louvain=True)\n",
    "print dnp.list_topic_prob\n",
    "#dnp.show_topic(n=7)\n",
    "\n",
    "eva = evaluation(\"./files/edmunds/list_id_label_sep.dump\")\n",
    "eva.cal_f_measure(dnp.list_dict_word_prob, dnp.list_topic_prob)\n",
    "eva.show_score()"
   ]
  },
  {
   "cell_type": "markdown",
   "metadata": {},
   "source": [
    "### Edmundsのコーパスで精度の検証, paclic用, DNなし, Newman, 3~21"
   ]
  },
  {
   "cell_type": "code",
   "execution_count": null,
   "metadata": {
    "collapsed": false,
    "scrolled": true
   },
   "outputs": [],
   "source": [
    "for i in range(3,21):\n",
    "    dnp = DNP(inputpath=\"./files/edmunds/edmunds_corpus_edgelist_co.csv\")\n",
    "    dnp.calculation(low_freq=0.002, low_rate=0.6, n=i, flag_DN=False, flag_louvain=False)\n",
    "    #dnp.show_topic(n=7)\n",
    "\n",
    "    eva = evaluation(\"./files/edmunds/list_id_label_sep.dump\")\n",
    "    eva.cal_f_measure(dnp.list_dict_word_prob, dnp.list_topic_prob)\n",
    "    eva.show_score()"
   ]
  },
  {
   "cell_type": "markdown",
   "metadata": {},
   "source": [
    "### トピック確認用 paclic"
   ]
  },
  {
   "cell_type": "code",
   "execution_count": null,
   "metadata": {
    "collapsed": false
   },
   "outputs": [],
   "source": [
    "dnp = DNP(inputpath=\"./files/rakuten_corpus/rakuten_corpus_edgelist_co.csv\")\n",
    "dnp.calculation(low_freq=0.002, low_rate=0.6, n=0, flag_DN=False, flag_louvain=True)\n",
    "#dnp.show_topic(n=7)\n",
    "\n",
    "eva = evaluation(\"./files/rakuten_corpus/annotation/all_sep.dump\")\n",
    "eva.cal_f_measure(dnp.list_dict_word_prob, dnp.list_topic_prob)\n",
    "eva.show_score()"
   ]
  },
  {
   "cell_type": "code",
   "execution_count": null,
   "metadata": {
    "collapsed": false
   },
   "outputs": [],
   "source": [
    "dnp.list_topic_prob"
   ]
  },
  {
   "cell_type": "code",
   "execution_count": null,
   "metadata": {
    "collapsed": false
   },
   "outputs": [],
   "source": [
    "print dnp.list_topic_prob"
   ]
  },
  {
   "cell_type": "markdown",
   "metadata": {
    "collapsed": true
   },
   "source": [
    "### window_graph(zhao参照)のグラフを用いた場合の精度"
   ]
  },
  {
   "cell_type": "code",
   "execution_count": 6,
   "metadata": {
    "collapsed": false
   },
   "outputs": [
    {
     "ename": "TypeError",
     "evalue": "'NoneType' object has no attribute '__getitem__'",
     "output_type": "error",
     "traceback": [
      "\u001b[1;31m---------------------------------------------------------------------------\u001b[0m",
      "\u001b[1;31mTypeError\u001b[0m                                 Traceback (most recent call last)",
      "\u001b[1;32m<ipython-input-6-85ada747443c>\u001b[0m in \u001b[0;36m<module>\u001b[1;34m()\u001b[0m\n\u001b[1;32m----> 1\u001b[1;33m \u001b[0mdnp\u001b[0m \u001b[1;33m=\u001b[0m \u001b[0mDNP\u001b[0m\u001b[1;33m(\u001b[0m\u001b[0minputpath\u001b[0m\u001b[1;33m=\u001b[0m\u001b[1;34m\"./files/rakuten_corpus/rakuten_corpus_edgelist_window3.csv\"\u001b[0m\u001b[1;33m)\u001b[0m\u001b[1;33m\u001b[0m\u001b[0m\n\u001b[0m\u001b[0;32m      2\u001b[0m \u001b[0mdnp\u001b[0m\u001b[1;33m.\u001b[0m\u001b[0mcalculation\u001b[0m\u001b[1;33m(\u001b[0m\u001b[0mlow_freq\u001b[0m\u001b[1;33m=\u001b[0m\u001b[1;36m0.002\u001b[0m\u001b[1;33m,\u001b[0m \u001b[0mlow_rate\u001b[0m\u001b[1;33m=\u001b[0m\u001b[1;36m0.6\u001b[0m\u001b[1;33m,\u001b[0m \u001b[0mn\u001b[0m\u001b[1;33m=\u001b[0m\u001b[1;36m20\u001b[0m\u001b[1;33m,\u001b[0m \u001b[0mflag_DN\u001b[0m\u001b[1;33m=\u001b[0m\u001b[0mFalse\u001b[0m\u001b[1;33m,\u001b[0m \u001b[0mflag_louvain\u001b[0m\u001b[1;33m=\u001b[0m\u001b[0mTrue\u001b[0m\u001b[1;33m)\u001b[0m\u001b[1;33m\u001b[0m\u001b[0m\n\u001b[0;32m      3\u001b[0m \u001b[1;31m#dnp.show_topic(n=7)\u001b[0m\u001b[1;33m\u001b[0m\u001b[1;33m\u001b[0m\u001b[0m\n\u001b[0;32m      4\u001b[0m \u001b[1;33m\u001b[0m\u001b[0m\n\u001b[0;32m      5\u001b[0m \u001b[0meva\u001b[0m \u001b[1;33m=\u001b[0m \u001b[0mevaluation\u001b[0m\u001b[1;33m(\u001b[0m\u001b[1;34m\"./files/rakuten_corpus/annotation/all_sep.dump\"\u001b[0m\u001b[1;33m)\u001b[0m\u001b[1;33m\u001b[0m\u001b[0m\n",
      "\u001b[1;32m/home/ikegami/documents/topic_model/library/dnp.py\u001b[0m in \u001b[0;36m__init__\u001b[1;34m(self, inputpath)\u001b[0m\n\u001b[0;32m     25\u001b[0m         \u001b[1;31m# master用のネットワークを作成\u001b[0m\u001b[1;33m\u001b[0m\u001b[1;33m\u001b[0m\u001b[0m\n\u001b[0;32m     26\u001b[0m         \u001b[0mself\u001b[0m\u001b[1;33m.\u001b[0m\u001b[0m_g_master\u001b[0m \u001b[1;33m=\u001b[0m \u001b[0mGraph\u001b[0m\u001b[1;33m(\u001b[0m\u001b[1;33m)\u001b[0m\u001b[1;33m\u001b[0m\u001b[0m\n\u001b[1;32m---> 27\u001b[1;33m         \u001b[0mself\u001b[0m\u001b[1;33m.\u001b[0m\u001b[0m_g_master\u001b[0m\u001b[1;33m.\u001b[0m\u001b[0madd_vertices\u001b[0m\u001b[1;33m(\u001b[0m\u001b[0mself\u001b[0m\u001b[1;33m.\u001b[0m\u001b[0m_dict_network_master\u001b[0m\u001b[1;33m[\u001b[0m\u001b[1;34m\"vertex\"\u001b[0m\u001b[1;33m]\u001b[0m\u001b[1;33m)\u001b[0m\u001b[1;33m\u001b[0m\u001b[0m\n\u001b[0m\u001b[0;32m     28\u001b[0m         \u001b[0mself\u001b[0m\u001b[1;33m.\u001b[0m\u001b[0m_g_master\u001b[0m\u001b[1;33m.\u001b[0m\u001b[0madd_edges\u001b[0m\u001b[1;33m(\u001b[0m\u001b[0mself\u001b[0m\u001b[1;33m.\u001b[0m\u001b[0m_dict_network_master\u001b[0m\u001b[1;33m[\u001b[0m\u001b[1;34m\"edge\"\u001b[0m\u001b[1;33m]\u001b[0m\u001b[1;33m)\u001b[0m\u001b[1;33m\u001b[0m\u001b[0m\n\u001b[0;32m     29\u001b[0m         \u001b[1;31m# 元のネットワークのpagerankを求める\u001b[0m\u001b[1;33m\u001b[0m\u001b[1;33m\u001b[0m\u001b[0m\n",
      "\u001b[1;31mTypeError\u001b[0m: 'NoneType' object has no attribute '__getitem__'"
     ]
    }
   ],
   "source": [
    "dnp = DNP(inputpath=\"./files/rakuten_corpus/rakuten_corpus_edgelist_window3.csv\")\n",
    "dnp.calculation(low_freq=0.002, low_rate=0.6, n=20, flag_DN=False, flag_louvain=True)\n",
    "#dnp.show_topic(n=7)\n",
    "\n",
    "eva = evaluation(\"./files/rakuten_corpus/annotation/all_sep.dump\")\n",
    "eva.cal_f_measure(dnp.list_dict_word_prob, dnp.list_topic_prob)\n",
    "eva.show_score()"
   ]
  },
  {
   "cell_type": "code",
   "execution_count": null,
   "metadata": {
    "collapsed": false
   },
   "outputs": [],
   "source": [
    "dnp = DNP(inputpath=\"./files/rakuten_corpus/rakuten_corpus_edgelist_window5.csv\")\n",
    "dnp.calculation(low_freq=0.002, low_rate=0.6, n=0, flag_DN=False, flag_louvain=True)\n",
    "#dnp.show_topic(n=7)\n",
    "\n",
    "eva = evaluation(\"./files/rakuten_corpus/annotation/all_sep.dump\")\n",
    "eva.cal_f_measure(dnp.list_dict_word_prob, dnp.list_topic_prob)\n",
    "eva.show_score()"
   ]
  },
  {
   "cell_type": "markdown",
   "metadata": {
    "collapsed": true
   },
   "source": [
    "### コーパス数を変化させた時の精度"
   ]
  },
  {
   "cell_type": "code",
   "execution_count": 2,
   "metadata": {
    "collapsed": false
   },
   "outputs": [],
   "source": [
    "list_filepath = glob.glob('./files/edmunds/edmunds_corpus_master/preprocessedfile/type2/forPRTM_bigram/*.txt')\n",
    "list_testfile = Filer.readdump('./files/edmunds/edmunds_corpus_master/testfile/list_sepword_label.dump')\n",
    "list_measure = [row[1] for row in list_testfile]\n",
    "list_testword = [row[0] for row in list_testfile]"
   ]
  },
  {
   "cell_type": "code",
   "execution_count": 3,
   "metadata": {
    "collapsed": false
   },
   "outputs": [
    {
     "name": "stdout",
     "output_type": "stream",
     "text": [
      "クラスタ数:  8\n",
      "\n",
      "------------------------- OpenOpt 0.5625 -------------------------\n",
      "problem: unnamed   type: QP\n",
      "solver: cvxopt_qp\n",
      "     pcost       dcost       gap    pres   dres\n",
      " 0: -9.8888e-04 -1.0020e+00  1e+00  1e-16  3e+00\n",
      " 1: -9.9004e-04 -1.1969e-02  1e-02  7e-17  3e-02\n",
      " 2: -1.0671e-03 -1.9763e-03  9e-04  2e-16  3e-03\n",
      " 3: -1.2796e-03 -1.5064e-03  2e-04  4e-17  7e-19\n",
      " 4: -1.3083e-03 -1.3304e-03  2e-05  7e-17  7e-19\n",
      " 5: -1.3143e-03 -1.3167e-03  2e-06  8e-17  7e-19\n",
      " 6: -1.3150e-03 -1.3152e-03  3e-07  6e-17  5e-19\n",
      " 7: -1.3151e-03 -1.3151e-03  2e-08  7e-17  4e-19\n",
      " 8: -1.3151e-03 -1.3151e-03  2e-10  1e-16  7e-19\n",
      "Optimal solution found.\n",
      "istop: 1000 (optimal)\n",
      "Solver:   Time Elapsed = 0.01 \tCPU Time Elapsed = 0.01\n",
      "objFuncValue: -0.0013150678 (feasible, MaxResidual = 0)\n",
      "クラスタ数:  8\n",
      "\n",
      "------------------------- OpenOpt 0.5625 -------------------------\n",
      "problem: unnamed   type: QP\n",
      "solver: cvxopt_qp\n",
      "     pcost       dcost       gap    pres   dres\n",
      " 0: -1.0153e-03 -1.0020e+00  1e+00  1e-16  3e+00\n",
      " 1: -1.0165e-03 -1.2019e-02  1e-02  8e-17  4e-02\n",
      " 2: -1.0944e-03 -2.0198e-03  9e-04  9e-17  3e-03\n",
      " 3: -1.3110e-03 -1.5338e-03  2e-04  1e-16  1e-18\n",
      " 4: -1.3356e-03 -1.3517e-03  2e-05  8e-17  7e-19\n",
      " 5: -1.3387e-03 -1.3401e-03  1e-06  6e-17  8e-19\n",
      " 6: -1.3389e-03 -1.3390e-03  1e-07  7e-17  8e-19\n",
      " 7: -1.3389e-03 -1.3389e-03  8e-09  7e-17  6e-19\n",
      "Optimal solution found.\n",
      "istop: 1000 (optimal)\n",
      "Solver:   Time Elapsed = 0.0 \tCPU Time Elapsed = 0.0\n",
      "objFuncValue: -0.0013389273 (feasible, MaxResidual = 1.11022e-16)\n",
      "クラスタ数:  8\n",
      "\n",
      "------------------------- OpenOpt 0.5625 -------------------------\n",
      "problem: unnamed   type: QP\n",
      "solver: cvxopt_qp\n",
      "     pcost       dcost       gap    pres   dres\n",
      " 0: -1.4955e-03 -1.0021e+00  1e+00  1e-17  3e+00\n",
      " 1: -1.4959e-03 -1.2111e-02  1e-02  1e-16  3e-02\n",
      " 2: -1.5287e-03 -2.1481e-03  6e-04  3e-17  2e-03\n",
      " 3: -1.6353e-03 -1.7280e-03  9e-05  6e-17  7e-19\n",
      " 4: -1.6459e-03 -1.6523e-03  6e-06  9e-17  6e-19\n",
      " 5: -1.6475e-03 -1.6480e-03  6e-07  1e-16  8e-19\n",
      " 6: -1.6477e-03 -1.6478e-03  7e-08  6e-17  8e-19\n",
      " 7: -1.6478e-03 -1.6478e-03  5e-09  1e-16  7e-19\n",
      "Optimal solution found.\n",
      "istop: 1000 (optimal)\n",
      "Solver:   Time Elapsed = 0.0 \tCPU Time Elapsed = 0.01\n",
      "objFuncValue: -0.001647792 (feasible, MaxResidual = 0)\n",
      "クラスタ数:  8\n",
      "\n",
      "------------------------- OpenOpt 0.5625 -------------------------\n",
      "problem: unnamed   type: QP\n",
      "solver: cvxopt_qp\n",
      "     pcost       dcost       gap    pres   dres\n",
      " 0: -1.2571e-03 -1.0022e+00  1e+00  7e-17  3e+00\n",
      " 1: -1.2577e-03 -1.2215e-02  1e-02  7e-17  3e-02\n",
      " 2: -1.3053e-03 -2.2301e-03  9e-04  2e-16  3e-03\n",
      " 3: -1.4767e-03 -1.6979e-03  2e-04  8e-17  1e-18\n",
      " 4: -1.4916e-03 -1.5071e-03  2e-05  1e-16  5e-19\n",
      " 5: -1.4927e-03 -1.4934e-03  7e-07  8e-17  1e-18\n",
      " 6: -1.4927e-03 -1.4927e-03  9e-09  2e-16  9e-19\n",
      "Optimal solution found.\n",
      "istop: 1000 (optimal)\n",
      "Solver:   Time Elapsed = 0.0 \tCPU Time Elapsed = 0.01\n",
      "objFuncValue: -0.0014927146 (feasible, MaxResidual = 1.11022e-16)\n",
      "クラスタ数:  8\n",
      "\n",
      "------------------------- OpenOpt 0.5625 -------------------------\n",
      "problem: unnamed   type: QP\n",
      "solver: cvxopt_qp\n",
      "     pcost       dcost       gap    pres   dres\n",
      " 0: -1.1494e-03 -1.0022e+00  1e+00  2e-16  3e+00\n",
      " 1: -1.1509e-03 -1.2183e-02  1e-02  7e-17  4e-02\n",
      " 2: -1.2423e-03 -2.1565e-03  9e-04  1e-16  3e-03\n",
      " 3: -1.4415e-03 -1.6338e-03  2e-04  6e-17  1e-18\n",
      " 4: -1.4664e-03 -1.4813e-03  1e-05  9e-17  5e-19\n",
      " 5: -1.4695e-03 -1.4708e-03  1e-06  7e-17  4e-19\n",
      " 6: -1.4698e-03 -1.4699e-03  1e-07  7e-17  6e-19\n",
      " 7: -1.4698e-03 -1.4698e-03  1e-08  8e-17  4e-19\n",
      " 8: -1.4698e-03 -1.4698e-03  2e-09  8e-17  7e-19\n",
      "Optimal solution found.\n",
      "istop: 1000 (optimal)\n",
      "Solver:   Time Elapsed = 0.0 \tCPU Time Elapsed = 0.0\n",
      "objFuncValue: -0.001469829 (feasible, MaxResidual = 0)\n",
      "クラスタ数:  8\n",
      "\n",
      "------------------------- OpenOpt 0.5625 -------------------------\n",
      "problem: unnamed   type: QP\n",
      "solver: cvxopt_qp\n",
      "     pcost       dcost       gap    pres   dres\n",
      " 0: -1.0027e-03 -1.0021e+00  1e+00  6e-17  3e+00\n",
      " 1: -1.0039e-03 -1.2085e-02  1e-02  6e-17  4e-02\n",
      " 2: -1.0899e-03 -2.0840e-03  1e-03  8e-17  3e-03\n",
      " 3: -1.3407e-03 -1.6011e-03  3e-04  8e-17  8e-19\n",
      " 4: -1.3749e-03 -1.4057e-03  3e-05  6e-17  8e-19\n",
      " 5: -1.3816e-03 -1.3846e-03  3e-06  9e-17  5e-19\n",
      " 6: -1.3823e-03 -1.3826e-03  3e-07  7e-17  4e-19\n",
      " 7: -1.3824e-03 -1.3824e-03  3e-08  8e-17  3e-19\n",
      " 8: -1.3824e-03 -1.3824e-03  2e-09  7e-17  7e-19\n",
      "Optimal solution found.\n",
      "istop: 1000 (optimal)\n",
      "Solver:   Time Elapsed = 0.0 \tCPU Time Elapsed = 0.0\n",
      "objFuncValue: -0.0013823549 (feasible, MaxResidual = 0)\n",
      "クラスタ数:  8\n",
      "\n",
      "------------------------- OpenOpt 0.5625 -------------------------\n",
      "problem: unnamed   type: QP\n",
      "solver: cvxopt_qp\n",
      "     pcost       dcost       gap    pres   dres\n",
      " 0: -1.1607e-03 -1.0021e+00  1e+00  3e-16  3e+00\n",
      " 1: -1.1615e-03 -1.2115e-02  1e-02  7e-17  3e-02\n",
      " 2: -1.2215e-03 -2.1211e-03  9e-04  1e-16  3e-03\n",
      " 3: -1.4062e-03 -1.6056e-03  2e-04  9e-17  5e-19\n",
      " 4: -1.4294e-03 -1.4467e-03  2e-05  1e-16  5e-19\n",
      " 5: -1.4337e-03 -1.4353e-03  2e-06  1e-16  4e-19\n",
      " 6: -1.4343e-03 -1.4345e-03  2e-07  4e-17  3e-19\n",
      " 7: -1.4344e-03 -1.4344e-03  3e-08  1e-16  6e-19\n",
      " 8: -1.4344e-03 -1.4344e-03  3e-09  2e-16  6e-19\n",
      "Optimal solution found.\n",
      "istop: 1000 (optimal)\n",
      "Solver:   Time Elapsed = 0.0 \tCPU Time Elapsed = 0.01\n",
      "objFuncValue: -0.0014343693 (feasible, MaxResidual = 0)\n",
      "クラスタ数:  8\n",
      "\n",
      "------------------------- OpenOpt 0.5625 -------------------------\n",
      "problem: unnamed   type: QP\n",
      "solver: cvxopt_qp\n",
      "     pcost       dcost       gap    pres   dres\n",
      " 0: -1.0901e-03 -1.0021e+00  1e+00  6e-17  3e+00\n",
      " 1: -1.0911e-03 -1.2079e-02  1e-02  8e-17  3e-02\n",
      " 2: -1.1587e-03 -2.0954e-03  9e-04  1e-16  3e-03\n",
      " 3: -1.3820e-03 -1.6266e-03  2e-04  1e-16  5e-19\n",
      " 4: -1.4096e-03 -1.4275e-03  2e-05  1e-16  6e-19\n",
      " 5: -1.4142e-03 -1.4162e-03  2e-06  1e-16  5e-19\n",
      " 6: -1.4147e-03 -1.4149e-03  2e-07  1e-16  9e-19\n",
      " 7: -1.4148e-03 -1.4148e-03  2e-08  1e-16  5e-19\n",
      " 8: -1.4148e-03 -1.4148e-03  1e-09  8e-17  2e-19\n",
      "Optimal solution found.\n",
      "istop: 1000 (optimal)\n",
      "Solver:   Time Elapsed = 0.0 \tCPU Time Elapsed = 0.01\n",
      "objFuncValue: -0.0014147679 (feasible, MaxResidual = 0)\n",
      "クラスタ数:  8\n",
      "\n",
      "------------------------- OpenOpt 0.5625 -------------------------\n",
      "problem: unnamed   type: QP\n",
      "solver: cvxopt_qp\n",
      "     pcost       dcost       gap    pres   dres\n",
      " 0: -1.0643e-03 -1.0020e+00  1e+00  1e-16  3e+00\n",
      " 1: -1.0652e-03 -1.2048e-02  1e-02  2e-16  3e-02\n",
      " 2: -1.1329e-03 -2.0586e-03  9e-04  7e-17  3e-03\n",
      " 3: -1.3477e-03 -1.5742e-03  2e-04  2e-16  8e-19\n",
      " 4: -1.3757e-03 -1.3955e-03  2e-05  7e-17  6e-19\n",
      " 5: -1.3808e-03 -1.3830e-03  2e-06  7e-17  5e-19\n",
      " 6: -1.3815e-03 -1.3817e-03  2e-07  1e-16  9e-19\n",
      " 7: -1.3816e-03 -1.3816e-03  3e-08  2e-16  4e-19\n",
      " 8: -1.3816e-03 -1.3816e-03  2e-09  1e-16  4e-19\n",
      "Optimal solution found.\n",
      "istop: 1000 (optimal)\n",
      "Solver:   Time Elapsed = 0.0 \tCPU Time Elapsed = 0.01\n",
      "objFuncValue: -0.0013815778 (feasible, MaxResidual = 0)\n",
      "クラスタ数:  8\n",
      "\n",
      "------------------------- OpenOpt 0.5625 -------------------------\n",
      "problem: unnamed   type: QP\n",
      "solver: cvxopt_qp\n",
      "     pcost       dcost       gap    pres   dres\n",
      " 0: -9.7697e-04 -1.0020e+00  1e+00  1e-17  3e+00\n",
      " 1: -9.7824e-04 -1.2010e-02  1e-02  8e-17  4e-02\n",
      " 2: -1.0598e-03 -2.0062e-03  9e-04  6e-17  3e-03\n",
      " 3: -1.2752e-03 -1.5206e-03  2e-04  7e-17  1e-18\n",
      " 4: -1.2996e-03 -1.3165e-03  2e-05  7e-17  6e-19\n",
      " 5: -1.3028e-03 -1.3042e-03  1e-06  7e-17  6e-19\n",
      " 6: -1.3030e-03 -1.3031e-03  1e-07  1e-16  6e-19\n",
      " 7: -1.3030e-03 -1.3030e-03  3e-09  8e-17  5e-19\n",
      "Optimal solution found.\n",
      "istop: 1000 (optimal)\n",
      "Solver:   Time Elapsed = 0.0 \tCPU Time Elapsed = 0.0\n",
      "objFuncValue: -0.0013029783 (feasible, MaxResidual = 0)\n",
      "クラスタ数:  8\n",
      "\n",
      "------------------------- OpenOpt 0.5625 -------------------------\n",
      "problem: unnamed   type: QP\n",
      "solver: cvxopt_qp\n",
      "     pcost       dcost       gap    pres   dres\n",
      " 0: -1.1053e-03 -1.0022e+00  1e+00  6e-17  3e+00\n",
      " 1: -1.1066e-03 -1.2184e-02  1e-02  8e-17  4e-02\n",
      " 2: -1.1937e-03 -2.1693e-03  1e-03  1e-16  3e-03\n",
      " 3: -1.4092e-03 -1.6448e-03  2e-04  1e-16  8e-19\n",
      " 4: -1.4333e-03 -1.4492e-03  2e-05  9e-17  6e-19\n",
      " 5: -1.4361e-03 -1.4375e-03  1e-06  1e-16  7e-19\n",
      " 6: -1.4362e-03 -1.4363e-03  6e-08  8e-17  5e-19\n",
      " 7: -1.4362e-03 -1.4362e-03  7e-10  9e-17  7e-19\n",
      "Optimal solution found.\n",
      "istop: 1000 (optimal)\n",
      "Solver:   Time Elapsed = 0.0 \tCPU Time Elapsed = 0.0\n",
      "objFuncValue: -0.0014362374 (feasible, MaxResidual = 2.22045e-16)\n",
      "クラスタ数:  8\n",
      "\n",
      "------------------------- OpenOpt 0.5625 -------------------------\n",
      "problem: unnamed   type: QP\n",
      "solver: cvxopt_qp\n",
      "     pcost       dcost       gap    pres   dres\n",
      " 0: -1.1377e-03 -1.0020e+00  1e+00  1e-17  3e+00\n",
      " 1: -1.1385e-03 -1.2038e-02  1e-02  1e-16  3e-02\n",
      " 2: -1.1950e-03 -2.0553e-03  9e-04  7e-17  3e-03\n",
      " 3: -1.3729e-03 -1.5633e-03  2e-04  2e-16  1e-18\n",
      " 4: -1.3992e-03 -1.4165e-03  2e-05  1e-16  8e-19\n",
      " 5: -1.4046e-03 -1.4067e-03  2e-06  6e-17  8e-19\n",
      " 6: -1.4053e-03 -1.4055e-03  2e-07  6e-17  6e-19\n",
      " 7: -1.4054e-03 -1.4054e-03  2e-08  6e-17  7e-19\n",
      " 8: -1.4054e-03 -1.4054e-03  2e-09  1e-16  4e-19\n",
      "Optimal solution found.\n",
      "istop: 1000 (optimal)\n",
      "Solver:   Time Elapsed = 0.0 \tCPU Time Elapsed = 0.0\n",
      "objFuncValue: -0.0014054353 (feasible, MaxResidual = 0)\n",
      "クラスタ数:  8\n",
      "\n",
      "------------------------- OpenOpt 0.5625 -------------------------\n",
      "problem: unnamed   type: QP\n",
      "solver: cvxopt_qp\n",
      "     pcost       dcost       gap    pres   dres\n",
      " 0: -1.2217e-03 -1.0024e+00  1e+00  3e-16  3e+00\n",
      " 1: -1.2236e-03 -1.2367e-02  1e-02  2e-16  4e-02\n",
      " 2: -1.3335e-03 -2.3156e-03  1e-03  5e-17  3e-03\n",
      " 3: -1.5639e-03 -1.7877e-03  2e-04  7e-17  9e-19\n",
      " 4: -1.5833e-03 -1.6004e-03  2e-05  7e-17  8e-19\n",
      " 5: -1.5845e-03 -1.5852e-03  7e-07  4e-17  5e-19\n",
      " 6: -1.5845e-03 -1.5845e-03  7e-09  2e-17  4e-19\n",
      "Optimal solution found.\n",
      "istop: 1000 (optimal)\n",
      "Solver:   Time Elapsed = 0.0 \tCPU Time Elapsed = 0.0\n",
      "objFuncValue: -0.0015845154 (feasible, MaxResidual = 0)\n"
     ]
    },
    {
     "name": "stderr",
     "output_type": "stream",
     "text": [
      "library/dnp.py:447: FutureWarning: comparison to `None` will result in an elementwise object comparison in the future.\n",
      "  if self._list_topic_prob == None:\n"
     ]
    }
   ],
   "source": [
    "for path in list_filepath:\n",
    "    Filer.writetxt([path], 'files/result/edmunds/experiment1/PRTM.txt')\n",
    "    list_word = Filer.readtxt(path)\n",
    "    list_word = [row.split(' ') for row in list_word]\n",
    "    dnp = DNP(inputpath=list_word)\n",
    "    dnp.calculation(flag_louvain=False, n=8, directed = False, flag_OPIC=False)\n",
    "    list_predict = []\n",
    "    list_measure1 = []\n",
    "    for i, row in enumerate(list_testword):\n",
    "        try:\n",
    "            list_prob = dnp.infer(row)\n",
    "            list_predict.append(np.argmax(list_prob))\n",
    "            list_measure1.append(list_measure[i])\n",
    "        except KeyError:\n",
    "            pass\n",
    "    eva = Evaluation()\n",
    "    dict_result = eva.cal_f_measure(list_predict, list_measure1)\n",
    "    Filer.writetxt([' '.join([str(dict_result['purity']), str(dict_result['invpurity']), str(dict_result['fvalue'])])]\n",
    "                   , 'files/result/edmunds/experiment1/PRTM.txt')"
   ]
  },
  {
   "cell_type": "code",
   "execution_count": 53,
   "metadata": {
    "collapsed": false
   },
   "outputs": [
    {
     "name": "stdout",
     "output_type": "stream",
     "text": [
      "対応 0.0305066349412\n",
      "フロント 0.0262732102122\n",
      "いい 0.0192825913038\n",
      "感じ 0.0138512307103\n",
      "チェックイン 0.0131619324807\n",
      "スタッフ 0.0115958495361\n",
      "人 0.0107838007748\n",
      "他 0.00986101394005\n",
      "悪い 0.00915819934586\n",
      "親切 0.00895384518009\n"
     ]
    }
   ],
   "source": [
    "n = 5\n",
    "for row in sorted(dnp.list_dict_word_prob[n].items(), key = lambda x:x[1], reverse=True)[0:10]:\n",
    "    print row[0], row[1]"
   ]
  },
  {
   "cell_type": "code",
   "execution_count": 16,
   "metadata": {
    "collapsed": false
   },
   "outputs": [
    {
     "data": {
      "text/plain": [
       "array([ 0.09022619,  0.33218045,  0.31943457,  0.22261738,  0.02366888,\n",
       "        0.01187253])"
      ]
     },
     "execution_count": 16,
     "metadata": {},
     "output_type": "execute_result"
    }
   ],
   "source": [
    "dnp.list_topic_prob"
   ]
  },
  {
   "cell_type": "code",
   "execution_count": null,
   "metadata": {
    "collapsed": true
   },
   "outputs": [],
   "source": []
  }
 ],
 "metadata": {
  "kernelspec": {
   "display_name": "Python 2",
   "language": "python",
   "name": "python2"
  },
  "language_info": {
   "codemirror_mode": {
    "name": "ipython",
    "version": 2
   },
   "file_extension": ".py",
   "mimetype": "text/x-python",
   "name": "python",
   "nbconvert_exporter": "python",
   "pygments_lexer": "ipython2",
   "version": "2.7.10"
  }
 },
 "nbformat": 4,
 "nbformat_minor": 0
}
