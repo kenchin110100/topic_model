{
 "cells": [
  {
   "cell_type": "code",
   "execution_count": 1,
   "metadata": {
    "collapsed": false
   },
   "outputs": [],
   "source": [
    "# coding: utf-8\n",
    "\"\"\"\n",
    "OPICアルゴリズムを実装するための練習\n",
    "\"\"\"\n",
    "\n",
    "from library.dnp import DNP, evaluation\n",
    "from library.filer import Filer\n",
    "import numpy as np"
   ]
  },
  {
   "cell_type": "code",
   "execution_count": 5,
   "metadata": {
    "collapsed": true
   },
   "outputs": [],
   "source": [
    "list_dict_subnetwork = dnp.list_dict_subnetwork\n",
    "dict_network_master = dnp.dict_network_master\n",
    "dict_network_master_dammy = dnp._dict_network_master_dammy"
   ]
  },
  {
   "cell_type": "code",
   "execution_count": 40,
   "metadata": {
    "collapsed": false,
    "scrolled": true
   },
   "outputs": [
    {
     "name": "stdout",
     "output_type": "stream",
     "text": [
      "[124, 81, 26, 79, 33, 133, 112, 222, 206, 54]\n",
      "[133, 86, 26, 81, 33, 146, 116, 263, 263, 55]\n",
      "[134, 86, 26, 81, 33, 146, 116, 275, 280, 55]\n",
      "[134, 86, 26, 81, 33, 146, 116, 279, 288, 55]\n",
      "[134, 86, 26, 81, 33, 146, 116, 279, 295, 55]\n",
      "[134, 86, 26, 81, 33, 146, 116, 279, 305, 55]\n",
      "[134, 86, 26, 81, 33, 146, 116, 279, 309, 55]\n",
      "[134, 86, 26, 81, 33, 146, 116, 279, 311, 55]\n",
      "[134, 86, 26, 81, 33, 146, 116, 279, 312, 55]\n",
      "[134, 86, 26, 81, 33, 146, 116, 279, 316, 55]\n",
      "[134, 86, 26, 81, 33, 146, 116, 279, 328, 55]\n"
     ]
    }
   ],
   "source": [
    "def _cal_OPIC(threshold=0.3, iteration=10):\n",
    "    list_vertex = dict_network_master_dammy['vertex']\n",
    "    list_cluster = dict_network_master_dammy['cluster']\n",
    "    list_weight = dict_network_master_dammy['weight']\n",
    "    list_edge = dict_network_master_dammy['edge']\n",
    "    K = len(set(list_cluster))\n",
    "    \n",
    "    list_cluster_node = [[] for i in range(K)]\n",
    "    for cluster, vertex in zip(list_cluster, list_vertex):\n",
    "        list_cluster_node[cluster].append(vertex)\n",
    "    dict_node_cluster = {node:[i] for i, row in enumerate(list_cluster_node) for node in row}\n",
    "    print [len(row) for row in list_cluster_node]\n",
    "    # ここより以下が再計算の対象\n",
    "    for i in range(iteration):\n",
    "        dict_node_weight = _cal_node_weight(list_cluster_node, dict_node_cluster, K, list_weight, list_edge, list_vertex)\n",
    "        # 閾値をもとに、新しく割り当てられたクラスタに追加する\n",
    "        for node, row in dict_node_weight.items():\n",
    "            for index in np.where(dict_node_weight[node] > threshold)[0]:\n",
    "                if node not in list_cluster_node[index]:\n",
    "                    list_cluster_node[index].append(node)\n",
    "                    dict_node_cluster[node].append(index)\n",
    "    \n",
    "    return list_cluster_node\n",
    "    \n",
    "def _cal_node_weight(list_cluster_node, dict_node_cluster, K, list_weight, list_edge, list_vertex):\n",
    "     # 各ノードが各クラスタに対して持っているノード数を記録\n",
    "    dict_node_weight = {node: np.array([0.0 for i in range(K)]) for node in list_vertex}\n",
    "    # エッジを計算\n",
    "    for edge, weight in zip(list_edge, list_weight):\n",
    "        for c in dict_node_cluster[edge[0]]:\n",
    "            dict_node_weight[edge[1]][c] += weight\n",
    "        for c in dict_node_cluster[edge[1]]:\n",
    "            dict_node_weight[edge[0]][c] += weight\n",
    "    for key, row in dict_node_weight.items():\n",
    "        dict_node_weight[key] /= np.sum(row)\n",
    "    return dict_node_weight\n",
    "\n",
    "_cal_OPIC()"
   ]
  },
  {
   "cell_type": "code",
   "execution_count": 11,
   "metadata": {
    "collapsed": false
   },
   "outputs": [
    {
     "name": "stdout",
     "output_type": "stream",
     "text": [
      "クラスタ数:  6\n",
      "\n",
      "------------------------- OpenOpt 0.5625 -------------------------\n",
      "problem: unnamed   type: QP\n",
      "solver: cvxopt_qp\n",
      "     pcost       dcost       gap    pres   dres\n",
      " 0: -2.8731e-03 -1.0035e+00  1e+00  8e-17  3e+00\n",
      " 1: -2.8736e-03 -1.3473e-02  1e-02  1e-16  3e-02\n",
      " 2: -2.9026e-03 -3.4281e-03  5e-04  1e-16  1e-03\n",
      " 3: -2.9481e-03 -2.9876e-03  4e-05  8e-17  3e-05\n",
      " 4: -2.9499e-03 -2.9510e-03  1e-06  2e-16  5e-07\n",
      " 5: -2.9499e-03 -2.9499e-03  1e-08  6e-17  5e-09\n",
      " 6: -2.9499e-03 -2.9499e-03  1e-10  9e-17  5e-11\n",
      "Optimal solution found.\n",
      "istop: 1000 (optimal)\n",
      "Solver:   Time Elapsed = 0.0 \tCPU Time Elapsed = 0.0\n",
      "objFuncValue: -0.0029498728 (feasible, MaxResidual = 1.11022e-16)\n"
     ]
    }
   ],
   "source": [
    "dnp = DNP(inputpath=\"./files/rakuten_corpus/rakuten_corpus_edgelist_full.csv\")\n",
    "dnp.calculation(n=6, flag_louvain=False, flag_OPIC=False,\n",
    "                threshold=0.3, iteration=1)"
   ]
  },
  {
   "cell_type": "code",
   "execution_count": 12,
   "metadata": {
    "collapsed": false
   },
   "outputs": [
    {
     "name": "stdout",
     "output_type": "stream",
     "text": [
      "テストデータ数:  1998\n",
      "エラーデータ数:  2\n",
      "============\n",
      "Purity:  0.578078078078\n",
      "InversePurity:  0.641641641642\n",
      "F-value:  0.608203607793\n",
      "============\n"
     ]
    }
   ],
   "source": [
    "eva = evaluation(\"./files/rakuten_corpus/annotation/all_sep.dump\")\n",
    "eva.cal_f_measure(dnp.list_dict_word_prob, dnp.list_topic_prob)\n",
    "eva.show_score()"
   ]
  },
  {
   "cell_type": "code",
   "execution_count": 3,
   "metadata": {
    "collapsed": false
   },
   "outputs": [
    {
     "name": "stdout",
     "output_type": "stream",
     "text": [
      "テストデータ数:  1998\n",
      "エラーデータ数:  2\n",
      "============\n",
      "Purity:  0.616616616617\n",
      "InversePurity:  0.677177177177\n",
      "F-value:  0.645479522075\n",
      "============\n"
     ]
    }
   ],
   "source": [
    "eva = evaluation(\"./files/rakuten_corpus/annotation/all_sep.dump\")\n",
    "eva.cal_f_measure(dnp.list_dict_word_prob, dnp.list_topic_prob)\n",
    "eva.show_score()"
   ]
  },
  {
   "cell_type": "code",
   "execution_count": 5,
   "metadata": {
    "collapsed": false
   },
   "outputs": [
    {
     "name": "stdout",
     "output_type": "stream",
     "text": [
      "テストデータ数:  1998\n",
      "エラーデータ数:  2\n",
      "============\n",
      "Purity:  0.617617617618\n",
      "InversePurity:  0.668168168168\n",
      "F-value:  0.641899197758\n",
      "============\n"
     ]
    }
   ],
   "source": [
    "eva = evaluation(\"./files/rakuten_corpus/annotation/all_sep.dump\")\n",
    "eva.cal_f_measure(dnp.list_dict_word_prob, dnp.list_topic_prob)\n",
    "eva.show_score()"
   ]
  },
  {
   "cell_type": "code",
   "execution_count": 9,
   "metadata": {
    "collapsed": false
   },
   "outputs": [
    {
     "name": "stdout",
     "output_type": "stream",
     "text": [
      "テストデータ数:  1998\n",
      "エラーデータ数:  2\n",
      "============\n",
      "Purity:  0.6001001001\n",
      "InversePurity:  0.713213213213\n",
      "F-value:  0.651785550795\n",
      "============\n"
     ]
    }
   ],
   "source": [
    "eva = evaluation(\"./files/rakuten_corpus/annotation/all_sep.dump\")\n",
    "eva.cal_f_measure(dnp.list_dict_word_prob, dnp.list_topic_prob)\n",
    "eva.show_score()"
   ]
  },
  {
   "cell_type": "code",
   "execution_count": null,
   "metadata": {
    "collapsed": true
   },
   "outputs": [],
   "source": []
  }
 ],
 "metadata": {
  "kernelspec": {
   "display_name": "Python 2",
   "language": "python",
   "name": "python2"
  },
  "language_info": {
   "codemirror_mode": {
    "name": "ipython",
    "version": 2
   },
   "file_extension": ".py",
   "mimetype": "text/x-python",
   "name": "python",
   "nbconvert_exporter": "python",
   "pygments_lexer": "ipython2",
   "version": "2.7.9"
  }
 },
 "nbformat": 4,
 "nbformat_minor": 0
}
