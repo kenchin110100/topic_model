{
 "cells": [
  {
   "cell_type": "code",
   "execution_count": 4,
   "metadata": {
    "collapsed": false
   },
   "outputs": [
    {
     "name": "stdout",
     "output_type": "stream",
     "text": [
      "ナカイの窓\t名詞,固有名詞,一般,*,*,*,ナカイの窓,ナカイノマド,ナカイノマド\n",
      "を\t助詞,格助詞,一般,*,*,*,を,ヲ,ヲ\n",
      "見\t動詞,自立,*,*,一段,連用形,見る,ミ,ミ\n",
      "た\t助動詞,*,*,*,特殊・タ,基本形,た,タ,タ\n",
      "が\t助詞,接続助詞,*,*,*,*,が,ガ,ガ\n",
      "、\t記号,読点,*,*,*,*,、,、,、\n",
      "面白く\t形容詞,自立,*,*,形容詞・アウオ段,連用テ接続,面白い,オモシロク,オモシロク\n",
      "なかっ\t助動詞,*,*,*,特殊・ナイ,連用タ接続,ない,ナカッ,ナカッ\n",
      "た\t助動詞,*,*,*,特殊・タ,基本形,た,タ,タ\n",
      "EOS\n",
      "\n"
     ]
    }
   ],
   "source": [
    "# coding: utf-8\n",
    "\"\"\"\n",
    "・mecabで形態素解析して、接続詞をもとに文節ごとに区切る\n",
    "\"\"\"\n",
    "import MeCab\n",
    "\n",
    "def parsing(sentence):\n",
    "    mecab = MeCab.Tagger(\"-d /usr/local/lib/mecab/dic/mecab-ipadic-neologd\")\n",
    "    return mecab.parse(sentence)"
   ]
  },
  {
   "cell_type": "code",
   "execution_count": null,
   "metadata": {
    "collapsed": true
   },
   "outputs": [],
   "source": []
  }
 ],
 "metadata": {
  "kernelspec": {
   "display_name": "Python 2",
   "language": "python",
   "name": "python2"
  },
  "language_info": {
   "codemirror_mode": {
    "name": "ipython",
    "version": 2
   },
   "file_extension": ".py",
   "mimetype": "text/x-python",
   "name": "python",
   "nbconvert_exporter": "python",
   "pygments_lexer": "ipython2",
   "version": "2.7.10"
  }
 },
 "nbformat": 4,
 "nbformat_minor": 0
}
